{
 "cells": [
  {
   "cell_type": "markdown",
   "id": "e057e62e",
   "metadata": {},
   "source": [
    "# DSSATTools Tutorial\n",
    "\n",
    "In this notebook you'll see the basic usage of DSSATools library to:\n",
    "1. Create the inputs\n",
    "2. Initialize the simulation environment\n",
    "3. Run simulations\n",
    "4. Modify input objects\n",
    "5. Read outputs.\n",
    "\n",
    "In this notebook you'll be guided through the most important features of the library. If you're familiar to DSSAT, then most of the concepts here introduced won't be new. If you're new to DSSAT then I strongly recommend you to go over the desktop app and its basic documentation."
   ]
  },
  {
   "cell_type": "code",
   "execution_count": 1,
   "id": "2b88ac7d",
   "metadata": {},
   "outputs": [],
   "source": [
    "from DSSATTools import (\n",
    "    Crop, SoilProfile, Weather, Management, DSSAT, SoilLayer,\n",
    "    available_cultivars\n",
    ")\n",
    "import DSSATTools\n",
    "import pandas as pd\n",
    "from datetime import datetime, timedelta\n",
    "import numpy as np"
   ]
  },
  {
   "cell_type": "markdown",
   "id": "56d23ccb",
   "metadata": {},
   "source": [
    "### Create a WeatherData instance\n",
    "\n",
    "To perform a simulation we need to provide for different elements: Weather, Crop, Soil and Managment. All those elements play an important role in the soil-plant-atmosphere system. This library provides four classes to define those four elements. The first element to be defined in this tutorial is the weather. The `Weather` class provides an interface to define the weather data that will be used by DSSAT. Regardless of the data source (surface stations, weather generators, reanalysis models, etc.) you must provide the data as a pandas DataFrame, the details of the station (Longitude, latitude, elevation) and a dict mapping each DataFrame column to a required DSSAT weather Variable. \n",
    "\n",
    "To check the weather variables that can be passed to DSSAT use the next function:"
   ]
  },
  {
   "cell_type": "code",
   "execution_count": 2,
   "id": "95eccba6",
   "metadata": {},
   "outputs": [
    {
     "name": "stdout",
     "output_type": "stream",
     "text": [
      "DATE: Date, year + days from Jan. 1\n",
      "SRAD: Daily solar radiation, MJ m-2 day-1\n",
      "TMAX: Daily temperature maximum, C\n",
      "TMIN: Daily temperature minimum, C\n",
      "RAIN: Daily rainfall (incl. snow), mm day-1\n",
      "DEWP: Daily dewpoint temperature average, C\n",
      "WIND: Daily wind speed (km d-1)\n",
      "PAR: Daily photosynthetic radiation, moles m-2 day-1\n",
      "EVAP: Daily pan evaporation (mm d-1)\n",
      "RHUM: Relative humidity average, %\n"
     ]
    }
   ],
   "source": [
    "DSSATTools.weather.list_weather_variables()"
   ]
  },
  {
   "cell_type": "markdown",
   "id": "48e3aa88",
   "metadata": {},
   "source": [
    "Not all variables are required. The variables that you use depend on your data availability and the methods used to simulate the different processes in the crop (i.e. Evapotranspiration).\n",
    "\n",
    "For this tutorial we'll initialize our `Weather` instance using fake weather data."
   ]
  },
  {
   "cell_type": "code",
   "execution_count": 3,
   "id": "999437bd",
   "metadata": {},
   "outputs": [
    {
     "data": {
      "text/html": [
       "<div>\n",
       "<style scoped>\n",
       "    .dataframe tbody tr th:only-of-type {\n",
       "        vertical-align: middle;\n",
       "    }\n",
       "\n",
       "    .dataframe tbody tr th {\n",
       "        vertical-align: top;\n",
       "    }\n",
       "\n",
       "    .dataframe thead th {\n",
       "        text-align: right;\n",
       "    }\n",
       "</style>\n",
       "<table border=\"1\" class=\"dataframe\">\n",
       "  <thead>\n",
       "    <tr style=\"text-align: right;\">\n",
       "      <th></th>\n",
       "      <th>tn</th>\n",
       "      <th>rad</th>\n",
       "      <th>prec</th>\n",
       "      <th>rh</th>\n",
       "      <th>TMAX</th>\n",
       "    </tr>\n",
       "  </thead>\n",
       "  <tbody>\n",
       "    <tr>\n",
       "      <th>2008-01-01</th>\n",
       "      <td>8.043462</td>\n",
       "      <td>13.824409</td>\n",
       "      <td>0.0</td>\n",
       "      <td>10.897689</td>\n",
       "      <td>11.098390</td>\n",
       "    </tr>\n",
       "    <tr>\n",
       "      <th>2008-01-02</th>\n",
       "      <td>11.579064</td>\n",
       "      <td>6.707478</td>\n",
       "      <td>0.0</td>\n",
       "      <td>93.257426</td>\n",
       "      <td>14.335268</td>\n",
       "    </tr>\n",
       "    <tr>\n",
       "      <th>2008-01-03</th>\n",
       "      <td>9.767416</td>\n",
       "      <td>20.162002</td>\n",
       "      <td>0.0</td>\n",
       "      <td>58.279148</td>\n",
       "      <td>12.737142</td>\n",
       "    </tr>\n",
       "    <tr>\n",
       "      <th>2008-01-04</th>\n",
       "      <td>15.988123</td>\n",
       "      <td>12.384802</td>\n",
       "      <td>0.0</td>\n",
       "      <td>15.851498</td>\n",
       "      <td>17.161463</td>\n",
       "    </tr>\n",
       "    <tr>\n",
       "      <th>2008-01-05</th>\n",
       "      <td>7.269379</td>\n",
       "      <td>20.161662</td>\n",
       "      <td>0.0</td>\n",
       "      <td>80.534821</td>\n",
       "      <td>10.822562</td>\n",
       "    </tr>\n",
       "  </tbody>\n",
       "</table>\n",
       "</div>"
      ],
      "text/plain": [
       "                   tn        rad  prec         rh       TMAX\n",
       "2008-01-01   8.043462  13.824409   0.0  10.897689  11.098390\n",
       "2008-01-02  11.579064   6.707478   0.0  93.257426  14.335268\n",
       "2008-01-03   9.767416  20.162002   0.0  58.279148  12.737142\n",
       "2008-01-04  15.988123  12.384802   0.0  15.851498  17.161463\n",
       "2008-01-05   7.269379  20.161662   0.0  80.534821  10.822562"
      ]
     },
     "execution_count": 3,
     "metadata": {},
     "output_type": "execute_result"
    }
   ],
   "source": [
    "# Random weather data\n",
    "DATES = pd.date_range('2008-01-01', '2010-12-31')\n",
    "N = len(DATES)\n",
    "df = pd.DataFrame(\n",
    "    {\n",
    "    'tn': np.random.gamma(10, 1, N),\n",
    "    'rad': np.random.gamma(10, 1.5, N),\n",
    "    'prec': [0.0]* N,\n",
    "    'rh': 100 * np.random.beta(1.5, 1.15, N),\n",
    "    },\n",
    "    index=DATES,\n",
    ")\n",
    "df['TMAX'] = df.tn + np.random.gamma(5., .5, N)\n",
    "df.head()"
   ]
  },
  {
   "cell_type": "code",
   "execution_count": 4,
   "id": "ff3eb00a",
   "metadata": {},
   "outputs": [
    {
     "data": {
      "text/plain": [
       "Weather data at -74.361°, 4.343°\n",
       "  Date start: 2008-01-01\n",
       "  Date end: 2010-12-31\n",
       "Average values:\n",
       "TMAX    12.506634\n",
       "TMIN    10.021835\n",
       "RAIN     0.000000\n",
       "SRAD    15.019526\n",
       "RHUM    57.011968\n",
       "dtype: float64"
      ]
     },
     "execution_count": 4,
     "metadata": {},
     "output_type": "execute_result"
    }
   ],
   "source": [
    "# Create a WheaterStation instance\n",
    "wth = Weather(\n",
    "    df, \n",
    "    {'tn': 'TMIN', 'TMAX': 'TMAX', 'prec': 'RAIN', \n",
    "     'rad': 'SRAD', 'rh': 'RHUM'}, \n",
    "    4.3434237,-74.3606715, 1800\n",
    ")\n",
    "wth"
   ]
  },
  {
   "cell_type": "markdown",
   "id": "aaa898ff",
   "metadata": {},
   "source": [
    "Note that for all the four basic classes, and the `Section` class have an implementation of the `__repr__` method. It means that you can display the variable in a human-readable form. The idea is to display the basic details of each element, as you can see with the `wth` object we just created."
   ]
  },
  {
   "cell_type": "markdown",
   "id": "f72d3da7",
   "metadata": {},
   "source": [
    "## Create a SoilProfile \n",
    "\n",
    "You can use a default soil profile, or you can create your own soil profile. To check the available soil profiles you can use the `help` function to check the docstring of the `SoilProfile` class:"
   ]
  },
  {
   "cell_type": "code",
   "execution_count": 5,
   "id": "44d88824",
   "metadata": {
    "scrolled": true
   },
   "outputs": [
    {
     "name": "stdout",
     "output_type": "stream",
     "text": [
      "Help on class SoilProfile in module DSSATTools.soil:\n",
      "\n",
      "class SoilProfile(builtins.object)\n",
      " |  SoilProfile(file: str = None, profile: str = None, default_class: str = None, pars: dict = {})\n",
      " |  \n",
      " |  Methods defined here:\n",
      " |  \n",
      " |  __init__(self, file: str = None, profile: str = None, default_class: str = None, pars: dict = {})\n",
      " |      Soil Profile class. It can be initialized from an existing file. It also \n",
      " |      can be initialized from scratch.  If a file is provided, then the soil is\n",
      " |      initialized as the soil profile with the matching profile id in the file.\n",
      " |      \n",
      " |      Arguments\n",
      " |      ----------\n",
      " |      file: str\n",
      " |          Optional. Path to the soil file.\n",
      " |      profile: str\n",
      " |          Optional. Must be passed if file argument is passed. It's the id of \n",
      " |          the profile within the file.\n",
      " |      pars: dict\n",
      " |          Dict with the non-layer soil parameters. \n",
      " |      default_class: str\n",
      " |          Optional. It's a string defining a DSSAT default soil class. If not \n",
      " |          None, then the SoilClass instance is initialized with the paremeters \n",
      " |          of the specified default_class. default_class must match any of the \n",
      " |          next codes: Sand=S; Loamy Sand=LS; Sandy Loam=SL; Loam=L; Silty \n",
      " |          Loam=SIL; Silt=SI; Sandy Clay Loam=SCL; Clay Loam=CL; Silty Clay \n",
      " |          Loam=SICL; Sandy Clay=SC; Silty Clay=SIC; Clay=C.\n",
      " |  \n",
      " |  __repr__(self)\n",
      " |      repr of the class defined in the DSSAT profile format.\n",
      " |  \n",
      " |  add_layer(self, layer: DSSATTools.soil.SoilLayer)\n",
      " |      Add a new layer to the Soil.\n",
      " |      \n",
      " |      Arguments\n",
      " |      ----------\n",
      " |      layer: DSSATTools.soil.SoilLayer\n",
      " |          Soil Layer object\n",
      " |  \n",
      " |  drop_layer(self, layer: int)\n",
      " |      Drop the layer at the specified depth\n",
      " |  \n",
      " |  set_parameter(self, parameter, value)\n",
      " |      Set the value of a soil parameter.\n",
      " |      \n",
      " |      Arguments\n",
      " |      ----------\n",
      " |      parameter: str\n",
      " |          Parameter name. You can use the DSSATTools.soil.list_parameters function to have a list of the parameters and their description.\n",
      " |      value: int, float, str\n",
      " |          Value for that parameter\n",
      " |  \n",
      " |  write(self, filename: str = 'SOIL.SOL')\n",
      " |      It's called by the DSSATTools.run.Dscsm.run() method to write the file.\n",
      " |      \n",
      " |      Arguments\n",
      " |      ----------\n",
      " |      filename: str\n",
      " |          Path to the file to write\n",
      " |  \n",
      " |  ----------------------------------------------------------------------\n",
      " |  Data descriptors defined here:\n",
      " |  \n",
      " |  __dict__\n",
      " |      dictionary for instance variables (if defined)\n",
      " |  \n",
      " |  __weakref__\n",
      " |      list of weak references to the object (if defined)\n",
      "\n"
     ]
    }
   ],
   "source": [
    "help(SoilProfile)"
   ]
  },
  {
   "cell_type": "markdown",
   "id": "e870ac38",
   "metadata": {},
   "source": [
    "So, we'll define a Loamy soil:"
   ]
  },
  {
   "cell_type": "code",
   "execution_count": 6,
   "id": "6c6c8721",
   "metadata": {},
   "outputs": [
    {
     "data": {
      "text/plain": [
       "*IUBF970211  SOREN-  IA  L       210 Ritchie 6/12/97  Loam\n",
       "@SITE        COUNTRY          LAT     LONG SCS FAMILY\n",
       " -99         -99             2.000   -0.099 unknown                             \n",
       "@ SCOM  SALB  SLU1  SLDR  SLRO  SLNF  SLPF  SMHB  SMPX  SMKE\n",
       "   -99  0.09   7.0  0.55  60.0  0.50  0.92 IB001 IB001 IB001\n",
       "@  SLB  SLMH  SLLL  SDUL  SSAT  SRGF  SSKS  SBDM  SLOC  SLCL  SLSI  SLCF  SLNI  SLHW  SLHB  SCEC  SADC\n",
       "     5   -99 0.163 0.340 0.465 1.000 79.00  1.31  2.03  26.0  36.0   -99   -99   6.4   -99   -99   -99\n",
       "    15   -99 0.163 0.340 0.438 1.000 79.00  1.39  2.03  26.0  36.0   -99   -99   6.4   -99   -99   -99\n",
       "    30   -99 0.173 0.350 0.451 1.000 79.00  1.35  2.03  27.0  37.0   -99   -99   6.4   -99   -99   -99\n",
       "    45   -99 0.193 0.350 0.458 1.000 79.00  1.33  2.03  27.0  37.0   -99   -99   6.4   -99   -99   -99\n",
       "    60   -99 0.193 0.350 0.451 1.000 79.00  1.35  0.44  27.0  37.0   -99   -99   6.7   -99   -99   -99\n",
       "    75   -99 0.173 0.350 0.458 1.000 79.00  1.33  0.44  29.0  36.0   -99   -99   6.7   -99   -99   -99\n",
       "    90   -99 0.173 0.350 0.458 1.000 79.00  1.33  0.44  29.0  36.0   -99   -99   6.7   -99   -99   -99\n",
       "   105   -99 0.163 0.330 0.434 0.850 79.00  1.40  0.15  20.0  28.0   -99   -99   7.9   -99   -99   -99\n",
       "   120   -99 0.163 0.330 0.410 0.700 79.00  1.47  0.15  20.0  28.0   -99   -99   7.9   -99   -99   -99\n",
       "   135   -99 0.163 0.330 0.396 0.550 79.00  1.51  0.15  18.0  31.0   -99   -99   7.9   -99   -99   -99\n",
       "   150   -99 0.163 0.330 0.403 0.400 79.00  1.49  0.15  18.0  31.0   -99   -99   7.9   -99   -99   -99\n",
       "   165   -99 0.163 0.330 0.403 0.300 79.00  1.49  0.15  18.0  31.0   -99   -99   7.9   -99   -99   -99\n",
       "   180   -99 0.163 0.330 0.403 0.200 79.00  1.49  0.15  18.0  31.0   -99   -99   7.9   -99   -99   -99\n",
       "   195   -99 0.163 0.330 0.403 0.100 79.00  1.49  0.15  18.0  31.0   -99   -99   7.9   -99   -99   -99\n",
       "   210   -99 0.163 0.330 0.403 0.000 79.00  1.49  0.15  18.0  31.0   -99   -99   7.9   -99   -99   -99"
      ]
     },
     "execution_count": 6,
     "metadata": {},
     "output_type": "execute_result"
    }
   ],
   "source": [
    "# Soil instance from default soil profile\n",
    "soil = SoilProfile(default_class='L')\n",
    "soil"
   ]
  },
  {
   "cell_type": "markdown",
   "id": "725c0259",
   "metadata": {},
   "source": [
    "That's the easy way of definig your soil. However, if you have enough data you can define your soil. A `SoilProfile` object is a series of stacked `SoilLayer` objects. Each layer can have different properties, and you can define them separately. You define your custom soil profile in two steps:\n",
    "\n",
    "1. Initialize the instance. A dictionary with the profile properties have to be defined. \n",
    "2. Create the soil layers that will conform that SoilProfile. You need to indicate the depth and properties of that layer.\n",
    "3. Add the layers to the soil.\n",
    "\n",
    "For each layer you can define the as many parameters as you want. However, if you only have the soil texture, the rest of the parameters will be calculated from the texture. That's what we'll do next:"
   ]
  },
  {
   "cell_type": "code",
   "execution_count": 7,
   "id": "372eb6cc",
   "metadata": {},
   "outputs": [
    {
     "data": {
      "text/plain": [
       "*IB12345678  Soil profile\n",
       "@SITE        COUNTRY          LAT     LONG SCS FAMILY\n",
       "   Huntsville      AL-USA   34.725  -86.645                               Custom\n",
       "@ SCOM  SALB  SLU1  SLDR  SLRO  SLNF  SLPF  SMHB  SMPX  SMKE\n",
       "   -99  0.25   6.0  0.50  60.0  1.00  0.80 IB001 IB001 IB001\n",
       "@  SLB  SLMH  SLLL  SDUL  SSAT  SRGF  SSKS  SBDM  SLOC  SLCL  SLSI  SLCF  SLNI  SLHW  SLHB  SCEC  SADC\n",
       "    20   -99 0.305 0.486 0.514 1.000  0.72  1.42  0.80  50.0  45.0   -99   -99   -99   -99   -99   -99\n",
       "    50   -99 0.224 0.387 0.415 0.497  0.24  1.38  0.80  30.0  30.0   -99   -99   -99   -99   -99   -99\n",
       "    80   -99 0.232 0.396 0.423 0.273  0.23  1.39  0.80  32.0  31.0   -99   -99   -99   -99   -99   -99\n",
       "   110   -99 0.227 0.401 0.425 0.150  0.28  1.39  0.80  30.0  35.0   -99   -99   -99   -99   -99   -99\n",
       "   140   -99 0.207 0.377 0.403 0.082  0.33  1.38  0.80  24.0  33.0   -99   -99   -99   -99   -99   -99\n",
       "   170   -99 0.193 0.359 0.390 0.045  0.56  1.37  0.80  20.0  30.0   -99   -99   -99   -99   -99   -99"
      ]
     },
     "execution_count": 7,
     "metadata": {},
     "output_type": "execute_result"
    }
   ],
   "source": [
    "soilprofile = SoilProfile(\n",
    "    pars={\n",
    "        'SALB': 0.25, # Albedo\n",
    "        'SLU1': 6, # Stage 1 Evaporation (mm)\n",
    "        'SLPF': 0.8 # Soil fertility factor\n",
    "    }\n",
    ")\n",
    "layers = [\n",
    "    SoilLayer(20, {'SLCL': 50, 'SLSI': 45}),\n",
    "    SoilLayer(50, {'SLCL': 30, 'SLSI': 30}),\n",
    "    SoilLayer(80, {'SLCL': 32, 'SLSI': 31}),\n",
    "    SoilLayer(110, {'SLCL': 30, 'SLSI': 35}),\n",
    "    SoilLayer(140, {'SLCL': 24, 'SLSI': 33}),\n",
    "    SoilLayer(170, {'SLCL': 20, 'SLSI': 30})\n",
    "]\n",
    "for layer in layers: soilprofile.add_layer(layer)\n",
    "soilprofile"
   ]
  },
  {
   "cell_type": "markdown",
   "id": "02f30878",
   "metadata": {},
   "source": [
    "## Create a Crop object from default crop file\n",
    "\n",
    "The crop is the easiest part. You just have to indicate the crop name, and the cultivar. If you don't know what cultivars are available you can use the `available_cultivars` function:"
   ]
  },
  {
   "cell_type": "code",
   "execution_count": 8,
   "id": "be5d8e28",
   "metadata": {
    "scrolled": true
   },
   "outputs": [
    {
     "data": {
      "text/plain": [
       "['999991',\n",
       " '999992',\n",
       " 'PC0001',\n",
       " 'PC0002',\n",
       " 'PC0003',\n",
       " 'PC0004',\n",
       " 'PC0005',\n",
       " '990001',\n",
       " '990002',\n",
       " '990003',\n",
       " '990004',\n",
       " 'IB0001',\n",
       " 'IB0002',\n",
       " 'IB0003',\n",
       " 'IB0004',\n",
       " 'IB0005',\n",
       " 'IB0006',\n",
       " 'IB0007',\n",
       " 'IB0008',\n",
       " 'IB0009',\n",
       " 'IB0010',\n",
       " 'IB0011',\n",
       " 'IB0012',\n",
       " 'IB0013',\n",
       " 'IB0014',\n",
       " 'IB0015',\n",
       " 'IB0016',\n",
       " 'IB0017',\n",
       " 'IB0018',\n",
       " 'IB0019',\n",
       " 'IB0020',\n",
       " 'IB0021',\n",
       " 'IB0022',\n",
       " 'IB0023',\n",
       " 'IB0024',\n",
       " 'IB0025',\n",
       " 'IB0026',\n",
       " 'IB0027',\n",
       " 'IB0028',\n",
       " 'IB0029',\n",
       " 'IB0030',\n",
       " 'IB0031',\n",
       " 'IB0032',\n",
       " 'IB0033',\n",
       " 'IB0034',\n",
       " 'IB0035',\n",
       " 'IB0036',\n",
       " 'IB0037',\n",
       " 'IB0038',\n",
       " 'IB0039',\n",
       " 'IB0040',\n",
       " 'IB0041',\n",
       " 'IB0042',\n",
       " 'IB0043',\n",
       " 'IB0044',\n",
       " 'IB0045',\n",
       " 'IB0046',\n",
       " 'IB0047',\n",
       " 'IB0048',\n",
       " 'IB0049',\n",
       " 'IB0050',\n",
       " 'IB0051',\n",
       " 'IB0052',\n",
       " 'IB0053',\n",
       " 'IB0054',\n",
       " 'IB0055',\n",
       " 'IB0056',\n",
       " 'IB0057',\n",
       " 'IB0058',\n",
       " 'IB0059',\n",
       " 'IB0060',\n",
       " 'IB0061',\n",
       " 'IB0062',\n",
       " 'IB0063',\n",
       " 'IB0064',\n",
       " 'IB0065',\n",
       " 'IB0066',\n",
       " 'IB0067',\n",
       " 'IB0068',\n",
       " 'IB0168',\n",
       " 'IB0069',\n",
       " 'IB0070',\n",
       " 'IB0071',\n",
       " 'IB0089',\n",
       " 'IB0090',\n",
       " 'IB0091',\n",
       " 'IB0092',\n",
       " 'IB0093',\n",
       " 'IB0099',\n",
       " 'IB0100',\n",
       " 'IB1051',\n",
       " 'IB1052',\n",
       " 'IB1053',\n",
       " 'IB0154',\n",
       " 'IB0155',\n",
       " 'IB0171',\n",
       " 'IB0172',\n",
       " 'IB0173',\n",
       " 'IB0174',\n",
       " 'IB0185',\n",
       " 'IB1065',\n",
       " 'IB1066',\n",
       " 'IB1067',\n",
       " 'IB1069',\n",
       " 'IB1072',\n",
       " 'IB1068',\n",
       " 'IB1168',\n",
       " 'LL0499',\n",
       " 'LL0564',\n",
       " 'LL0581',\n",
       " 'LL0599',\n",
       " 'LL0542',\n",
       " 'LL0661',\n",
       " 'LL0674',\n",
       " 'ZA0001',\n",
       " 'ZA0002',\n",
       " 'IF0001',\n",
       " 'IF0002',\n",
       " 'IF0003',\n",
       " 'IF0004',\n",
       " 'IF0005',\n",
       " 'IF0006',\n",
       " 'IF0007',\n",
       " 'IF0008',\n",
       " 'IF0009',\n",
       " 'IF0010',\n",
       " 'IF0011',\n",
       " 'AC0001',\n",
       " 'VI0001',\n",
       " 'IM0001',\n",
       " 'IM0002',\n",
       " 'IM0003',\n",
       " 'IF0018',\n",
       " 'IF0019',\n",
       " 'IF0020',\n",
       " 'IF0021',\n",
       " 'IF0022',\n",
       " 'IB0067',\n",
       " 'KA0001',\n",
       " 'EM0001',\n",
       " 'KY0001',\n",
       " 'KY0002',\n",
       " 'KY0003',\n",
       " 'KY0004',\n",
       " 'KY0005',\n",
       " 'KY0006',\n",
       " 'KY0007',\n",
       " 'KY0008',\n",
       " 'KY0009',\n",
       " 'KY0010',\n",
       " 'KY0011',\n",
       " 'KY0012',\n",
       " 'KY0013',\n",
       " 'KY0014',\n",
       " 'KY0015',\n",
       " 'KY0016',\n",
       " 'KY0017',\n",
       " 'KY0018',\n",
       " 'GH0010',\n",
       " 'GF0001',\n",
       " 'GF0101',\n",
       " 'GF0201',\n",
       " 'GF0301',\n",
       " 'GF0401',\n",
       " 'GF0501',\n",
       " 'CYMA01',\n",
       " 'EBSL06',\n",
       " 'IB0200',\n",
       " 'SC0403',\n",
       " 'SC0513',\n",
       " 'ZM0521']"
      ]
     },
     "execution_count": 8,
     "metadata": {},
     "output_type": "execute_result"
    }
   ],
   "source": [
    "available_cultivars(\"maize\")"
   ]
  },
  {
   "cell_type": "code",
   "execution_count": 9,
   "id": "0cd2fc03",
   "metadata": {},
   "outputs": [],
   "source": [
    "crop = Crop(\"maize\", 'IB0001')"
   ]
  },
  {
   "cell_type": "markdown",
   "id": "d3e40669",
   "metadata": {},
   "source": [
    "The crop parameters can be accessed and modified in two attributes: cultivar and ecotype. Those attributes are defined as a `Section` class. You can check the parameters hosted by that section by printing the object:"
   ]
  },
  {
   "cell_type": "code",
   "execution_count": 10,
   "id": "a2155a65",
   "metadata": {},
   "outputs": [
    {
     "data": {
      "text/plain": [
       "Cultivar section\n",
       "  Maize crop\n",
       "  Parameters:\n",
       "    @VAR#: IB0001\n",
       "    VRNAME..........: CORNL281        \n",
       "    EXPNO:     .\n",
       "    ECO#: IB0001\n",
       "    P1: 110.0\n",
       "    P2: 0.3\n",
       "    P5: 685.0\n",
       "    G2: 907.9\n",
       "    G3: 6.6\n",
       "    PHINT: 38.9"
      ]
     },
     "execution_count": 10,
     "metadata": {},
     "output_type": "execute_result"
    }
   ],
   "source": [
    "crop.cultivar"
   ]
  },
  {
   "cell_type": "markdown",
   "id": "2bda2252",
   "metadata": {},
   "source": [
    "Of course, you can modify the parameters using the usual key, value notation:"
   ]
  },
  {
   "cell_type": "code",
   "execution_count": 11,
   "id": "9b515ff9",
   "metadata": {},
   "outputs": [
    {
     "data": {
      "text/plain": [
       "Cultivar section\n",
       "  Maize crop\n",
       "  Parameters:\n",
       "    @VAR#: IB0001\n",
       "    VRNAME..........: CORNL281        \n",
       "    EXPNO:     .\n",
       "    ECO#: IB0001\n",
       "    P1: 105.0\n",
       "    P2: 0.3\n",
       "    P5: 685.0\n",
       "    G2: 907.9\n",
       "    G3: 6.6\n",
       "    PHINT: 38.9"
      ]
     },
     "execution_count": 11,
     "metadata": {},
     "output_type": "execute_result"
    }
   ],
   "source": [
    "crop.cultivar[\"P1\"] = 105.\n",
    "crop.cultivar"
   ]
  },
  {
   "cell_type": "markdown",
   "id": "b03a1c99",
   "metadata": {},
   "source": [
    "Now if you check the ecotype section you can see that the value changed. Of course you can only read and modify the existing parameters in the section, you can't add new parameters, and some parameters can't be modified."
   ]
  },
  {
   "cell_type": "markdown",
   "id": "3ce6d4e1",
   "metadata": {},
   "source": [
    "## Create a management instance\n",
    "\n",
    "The `Management` parameters are defined in the same way as the `Crop` parameters. Different sections are defined in `Section` objects that are attributes of the `Management` object. The parameters can be modified the same way. When initializing the Managament instance the only mandatory parameter is the planting date. You can check all the options using `help`:"
   ]
  },
  {
   "cell_type": "code",
   "execution_count": 12,
   "id": "d0e7c2cd",
   "metadata": {
    "scrolled": true
   },
   "outputs": [
    {
     "name": "stdout",
     "output_type": "stream",
     "text": [
      "Help on class Management in module DSSATTools.management:\n",
      "\n",
      "class Management(builtins.object)\n",
      " |  Management(planting_date: datetime.datetime, sim_start: datetime.datetime = None, emergence_date: datetime.datetime = None, initial_swc: float = 0.5, irrigation='N', fertilization='N', harvest='M', organic_matter='G')\n",
      " |  \n",
      " |  Methods defined here:\n",
      " |  \n",
      " |  __init__(self, planting_date: datetime.datetime, sim_start: datetime.datetime = None, emergence_date: datetime.datetime = None, initial_swc: float = 0.5, irrigation='N', fertilization='N', harvest='M', organic_matter='G')\n",
      " |      Initializes a management instance.\n",
      " |      \n",
      " |      Arguments\n",
      " |      ----------\n",
      " |      planting_date: datetime\n",
      " |          Planting date.\n",
      " |      sim_start: datetime\n",
      " |          Date for start of the simulation. If None, it'll be calculated as the\n",
      " |          previous day to the planting date.\n",
      " |      emergence_date: datetime\n",
      " |          Emergence date. If None, I'll be calculated as 5 days after planting.\n",
      " |      initial_swc: int\n",
      " |          Fraction of the total available water (FC - PWP) at the start of the\n",
      " |          simulation. .5(50%) is the default value.\n",
      " |      irrigation: str\n",
      " |          Default 'N'. Irrigation management option, options available are:\n",
      " |              A        Automatic when required\n",
      " |              N        Not irrigated\n",
      " |              F        Fixed amount automatic\n",
      " |              R        On reported dates\n",
      " |              D        Days after planting\n",
      " |              P        As reported through last day, then automatic to re-fill (A)\n",
      " |              W        As reported through last day, then automatic with fixed\n",
      " |                      amount (F)\n",
      " |      harvest: str\n",
      " |          Default 'M'. Harvest management options. available options are:\n",
      " |              A        Automatic      \n",
      " |              M        At maturity\n",
      " |              R        On reported date(s)\n",
      " |              D        Days after planting\n",
      " |      fertilization: str\n",
      " |          Default 'N'. Fertilization management options. available options are:\n",
      " |              N        Not fertilized\n",
      " |              R        On reported dates\n",
      " |              D        Days after planting\n",
      " |      organic_matter: str\n",
      " |          Default 'G'. Fertilization management options. available options are:\n",
      " |              G        Ceres (Godiwn)\n",
      " |              P        Century (Parton)\n",
      " |  \n",
      " |  __repr__(self)\n",
      " |      Return repr(self).\n",
      " |  \n",
      " |  write(self, filename='EXP', expname='DEFAULT')\n",
      " |  \n",
      " |  write_mow(self, filename)\n",
      " |  \n",
      " |  ----------------------------------------------------------------------\n",
      " |  Data descriptors defined here:\n",
      " |  \n",
      " |  __dict__\n",
      " |      dictionary for instance variables (if defined)\n",
      " |  \n",
      " |  __weakref__\n",
      " |      list of weak references to the object (if defined)\n",
      "\n"
     ]
    }
   ],
   "source": [
    "help(Management)"
   ]
  },
  {
   "cell_type": "code",
   "execution_count": 13,
   "id": "6df91167",
   "metadata": {
    "scrolled": true
   },
   "outputs": [],
   "source": [
    "man = Management(\n",
    "    planting_date=DATES[10],\n",
    ")\n",
    "# Modify irrigation to non-irrigated\n",
    "man.simulation_controls['IRRIG'] = \"N\""
   ]
  },
  {
   "cell_type": "markdown",
   "id": "31fe4bb7",
   "metadata": {},
   "source": [
    "Some of the options are automatically defined when the simulation is running. The cultivar and field options is one example. Again, you can see the details of the different section:"
   ]
  },
  {
   "cell_type": "code",
   "execution_count": 14,
   "id": "5e6d6381",
   "metadata": {},
   "outputs": [
    {
     "data": {
      "text/plain": [
       "Planting Details section\n",
       "  Parameters:\n",
       "    PDATE: 08011\n",
       "    EDATE: 08016\n",
       "    PPOP: 16\n",
       "    PPOE: 15\n",
       "    PLME: S\n",
       "    PLDS: R\n",
       "    PLRS: 35\n",
       "    PLRD: None\n",
       "    PLDP: 4\n",
       "    PLWT: None\n",
       "    PAGE: None\n",
       "    PENV: None\n",
       "    PLPH: None\n",
       "    SPRL: None\n",
       "    PLNAME: None"
      ]
     },
     "execution_count": 14,
     "metadata": {},
     "output_type": "execute_result"
    }
   ],
   "source": [
    "# Check the planting details section\n",
    "man.planting_details"
   ]
  },
  {
   "cell_type": "markdown",
   "id": "c9a2753e",
   "metadata": {},
   "source": [
    "You can also see the description of each parameter in all of the management sections. For example:"
   ]
  },
  {
   "cell_type": "code",
   "execution_count": 16,
   "id": "ab88cb81",
   "metadata": {},
   "outputs": [
    {
     "name": "stdout",
     "output_type": "stream",
     "text": [
      "PDATE:\tPlanting date, year + days from Jan. 1\n",
      "EDATE:\tEmergence date, earliest treatment\n",
      "PPOP:\tPlant population at seeding, m-2\n",
      "PPOE:\tPlant population at emergence, m-2\n",
      "PLME:\tPlanting method, code\n",
      "PLDS:\tPlanting distribution, row R, broadcast B, hill H\n",
      "PLRS:\tRow spacing, cm\n",
      "PLRD:\tRow direction, degrees from N\n",
      "PLDP:\tPlanting depth, cm\n",
      "PLWT:\tPlanting material dry weight, kg ha-1\n",
      "PAGE:\tTransplant age, days\n",
      "PENV:\tTransplant environment, oC\n",
      "PLPH:\tPlants per hill (if appropriate)\n"
     ]
    }
   ],
   "source": [
    "man.planting_details.description"
   ]
  },
  {
   "cell_type": "markdown",
   "id": "d11cb11b",
   "metadata": {},
   "source": [
    "## Setup the simulation environment and run the model\n",
    "\n",
    "Finally, the `DSSAT` class initialize the so called \"Simulation environment\". It is simply a class that manages folders, files and parameters to run the simulation. When you call the `DSSAT.setup()` method, a temporary directory will be created and all the files that are required to run the model are copied into that folder. When you the `DSSAT.run()` method you need to pass the soil, crop, weather and management objects as arguments. When you do so, all the input files are created, the model is run, and the PlantGro.OUT file is loaded in the `DSSAT.output` attribute."
   ]
  },
  {
   "cell_type": "code",
   "execution_count": 15,
   "id": "ae21abf0",
   "metadata": {
    "scrolled": false
   },
   "outputs": [
    {
     "name": "stdout",
     "output_type": "stream",
     "text": [
      "/tmp/dssatsonexzob created.\n",
      "Static files copied to /tmp/dssatsonexzob.\n",
      "  Crop failure growth program terminated \n",
      "RUN    TRT FLO MAT TOPWT HARWT  RAIN  TIRR   CET  PESW  TNUP  TNLF   TSON TSOC\n",
      "           dap dap kg/ha kg/ha    mm    mm    mm    mm kg/ha kg/ha  kg/ha t/ha\n",
      "  1 MZ   1 -99 122   326     0     0     0    51   129     0   -99      0  176\n"
     ]
    }
   ],
   "source": [
    "dssat = DSSAT()\n",
    "dssat.setup()\n",
    "dssat.run(\n",
    "    soil=soil, weather=wth, crop=crop, management=man,\n",
    ")"
   ]
  },
  {
   "cell_type": "code",
   "execution_count": 16,
   "id": "db957740",
   "metadata": {},
   "outputs": [
    {
     "data": {
      "text/html": [
       "<div>\n",
       "<style scoped>\n",
       "    .dataframe tbody tr th:only-of-type {\n",
       "        vertical-align: middle;\n",
       "    }\n",
       "\n",
       "    .dataframe tbody tr th {\n",
       "        vertical-align: top;\n",
       "    }\n",
       "\n",
       "    .dataframe thead th {\n",
       "        text-align: right;\n",
       "    }\n",
       "</style>\n",
       "<table border=\"1\" class=\"dataframe\">\n",
       "  <thead>\n",
       "    <tr style=\"text-align: right;\">\n",
       "      <th></th>\n",
       "      <th>@YEAR</th>\n",
       "      <th>DOY</th>\n",
       "      <th>DAS</th>\n",
       "      <th>DAP</th>\n",
       "      <th>L#SD</th>\n",
       "      <th>GSTD</th>\n",
       "      <th>LAID</th>\n",
       "      <th>LWAD</th>\n",
       "      <th>SWAD</th>\n",
       "      <th>GWAD</th>\n",
       "      <th>...</th>\n",
       "      <th>RL7D</th>\n",
       "      <th>RL8D</th>\n",
       "      <th>RL9D</th>\n",
       "      <th>RL10D</th>\n",
       "      <th>CDAD</th>\n",
       "      <th>LDAD</th>\n",
       "      <th>SDAD</th>\n",
       "      <th>SNW0C</th>\n",
       "      <th>SNW1C</th>\n",
       "      <th>DTTD</th>\n",
       "    </tr>\n",
       "  </thead>\n",
       "  <tbody>\n",
       "    <tr>\n",
       "      <th>2008-01-11</th>\n",
       "      <td>2008</td>\n",
       "      <td>011</td>\n",
       "      <td>2</td>\n",
       "      <td>0</td>\n",
       "      <td>0.0</td>\n",
       "      <td>0</td>\n",
       "      <td>0.0</td>\n",
       "      <td>0</td>\n",
       "      <td>0</td>\n",
       "      <td>0</td>\n",
       "      <td>...</td>\n",
       "      <td>0.0</td>\n",
       "      <td>0.0</td>\n",
       "      <td>0.0</td>\n",
       "      <td>0.0</td>\n",
       "      <td>0</td>\n",
       "      <td>0</td>\n",
       "      <td>0</td>\n",
       "      <td>0</td>\n",
       "      <td>0</td>\n",
       "      <td>0.00</td>\n",
       "    </tr>\n",
       "    <tr>\n",
       "      <th>2008-01-12</th>\n",
       "      <td>2008</td>\n",
       "      <td>012</td>\n",
       "      <td>3</td>\n",
       "      <td>1</td>\n",
       "      <td>0.0</td>\n",
       "      <td>0</td>\n",
       "      <td>0.0</td>\n",
       "      <td>0</td>\n",
       "      <td>0</td>\n",
       "      <td>0</td>\n",
       "      <td>...</td>\n",
       "      <td>0.0</td>\n",
       "      <td>0.0</td>\n",
       "      <td>0.0</td>\n",
       "      <td>0.0</td>\n",
       "      <td>0</td>\n",
       "      <td>0</td>\n",
       "      <td>0</td>\n",
       "      <td>0</td>\n",
       "      <td>0</td>\n",
       "      <td>6.89</td>\n",
       "    </tr>\n",
       "    <tr>\n",
       "      <th>2008-01-13</th>\n",
       "      <td>2008</td>\n",
       "      <td>013</td>\n",
       "      <td>4</td>\n",
       "      <td>2</td>\n",
       "      <td>0.0</td>\n",
       "      <td>0</td>\n",
       "      <td>0.0</td>\n",
       "      <td>0</td>\n",
       "      <td>0</td>\n",
       "      <td>0</td>\n",
       "      <td>...</td>\n",
       "      <td>0.0</td>\n",
       "      <td>0.0</td>\n",
       "      <td>0.0</td>\n",
       "      <td>0.0</td>\n",
       "      <td>0</td>\n",
       "      <td>0</td>\n",
       "      <td>0</td>\n",
       "      <td>0</td>\n",
       "      <td>0</td>\n",
       "      <td>1.61</td>\n",
       "    </tr>\n",
       "    <tr>\n",
       "      <th>2008-01-14</th>\n",
       "      <td>2008</td>\n",
       "      <td>014</td>\n",
       "      <td>5</td>\n",
       "      <td>3</td>\n",
       "      <td>0.0</td>\n",
       "      <td>0</td>\n",
       "      <td>0.0</td>\n",
       "      <td>0</td>\n",
       "      <td>0</td>\n",
       "      <td>0</td>\n",
       "      <td>...</td>\n",
       "      <td>0.0</td>\n",
       "      <td>0.0</td>\n",
       "      <td>0.0</td>\n",
       "      <td>0.0</td>\n",
       "      <td>0</td>\n",
       "      <td>0</td>\n",
       "      <td>0</td>\n",
       "      <td>0</td>\n",
       "      <td>0</td>\n",
       "      <td>4.31</td>\n",
       "    </tr>\n",
       "    <tr>\n",
       "      <th>2008-01-15</th>\n",
       "      <td>2008</td>\n",
       "      <td>015</td>\n",
       "      <td>6</td>\n",
       "      <td>4</td>\n",
       "      <td>0.0</td>\n",
       "      <td>0</td>\n",
       "      <td>0.0</td>\n",
       "      <td>0</td>\n",
       "      <td>0</td>\n",
       "      <td>0</td>\n",
       "      <td>...</td>\n",
       "      <td>0.0</td>\n",
       "      <td>0.0</td>\n",
       "      <td>0.0</td>\n",
       "      <td>0.0</td>\n",
       "      <td>0</td>\n",
       "      <td>0</td>\n",
       "      <td>0</td>\n",
       "      <td>0</td>\n",
       "      <td>0</td>\n",
       "      <td>1.19</td>\n",
       "    </tr>\n",
       "  </tbody>\n",
       "</table>\n",
       "<p>5 rows × 50 columns</p>\n",
       "</div>"
      ],
      "text/plain": [
       "           @YEAR  DOY  DAS  DAP  L#SD  GSTD  LAID  LWAD  SWAD  GWAD  ...  \\\n",
       "2008-01-11  2008  011    2    0   0.0     0   0.0     0     0     0  ...   \n",
       "2008-01-12  2008  012    3    1   0.0     0   0.0     0     0     0  ...   \n",
       "2008-01-13  2008  013    4    2   0.0     0   0.0     0     0     0  ...   \n",
       "2008-01-14  2008  014    5    3   0.0     0   0.0     0     0     0  ...   \n",
       "2008-01-15  2008  015    6    4   0.0     0   0.0     0     0     0  ...   \n",
       "\n",
       "            RL7D  RL8D  RL9D  RL10D  CDAD  LDAD  SDAD  SNW0C  SNW1C  DTTD  \n",
       "2008-01-11   0.0   0.0   0.0    0.0     0     0     0      0      0  0.00  \n",
       "2008-01-12   0.0   0.0   0.0    0.0     0     0     0      0      0  6.89  \n",
       "2008-01-13   0.0   0.0   0.0    0.0     0     0     0      0      0  1.61  \n",
       "2008-01-14   0.0   0.0   0.0    0.0     0     0     0      0      0  4.31  \n",
       "2008-01-15   0.0   0.0   0.0    0.0     0     0     0      0      0  1.19  \n",
       "\n",
       "[5 rows x 50 columns]"
      ]
     },
     "execution_count": 16,
     "metadata": {},
     "output_type": "execute_result"
    }
   ],
   "source": [
    "# Save the output\n",
    "output_1 = dssat.output['PlantGro']\n",
    "output_1.head()"
   ]
  },
  {
   "cell_type": "markdown",
   "id": "00ea87f7",
   "metadata": {},
   "source": [
    "You can see that the model ran and the output was created. Now let's do something else. If you remember, we set the irrigation management parameter as non-irrigated. Now we can set it to irrigated when needed and compare."
   ]
  },
  {
   "cell_type": "code",
   "execution_count": 17,
   "id": "0a8a7413",
   "metadata": {},
   "outputs": [
    {
     "name": "stdout",
     "output_type": "stream",
     "text": [
      "RUN    TRT FLO MAT TOPWT HARWT  RAIN  TIRR   CET  PESW  TNUP  TNLF   TSON TSOC\n",
      "           dap dap kg/ha kg/ha    mm    mm    mm    mm kg/ha kg/ha  kg/ha t/ha\n",
      "  1 MZ   1 149 332 19333  9737     0   683   756   107     0   -99      0  176\n"
     ]
    }
   ],
   "source": [
    "# Modify management and run again\n",
    "man.simulation_controls['IRRIG'] = 'A' # Automatic Irrigation\n",
    "dssat.run(\n",
    "    soil=soil, weather=wth, crop=crop, management=man,\n",
    ")\n",
    "output_2 = dssat.output['PlantGro']"
   ]
  },
  {
   "cell_type": "markdown",
   "id": "bb8c108f",
   "metadata": {},
   "source": [
    "Finally, we'll modify the P1 cultivar parameter, and we'll assign the output to a new variable. Note how we can run several simulations using the same `DSSAT` instance. "
   ]
  },
  {
   "cell_type": "code",
   "execution_count": 18,
   "id": "7047ed8c",
   "metadata": {},
   "outputs": [
    {
     "name": "stdout",
     "output_type": "stream",
     "text": [
      "RUN    TRT FLO MAT TOPWT HARWT  RAIN  TIRR   CET  PESW  TNUP  TNLF   TSON TSOC\n",
      "           dap dap kg/ha kg/ha    mm    mm    mm    mm kg/ha kg/ha  kg/ha t/ha\n",
      "  1 MZ   1 115 297 13804  8028     0   617   666   131     0   -99      0  176\n"
     ]
    }
   ],
   "source": [
    "# Now modify a cultivar parameter and run that again\n",
    "crop.cultivar['P1'] = 50\n",
    "dssat.run(\n",
    "    soil=soil, weather=wth, crop=crop, management=man,\n",
    ")\n",
    "output_3 = dssat.output['PlantGro']"
   ]
  },
  {
   "cell_type": "markdown",
   "id": "aa079188",
   "metadata": {},
   "source": [
    "We can now plot the three different scenarios:"
   ]
  },
  {
   "cell_type": "code",
   "execution_count": 19,
   "id": "ecf35b21",
   "metadata": {},
   "outputs": [
    {
     "data": {
      "text/plain": [
       "<matplotlib.legend.Legend at 0x7f5693653d00>"
      ]
     },
     "execution_count": 19,
     "metadata": {},
     "output_type": "execute_result"
    },
    {
     "data": {
      "image/png": "[encoded data removed]",
      "text/plain": [
       "<Figure size 432x288 with 1 Axes>"
      ]
     },
     "metadata": {
      "needs_background": "light"
     },
     "output_type": "display_data"
    }
   ],
   "source": [
    "ax = output_1.CWAD.plot(label='Rainfed 0mm')\n",
    "output_2.CWAD.plot(label='Irrigation', ax=ax)\n",
    "output_3.CWAD.plot(label='Irrigation + Twitched parameter', ax=ax)\n",
    "ax.legend()"
   ]
  },
  {
   "cell_type": "markdown",
   "id": "88c6ad7a",
   "metadata": {},
   "source": [
    "Finally, we can close the simulation environment by calling `DSSAT.close()`. This will remove all the files and folders created to run the model."
   ]
  },
  {
   "cell_type": "code",
   "execution_count": 20,
   "id": "5a5bc6d0",
   "metadata": {},
   "outputs": [
    {
     "name": "stdout",
     "output_type": "stream",
     "text": [
      "/tmp/dssatsonexzob and its content has been removed.\n"
     ]
    }
   ],
   "source": [
    "dssat.close()"
   ]
  }
 ],
 "metadata": {
  "@webio": {
   "lastCommId": null,
   "lastKernelId": null
  },
  "kernelspec": {
   "display_name": "Python 3 (ipykernel)",
   "language": "python",
   "name": "python3"
  },
  "language_info": {
   "codemirror_mode": {
    "name": "ipython",
    "version": 3
   },
   "file_extension": ".py",
   "mimetype": "text/x-python",
   "name": "python",
   "nbconvert_exporter": "python",
   "pygments_lexer": "ipython3",
   "version": "3.9.12"
  }
 },
 "nbformat": 4,
 "nbformat_minor": 5
}
