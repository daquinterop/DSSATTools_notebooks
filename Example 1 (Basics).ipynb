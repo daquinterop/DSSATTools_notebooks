{
 "cells": [
  {
   "cell_type": "markdown",
   "id": "e057e62e",
   "metadata": {},
   "source": [
    "# DSSATTools Tutorial\n",
    "\n",
    "In this tutorial the DSSAT ITHY8001 Sorghum experiment will be reproduced using DSSATTools. DSSATTools serves as a wraper to the CSM. The idea is to run DSSAT simulations in a programmatic way in a similar way as it would be done using the DSSAT GUI and the data creation tools.\n",
    "\n",
    "If you are familiar to DSSAT, then this tutorial will only present a different way to do what you already know how to do using the GUI. If you are not familiar to DSSAT, then I recommend you to go over the [DSSAT Tutorials in youtube](https://www.youtube.com/@DSSATFoundation).\n",
    "\n",
    "The first step is importing the needed classes and modules:"
   ]
  },
  {
   "cell_type": "code",
   "execution_count": 4,
   "id": "369df3ae-551d-4f66-b606-137ac917ef79",
   "metadata": {},
   "outputs": [
    {
     "name": "stdout",
     "output_type": "stream",
     "text": [
      "Collecting DSSATTools\n",
      "  Downloading dssattools-3.0.0-py3-none-any.whl (9.3 MB)\n",
      "\u001b[2K     \u001b[38;2;114;156;31m━━━━━━━━━━━━━━━━━━━━━━━━━━━━━━━━━━━━━━━━\u001b[0m \u001b[32m9.3/9.3 MB\u001b[0m \u001b[31m6.6 MB/s\u001b[0m eta \u001b[36m0:00:00\u001b[0mm eta \u001b[36m0:00:01\u001b[0m[36m0:00:01\u001b[0mm\n",
      "\u001b[?25hRequirement already satisfied: idna in ./venv/lib/python3.10/site-packages (from DSSATTools) (3.10)\n",
      "Requirement already satisfied: pytest in ./venv/lib/python3.10/site-packages (from DSSATTools) (8.3.5)\n",
      "Requirement already satisfied: pytz in ./venv/lib/python3.10/site-packages (from DSSATTools) (2025.2)\n",
      "Requirement already satisfied: tomli in ./venv/lib/python3.10/site-packages (from DSSATTools) (2.2.1)\n",
      "Requirement already satisfied: pandas in ./venv/lib/python3.10/site-packages (from DSSATTools) (2.2.3)\n",
      "Requirement already satisfied: numpy in ./venv/lib/python3.10/site-packages (from DSSATTools) (2.2.4)\n",
      "Requirement already satisfied: certifi in ./venv/lib/python3.10/site-packages (from DSSATTools) (2025.1.31)\n",
      "Requirement already satisfied: toml in ./venv/lib/python3.10/site-packages (from DSSATTools) (0.10.2)\n",
      "Requirement already satisfied: charset-normalizer in ./venv/lib/python3.10/site-packages (from DSSATTools) (3.4.1)\n",
      "Requirement already satisfied: requests in ./venv/lib/python3.10/site-packages (from DSSATTools) (2.32.3)\n",
      "Requirement already satisfied: pytest-cov in ./venv/lib/python3.10/site-packages (from DSSATTools) (6.1.1)\n",
      "Requirement already satisfied: packaging in ./venv/lib/python3.10/site-packages (from DSSATTools) (24.2)\n",
      "Requirement already satisfied: pyparsing in ./venv/lib/python3.10/site-packages (from DSSATTools) (3.2.3)\n",
      "Requirement already satisfied: python-dateutil in ./venv/lib/python3.10/site-packages (from DSSATTools) (2.9.0.post0)\n",
      "Requirement already satisfied: pluggy in ./venv/lib/python3.10/site-packages (from DSSATTools) (1.5.0)\n",
      "Requirement already satisfied: rosetta-soil in ./venv/lib/python3.10/site-packages (from DSSATTools) (0.1.2)\n",
      "Requirement already satisfied: iniconfig in ./venv/lib/python3.10/site-packages (from DSSATTools) (2.1.0)\n",
      "Requirement already satisfied: py in ./venv/lib/python3.10/site-packages (from DSSATTools) (1.11.0)\n",
      "Requirement already satisfied: attrs in ./venv/lib/python3.10/site-packages (from DSSATTools) (25.3.0)\n",
      "Requirement already satisfied: six in ./venv/lib/python3.10/site-packages (from DSSATTools) (1.17.0)\n",
      "Requirement already satisfied: chardet in ./venv/lib/python3.10/site-packages (from DSSATTools) (5.2.0)\n",
      "Requirement already satisfied: coverage in ./venv/lib/python3.10/site-packages (from DSSATTools) (7.8.0)\n",
      "Requirement already satisfied: tzdata>=2022.7 in ./venv/lib/python3.10/site-packages (from pandas->DSSATTools) (2025.2)\n",
      "Requirement already satisfied: exceptiongroup>=1.0.0rc8 in ./venv/lib/python3.10/site-packages (from pytest->DSSATTools) (1.2.2)\n",
      "Requirement already satisfied: urllib3<3,>=1.21.1 in ./venv/lib/python3.10/site-packages (from requests->DSSATTools) (2.3.0)\n",
      "Installing collected packages: DSSATTools\n",
      "Successfully installed DSSATTools-3.0.0\n",
      "Note: you may need to restart the kernel to use updated packages.\n"
     ]
    }
   ],
   "source": [
    "# Install the library in case it is not installed\n",
    "%pip install DSSATTools"
   ]
  },
  {
   "cell_type": "code",
   "execution_count": 5,
   "id": "2b88ac7d",
   "metadata": {},
   "outputs": [
    {
     "name": "stderr",
     "output_type": "stream",
     "text": [
      "/home/diego/DSSATTools_notebooks/venv/lib/python3.10/site-packages/DSSATTools/__init__.py:105: DeprecationWarning: DSSATTools version 3.0.0 is a major upgrade and will not be backwards compatible with previous versions. If you are running code that was developed  using a previous DSSATTools version, then install DSSATTools version 2.1.6\n",
      "  warnings.warn(\n"
     ]
    }
   ],
   "source": [
    "from DSSATTools import (\n",
    "    crop, # module that contains the classes for the different crops.\n",
    "    WeatherStation, # class needed to define the Weather. \n",
    "    SoilProfile, SoilLayer, # classes that define the entire soil profile, and the soil layers within the soil profile\n",
    "    filex, # module that contains the clases for the FileX sections.\n",
    "    DSSAT # the simulation environment class.\n",
    ")\n",
    "import pandas as pd\n",
    "from datetime import datetime\n",
    "import tempfile\n",
    "import os"
   ]
  },
  {
   "cell_type": "markdown",
   "id": "fd9c54d0-db32-4f22-831c-7f829f9b30d9",
   "metadata": {},
   "source": [
    "**Weather**\n",
    "\n",
    "In this case, we will create the weather station using data from a DataFrame. The DataFrame will be created from DSSAT Weather files:"
   ]
  },
  {
   "cell_type": "code",
   "execution_count": 6,
   "id": "a44963bb-f921-4228-8c28-8d38e52c4ee3",
   "metadata": {},
   "outputs": [
    {
     "name": "stderr",
     "output_type": "stream",
     "text": [
      "<>:6: DeprecationWarning: invalid escape sequence '\\s'\n",
      "<>:6: DeprecationWarning: invalid escape sequence '\\s'\n",
      "/tmp/ipykernel_360636/267037138.py:6: DeprecationWarning: invalid escape sequence '\\s'\n",
      "  skiprows=3, sep=\"\\s+\"\n"
     ]
    },
    {
     "data": {
      "text/html": [
       "<div>\n",
       "<style scoped>\n",
       "    .dataframe tbody tr th:only-of-type {\n",
       "        vertical-align: middle;\n",
       "    }\n",
       "\n",
       "    .dataframe tbody tr th {\n",
       "        vertical-align: top;\n",
       "    }\n",
       "\n",
       "    .dataframe thead th {\n",
       "        text-align: right;\n",
       "    }\n",
       "</style>\n",
       "<table border=\"1\" class=\"dataframe\">\n",
       "  <thead>\n",
       "    <tr style=\"text-align: right;\">\n",
       "      <th></th>\n",
       "      <th>date</th>\n",
       "      <th>srad</th>\n",
       "      <th>tmax</th>\n",
       "      <th>tmin</th>\n",
       "      <th>rain</th>\n",
       "    </tr>\n",
       "  </thead>\n",
       "  <tbody>\n",
       "    <tr>\n",
       "      <th>0</th>\n",
       "      <td>1980-01-01</td>\n",
       "      <td>18.8</td>\n",
       "      <td>28.8</td>\n",
       "      <td>14.6</td>\n",
       "      <td>0.0</td>\n",
       "    </tr>\n",
       "    <tr>\n",
       "      <th>1</th>\n",
       "      <td>1980-01-02</td>\n",
       "      <td>16.9</td>\n",
       "      <td>29.3</td>\n",
       "      <td>14.6</td>\n",
       "      <td>0.0</td>\n",
       "    </tr>\n",
       "    <tr>\n",
       "      <th>2</th>\n",
       "      <td>1980-01-03</td>\n",
       "      <td>13.6</td>\n",
       "      <td>29.4</td>\n",
       "      <td>16.0</td>\n",
       "      <td>0.0</td>\n",
       "    </tr>\n",
       "    <tr>\n",
       "      <th>3</th>\n",
       "      <td>1980-01-04</td>\n",
       "      <td>18.3</td>\n",
       "      <td>28.4</td>\n",
       "      <td>16.6</td>\n",
       "      <td>0.0</td>\n",
       "    </tr>\n",
       "    <tr>\n",
       "      <th>4</th>\n",
       "      <td>1980-01-05</td>\n",
       "      <td>18.7</td>\n",
       "      <td>28.7</td>\n",
       "      <td>18.3</td>\n",
       "      <td>0.0</td>\n",
       "    </tr>\n",
       "  </tbody>\n",
       "</table>\n",
       "</div>"
      ],
      "text/plain": [
       "        date  srad  tmax  tmin  rain\n",
       "0 1980-01-01  18.8  28.8  14.6   0.0\n",
       "1 1980-01-02  16.9  29.3  14.6   0.0\n",
       "2 1980-01-03  13.6  29.4  16.0   0.0\n",
       "3 1980-01-04  18.3  28.4  16.6   0.0\n",
       "4 1980-01-05  18.7  28.7  18.3   0.0"
      ]
     },
     "execution_count": 6,
     "metadata": {},
     "output_type": "execute_result"
    }
   ],
   "source": [
    "# Create DataFrame from DSSAT Weather files\n",
    "df = []\n",
    "for year in range(80, 82):\n",
    "    df.append(pd.read_csv(\n",
    "        f'https://github.com/DSSAT/dssat-csm-data/blob/develop/Weather/ITHY{year}01.WTH?raw=true',\n",
    "        skiprows=3, sep=\"\\s+\"\n",
    "    ))\n",
    "df = pd.concat(df, ignore_index=True)\n",
    "df.columns = ['date', 'srad', 'tmax', 'tmin', 'rain']\n",
    "df[\"date\"] = pd.to_datetime(df.date, format='%y%j')\n",
    "df.head()"
   ]
  },
  {
   "cell_type": "code",
   "execution_count": 7,
   "id": "72dcbcbd-20aa-4c3a-b376-a33c4bddd900",
   "metadata": {},
   "outputs": [
    {
     "data": {
      "text/plain": [
       "WeatherStation(insi='ITHY', lat=17.53, long=78.27, elev=0.0, tav=25.8, amp=11.8, refht=2.0, wndht=3.0, cco2=nan, table=\n",
       "   DATE  SRAD  TMAX  TMIN  RAIN  DEWP  WIND   PAR  EVAP  RHUM \n",
       "1980001  18.8  28.8  14.6   0.0   -99   -99   -99   -99   -99\n",
       "1980002  16.9  29.3  14.6   0.0   -99   -99   -99   -99   -99\n",
       "1980003  13.6  29.4  16.0   0.0   -99   -99   -99   -99   -99\n",
       "1980004  18.3  28.4  16.6   0.0   -99   -99   -99   -99   -99\n",
       "1980005  18.7  28.7  18.3   0.0   -99   -99   -99   -99   -99\n",
       "1980006  17.0  28.7  18.2   0.0   -99   -99   -99   -99   -99\n",
       "...\n",
       "...)"
      ]
     },
     "execution_count": 7,
     "metadata": {},
     "output_type": "execute_result"
    }
   ],
   "source": [
    "# Create weather station using the DataFrame\n",
    "weather_station = WeatherStation(\n",
    "    insi='ITHY', lat=17.530, long=78.270, elev=0, tav=25.8, \n",
    "    amp=11.8, refht=2.0, wndht=3.0, table=df\n",
    ")\n",
    "weather_station"
   ]
  },
  {
   "cell_type": "markdown",
   "id": "64b0fce9-39ae-4f1f-8819-382140729a5d",
   "metadata": {},
   "source": [
    "**Soil**\n",
    "\n",
    "The soil profile can be created by entering all the soil surface properties, and all the layers' propeties:"
   ]
  },
  {
   "cell_type": "code",
   "execution_count": 8,
   "id": "49978ca2-3060-4af1-ab2d-1832c0a8e70e",
   "metadata": {},
   "outputs": [
    {
     "data": {
      "text/plain": [
       "SoilProfile(name='IBMZ910214', soil_data_source='Gainesville', soil_clasification='S', soil_depth=180.0, soil_series_name='Millhopper Fine Sand', site='Gainesville', country='USA', lat=29.6, long=-82.37, scs_family='Loamy,silic,hyperth Arnic Paleudult', scom='', salb=0.18, slu1=2.0, sldr=0.65, slro=60.0, slnf=1.0, slpf=0.92, smhb='IB001', smpx='IB001', smke='IB001', table=\n",
       "  SLB SLMH   SLLL  SDUL  SSAT  SRGF  SSKS  SBDM  SLOC  SLCL  SLSI  SLCF  SLNI  SLHW  SLHB  SCEC  SADC  SLPX  SLPT  SLPO CACO3  SLAL  SLFE  SLMN  SLBS  SLPA  SLPB  SLKE  SLMG  SLNA  SLSU  SLEC  SLCA \n",
       "    5 -99   0.026 0.096 0.345 1.000  7.40  1.66  0.67   1.7   0.9   0.0   -99   7.0   -99  20.0   -99   -99   -99   -99   -99   -99   -99   -99   -99   -99   -99   -99   -99   -99   -99   -99   -99\n",
       "   15 -99   0.025 0.105 0.345 1.000  7.40  1.66  0.67   1.7   0.9   0.0   -99   7.0   -99   -99   -99   -99   -99   -99   -99   -99   -99   -99   -99   -99   -99   -99   -99   -99   -99   -99   -99\n",
       "   30 -99   0.075 0.120 0.345 0.700 14.80  1.66  0.17   2.4   2.6   0.0   -99   7.0   -99   -99   -99   -99   -99   -99   -99   -99   -99   -99   -99   -99   -99   -99   -99   -99   -99   -99   -99\n",
       "   45 -99   0.025 0.086 0.345 0.300  3.70  1.66  0.17   2.4   2.6   0.0   -99   7.0   -99   -99   -99   -99   -99   -99   -99   -99   -99   -99   -99   -99   -99   -99   -99   -99   -99   -99   -99\n",
       "   60 -99   0.025 0.072 0.345 0.300  3.70  1.66  0.17   2.4   2.6   0.0   -99   7.0   -99   -99   -99   -99   -99   -99   -99   -99   -99   -99   -99   -99   -99   -99   -99   -99   -99   -99   -99\n",
       "   90 -99   0.028 0.072 0.345 0.100  3.70  1.66  0.17   2.4   2.6   0.0   -99   7.0   -99   -99   -99   -99   -99   -99   -99   -99   -99   -99   -99   -99   -99   -99   -99   -99   -99   -99   -99\n",
       "...\n",
       "...)"
      ]
     },
     "execution_count": 8,
     "metadata": {},
     "output_type": "execute_result"
    }
   ],
   "source": [
    "soil = SoilProfile(\n",
    "        # First all the surface properties are defined\n",
    "        name='IBMZ910214', soil_series_name='Millhopper Fine Sand', \n",
    "        site='Gainesville', country='USA', lat=29.6, long=-82.37, \n",
    "        soil_data_source='Gainesville', soil_clasification='S',\n",
    "        scs_family='Loamy,silic,hyperth Arnic Paleudult', scom='', salb=0.18, \n",
    "        slu1=2.0, sldr=0.65, slro=60.0, slnf=1.0, slpf=0.92, smhb='IB001',\n",
    "        smpx='IB001', smke='IB001',\n",
    "        # Then, the layers' properties are defined layer by layer\n",
    "        table = [\n",
    "            SoilLayer(\n",
    "                slb=5.0, slmh='', slll=0.026, sdul=0.096, ssat=0.345, srgf=1.0, \n",
    "                ssks=7.4, sbdm=1.66, sloc=0.67, slcl=1.7, slsi=0.9, slcf=0.0, \n",
    "                slhw=7.0, scec=20.0\n",
    "            ),\n",
    "            SoilLayer(\n",
    "                slb=15.0, slmh='', slll=0.025, sdul=0.105, ssat=0.345, srgf=1.0, \n",
    "                ssks=7.4, sbdm=1.66, sloc=0.67, slcl=1.7, slsi=0.9, slcf=0.0, \n",
    "                slhw=7.0\n",
    "            ),\n",
    "            SoilLayer(\n",
    "                slb=30.0, slmh='', slll=0.075, sdul=0.12, ssat=0.345, srgf=0.7, \n",
    "                ssks=14.8, sbdm=1.66, sloc=0.17, slcl=2.4, slsi=2.6, slcf=0.0, \n",
    "                slhw=7.0\n",
    "            ),\n",
    "            SoilLayer(\n",
    "                slb=45.0, slmh='', slll=0.025, sdul=0.086, ssat=0.345, srgf=0.3, \n",
    "                ssks=3.7, sbdm=1.66, sloc=0.17, slcl=2.4, slsi=2.6, slcf=0.0, \n",
    "                slhw=7.0\n",
    "            ),\n",
    "            SoilLayer(\n",
    "                slb=60.0, slmh='', slll=0.025, sdul=0.072, ssat=0.345, srgf=0.3, \n",
    "                ssks=3.7, sbdm=1.66, sloc=0.17, slcl=2.4, slsi=2.6, slcf=0.0, \n",
    "                slhw=7.0\n",
    "            ),\n",
    "            SoilLayer(\n",
    "                slb=90.0, slmh='', slll=0.028, sdul=0.072, ssat=0.345, srgf=0.1, \n",
    "                ssks=3.7, sbdm=1.66, sloc=0.17, slcl=2.4, slsi=2.6, slcf=0.0, \n",
    "                slhw=7.0\n",
    "            ),\n",
    "            SoilLayer(\n",
    "                slb=120.0, slmh='', slll=0.028, sdul=0.08, ssat=0.345, srgf=0.1, \n",
    "                ssks=0.1, sbdm=1.66, sloc=0.18, slcl=7.7, slsi=3.1, slcf=0.0, \n",
    "                slhw=7.0,\n",
    "            ),\n",
    "            SoilLayer(\n",
    "                slb=150.0, slmh='', slll=0.029, sdul=0.09, ssat=0.345, srgf=0.05, \n",
    "                ssks=0.1, sbdm=1.66, sloc=0.15, slcl=7.7, slsi=3.1, slcf=0.0, \n",
    "                slhw=7.0\n",
    "            ),\n",
    "            SoilLayer(\n",
    "                slb=180.0, slmh='', slll=0.029, sdul=0.09, ssat=0.345, srgf=0.05, \n",
    "                ssks=0.1, sbdm=1.66, sloc=0.1, slcl=7.7, slsi=3.1, slcf=0.0, \n",
    "                slhw=7.0\n",
    "            )\n",
    "        ]\n",
    "    )\n",
    "soil"
   ]
  },
  {
   "cell_type": "markdown",
   "id": "eb1f87ae-0f8f-4817-945c-8be1f65b3f7d",
   "metadata": {},
   "source": [
    "We can also create the soil layer by loading a soil layer from a DSSAT soil file:"
   ]
  },
  {
   "cell_type": "code",
   "execution_count": 9,
   "id": "eee1f390-baaf-46f8-b605-3cc06b308ecb",
   "metadata": {},
   "outputs": [],
   "source": [
    "# Download and save the DSSAT Soil file \n",
    "import urllib.request\n",
    "response = urllib.request.urlopen('https://github.com/DSSAT/dssat-csm-data/blob/develop/Soil/SOIL.SOL?raw=true')\n",
    "soil_file_str = ''.join([l.decode('utf-8') for l in response])\n",
    "with open('SOIL.SOL', 'w') as f:\n",
    "    f.write(soil_file_str)"
   ]
  },
  {
   "cell_type": "code",
   "execution_count": 10,
   "id": "1c2b0042-63aa-49b4-bda0-6cf9a062dea4",
   "metadata": {},
   "outputs": [],
   "source": [
    "# Create the soil profile from file\n",
    "soil = SoilProfile.from_file('IBSG910085', 'SOIL.SOL')"
   ]
  },
  {
   "cell_type": "markdown",
   "id": "bcf6bac6-0128-4603-b2f8-cafb3c59decd",
   "metadata": {},
   "source": [
    "**Cultivar**\n",
    "\n",
    "The cultivar definition is straightforward. For that you just call one of the crop classes passing the cultivar code as argument. The cultivar must be included in the DSSAT default cultivar files."
   ]
  },
  {
   "cell_type": "code",
   "execution_count": 11,
   "id": "30252774-c3cb-4fb4-b76a-933c1e4ec5ce",
   "metadata": {},
   "outputs": [
    {
     "data": {
      "text/plain": [
       "CropPars(var-name='CSH-1', expno='.', eco#=CropPars(econame='GENERIC', tbase=8.0, topt=34.0, ropt=34.0, gdde=6.0, rue=3.2, kcan=0.85, stpc=0.1, rtpc=0.25, tilfc=0.0, plam=6000.0), p1=410.0, p2=102.0, p2o=13.6, p2r=40.0, panth=617.5, p3=152.5, p4=81.5, p5=640.0, phint=49.0, g1=0.031, g2=5.982, pbase=nan, psat=nan)"
      ]
     },
     "execution_count": 11,
     "metadata": {},
     "output_type": "execute_result"
    }
   ],
   "source": [
    "# Define the sorghum cultivar\n",
    "cultivar = crop.Sorghum('IB0026')\n",
    "cultivar"
   ]
  },
  {
   "cell_type": "markdown",
   "id": "6b58488c-bc61-4102-af44-1b40b81236da",
   "metadata": {},
   "source": [
    "**FileX (Management and Options)**\n",
    "\n",
    "Now that the cultivar, soil and weather are defined, we only have to define the experimental options. Note that when we define the cultivar using Python in this notebook it is equivalent to create the .CUL and .ECO DSSAT files. The case is the same with the weather station and soil profile. Having a a WeatherStation instance created is like having a .WTH file or files created using the GUI. Having the SoilLayer instance created is like having a .SOL file created using the DSSAT GUI.\n",
    "\n",
    "Now, there is not a single class to represent the DSSAT FileX. Instead, there are classes to represent each of the sections of the DSSAT FileX, e.g. Planting, Fertilizer, Residue, Field, etc. All the sections have their own class, excepting Environmental Modifications, and the treatments section. Then, the equivalent of the DSSAT FileX is the collection of sections of FileX.\n",
    "\n",
    "We will create the sections defined in that experiment. This experiment have two treatments, the first treatment (Control) does not include Fertilizer application:"
   ]
  },
  {
   "cell_type": "code",
   "execution_count": 12,
   "id": "956ab958-0721-4edc-8796-408e7a2a0c6a",
   "metadata": {},
   "outputs": [],
   "source": [
    "# Define Field. Note that the weather station and soil profile that we created before\n",
    "# are one of the parameters to define the field\n",
    "field = filex.Field(\n",
    "    id_field='ITHY0001', wsta=weather_station, flob=0, fldt='DR000', \n",
    "    fldd=0, flds=0, id_soil=soil\n",
    ")\n",
    "# Initial conditions is defined similar to the soil profile, including a table that \n",
    "# represents the soil profile.\n",
    "initial_conditions = filex.InitialConditions(\n",
    "    pcr='SG', icdat=datetime(1980, 7, 3), icrt=500, icnd=0,\n",
    "    icrn=1, icre=1, icres=1300, icren=.5, icrep=0, icrip=100, icrid=10,\n",
    "    table=pd.DataFrame([\n",
    "        (10, .06, 2.5, 1.8),\n",
    "        (22, .06, 2.5, 1.8),\n",
    "        (52, .195, 3., 4.5),\n",
    "        (82, .21, 3.5, 5.0),\n",
    "        (112, 0.2, 2., 2.0),\n",
    "        (142, 0.2, 1., 0.7),\n",
    "        (172, 0.2, 1., 0.6),\n",
    "    ], columns=['icbl', 'sh2o', 'snh4', 'sno3'])\n",
    ")\n",
    "# Define planting\n",
    "planting = filex.Planting(\n",
    "    pdate=datetime(1980, 6, 17), ppop=18, ppoe=18, plme='S',\n",
    "    plds='R', plrs=45, plrd=0, pldp=5\n",
    ")\n",
    "# Define the simulation controls. The simulation controls section is split in subsections.\n",
    "# Each sub-section of the simulation controls section has its own class\n",
    "simulation_controls = filex.SimulationControls(\n",
    "    general=filex.SCGeneral(sdate=datetime(1980, 6, 17)),\n",
    "    options=filex.SCOptions(water='Y', nitro='Y', symbi='N'),\n",
    "    methods=filex.SCMethods(infil='S'),\n",
    "    management=filex.SCManagement(irrig='N', ferti='R', resid='N', harvs='M')\n",
    ")"
   ]
  },
  {
   "cell_type": "markdown",
   "id": "9e157695-fc95-41f3-a329-c4874134e7cb",
   "metadata": {},
   "source": [
    "**Run a single treatment**\n",
    "\n",
    "Now we have what we need to run the model. The model run is managed by the DSSAT class. That class can be seen as a \"simulation environment\". Consider it to be a folder where all the simulation files (input and output) will be in. This folder can be an existing folder, or a new folder that will be created. If a folder is not specified, then it will create a random temporary folder."
   ]
  },
  {
   "cell_type": "code",
   "execution_count": 13,
   "id": "7e6c5463-943e-451f-a6e0-ec06b0fca6d8",
   "metadata": {},
   "outputs": [
    {
     "name": "stdout",
     "output_type": "stream",
     "text": [
      "/tmp/dssat_test created.\n",
      "\n",
      "RUN    TRT FLO MAT TOPWT HARWT  RAIN  TIRR   CET  PESW  TNUP  TNLF   TSON TSOC\n",
      "           dap dap kg/ha kg/ha    mm    mm    mm    mm kg/ha kg/ha  kg/ha t/ha\n",
      "  1 SG   1  67 109 12614  5356   592     0   351    93   110    29  13375   95\n"
     ]
    }
   ],
   "source": [
    "# Create the simulation environment\n",
    "TMP = tempfile.tempdir \n",
    "dssat = DSSAT(os.path.join(TMP, 'dssat_test'))\n",
    "# Run the model\n",
    "results = dssat.run_treatment(\n",
    "    field=field, cultivar=cultivar, planting=planting, \n",
    "    initial_conditions=initial_conditions, simulation_controls=simulation_controls\n",
    ")"
   ]
  },
  {
   "cell_type": "markdown",
   "id": "263ced89-1bba-471d-83d4-47b25e513610",
   "metadata": {},
   "source": [
    "**Check outputs**\n",
    "\n",
    "You see that the model run outputs the CSM standard output, which is an end-of-season summary. That summary is stored in the `results` variable in this case. \n",
    "\n",
    "Now, the time-series tabular output is saved in the `output_tables` attribute: "
   ]
  },
  {
   "cell_type": "code",
   "execution_count": 14,
   "id": "7b97530b-c9ce-47f1-b716-8f32e6664cef",
   "metadata": {},
   "outputs": [
    {
     "data": {
      "text/html": [
       "<div>\n",
       "<style scoped>\n",
       "    .dataframe tbody tr th:only-of-type {\n",
       "        vertical-align: middle;\n",
       "    }\n",
       "\n",
       "    .dataframe tbody tr th {\n",
       "        vertical-align: top;\n",
       "    }\n",
       "\n",
       "    .dataframe thead th {\n",
       "        text-align: right;\n",
       "    }\n",
       "</style>\n",
       "<table border=\"1\" class=\"dataframe\">\n",
       "  <thead>\n",
       "    <tr style=\"text-align: right;\">\n",
       "      <th></th>\n",
       "      <th>@YEAR</th>\n",
       "      <th>DOY</th>\n",
       "      <th>DAS</th>\n",
       "      <th>DAP</th>\n",
       "      <th>L#SD</th>\n",
       "      <th>GSTD</th>\n",
       "      <th>LAID</th>\n",
       "      <th>LWAD</th>\n",
       "      <th>SWAD</th>\n",
       "      <th>GWAD</th>\n",
       "      <th>...</th>\n",
       "      <th>RL6D</th>\n",
       "      <th>RL7D</th>\n",
       "      <th>RL8D</th>\n",
       "      <th>RL9D</th>\n",
       "      <th>CDAD</th>\n",
       "      <th>LDAD</th>\n",
       "      <th>SDAD</th>\n",
       "      <th>SNW0C</th>\n",
       "      <th>SNW1C</th>\n",
       "      <th>DTTD</th>\n",
       "    </tr>\n",
       "  </thead>\n",
       "  <tbody>\n",
       "    <tr>\n",
       "      <th>1980-06-17</th>\n",
       "      <td>1980</td>\n",
       "      <td>169</td>\n",
       "      <td>1</td>\n",
       "      <td>0</td>\n",
       "      <td>0.0</td>\n",
       "      <td>0</td>\n",
       "      <td>0.0</td>\n",
       "      <td>0</td>\n",
       "      <td>0</td>\n",
       "      <td>0</td>\n",
       "      <td>...</td>\n",
       "      <td>0.0</td>\n",
       "      <td>0.0</td>\n",
       "      <td>0.0</td>\n",
       "      <td>0.0</td>\n",
       "      <td>0</td>\n",
       "      <td>0</td>\n",
       "      <td>0</td>\n",
       "      <td>0</td>\n",
       "      <td>0</td>\n",
       "      <td>17.86</td>\n",
       "    </tr>\n",
       "    <tr>\n",
       "      <th>1980-06-18</th>\n",
       "      <td>1980</td>\n",
       "      <td>170</td>\n",
       "      <td>2</td>\n",
       "      <td>1</td>\n",
       "      <td>0.0</td>\n",
       "      <td>0</td>\n",
       "      <td>0.0</td>\n",
       "      <td>0</td>\n",
       "      <td>0</td>\n",
       "      <td>0</td>\n",
       "      <td>...</td>\n",
       "      <td>0.0</td>\n",
       "      <td>0.0</td>\n",
       "      <td>0.0</td>\n",
       "      <td>0.0</td>\n",
       "      <td>0</td>\n",
       "      <td>0</td>\n",
       "      <td>0</td>\n",
       "      <td>0</td>\n",
       "      <td>0</td>\n",
       "      <td>20.77</td>\n",
       "    </tr>\n",
       "    <tr>\n",
       "      <th>1980-06-19</th>\n",
       "      <td>1980</td>\n",
       "      <td>171</td>\n",
       "      <td>3</td>\n",
       "      <td>2</td>\n",
       "      <td>0.0</td>\n",
       "      <td>0</td>\n",
       "      <td>0.0</td>\n",
       "      <td>0</td>\n",
       "      <td>0</td>\n",
       "      <td>0</td>\n",
       "      <td>...</td>\n",
       "      <td>0.0</td>\n",
       "      <td>0.0</td>\n",
       "      <td>0.0</td>\n",
       "      <td>0.0</td>\n",
       "      <td>0</td>\n",
       "      <td>0</td>\n",
       "      <td>0</td>\n",
       "      <td>0</td>\n",
       "      <td>0</td>\n",
       "      <td>21.88</td>\n",
       "    </tr>\n",
       "    <tr>\n",
       "      <th>1980-06-20</th>\n",
       "      <td>1980</td>\n",
       "      <td>172</td>\n",
       "      <td>4</td>\n",
       "      <td>3</td>\n",
       "      <td>0.0</td>\n",
       "      <td>0</td>\n",
       "      <td>0.0</td>\n",
       "      <td>0</td>\n",
       "      <td>0</td>\n",
       "      <td>0</td>\n",
       "      <td>...</td>\n",
       "      <td>0.0</td>\n",
       "      <td>0.0</td>\n",
       "      <td>0.0</td>\n",
       "      <td>0.0</td>\n",
       "      <td>0</td>\n",
       "      <td>0</td>\n",
       "      <td>0</td>\n",
       "      <td>0</td>\n",
       "      <td>0</td>\n",
       "      <td>22.73</td>\n",
       "    </tr>\n",
       "    <tr>\n",
       "      <th>1980-06-21</th>\n",
       "      <td>1980</td>\n",
       "      <td>173</td>\n",
       "      <td>5</td>\n",
       "      <td>4</td>\n",
       "      <td>0.0</td>\n",
       "      <td>0</td>\n",
       "      <td>0.0</td>\n",
       "      <td>0</td>\n",
       "      <td>0</td>\n",
       "      <td>0</td>\n",
       "      <td>...</td>\n",
       "      <td>0.0</td>\n",
       "      <td>0.0</td>\n",
       "      <td>0.0</td>\n",
       "      <td>0.0</td>\n",
       "      <td>0</td>\n",
       "      <td>0</td>\n",
       "      <td>0</td>\n",
       "      <td>0</td>\n",
       "      <td>0</td>\n",
       "      <td>22.54</td>\n",
       "    </tr>\n",
       "  </tbody>\n",
       "</table>\n",
       "<p>5 rows × 49 columns</p>\n",
       "</div>"
      ],
      "text/plain": [
       "           @YEAR  DOY  DAS  DAP  L#SD  GSTD  LAID  LWAD  SWAD  GWAD  ...  \\\n",
       "1980-06-17  1980  169    1    0   0.0     0   0.0     0     0     0  ...   \n",
       "1980-06-18  1980  170    2    1   0.0     0   0.0     0     0     0  ...   \n",
       "1980-06-19  1980  171    3    2   0.0     0   0.0     0     0     0  ...   \n",
       "1980-06-20  1980  172    4    3   0.0     0   0.0     0     0     0  ...   \n",
       "1980-06-21  1980  173    5    4   0.0     0   0.0     0     0     0  ...   \n",
       "\n",
       "            RL6D  RL7D  RL8D  RL9D  CDAD  LDAD  SDAD  SNW0C  SNW1C   DTTD  \n",
       "1980-06-17   0.0   0.0   0.0   0.0     0     0     0      0      0  17.86  \n",
       "1980-06-18   0.0   0.0   0.0   0.0     0     0     0      0      0  20.77  \n",
       "1980-06-19   0.0   0.0   0.0   0.0     0     0     0      0      0  21.88  \n",
       "1980-06-20   0.0   0.0   0.0   0.0     0     0     0      0      0  22.73  \n",
       "1980-06-21   0.0   0.0   0.0   0.0     0     0     0      0      0  22.54  \n",
       "\n",
       "[5 rows x 49 columns]"
      ]
     },
     "execution_count": 14,
     "metadata": {},
     "output_type": "execute_result"
    }
   ],
   "source": [
    "# Save the PlantGro table for the control treatment\n",
    "results_plantgro = {'Control': dssat.output_tables['PlantGro']}\n",
    "results_plantgro['Control'].head()"
   ]
  },
  {
   "cell_type": "markdown",
   "id": "91d73e40-468e-4b39-816e-24dd154a5eeb",
   "metadata": {},
   "source": [
    "The `output_files` contains all the output files in string format. So you can for example check the Overview file:"
   ]
  },
  {
   "cell_type": "code",
   "execution_count": 15,
   "id": "360d538f-c59a-48bf-97ab-c5f356517dad",
   "metadata": {
    "scrolled": true
   },
   "outputs": [
    {
     "name": "stdout",
     "output_type": "stream",
     "text": [
      "*SIMULATION OVERVIEW FILE\n",
      "\n",
      "*DSSAT Cropping System Model Ver. 4.8.2.000 -HEAD  APR 13, 2025 13:26:28\n",
      "\n",
      "*RUN   1        : DSSATTools                SGCER048 ITHY8001    1\n",
      " MODEL          : SGCER048 - Sorghum\n",
      " EXPERIMENT     : ITHY8001 SG\n",
      " DATA PATH      :\n",
      " TREATMENT  1   : DSSATTools                SGCER048\n",
      "\n",
      "\n",
      " CROP           : Sorghum          CULTIVAR : CSH-1            ECOTYPE :IB0001\n",
      " STARTING DATE  : JUN 17 1980\n",
      " PLANTING DATE  : JUN 17 1980      PLANTS/m2 :    18.0    ROW SPACING :  45.cm\n",
      " WEATHER        : ITHY   1980\n",
      " SOIL           : IBSG910085     TEXTURE : -99   - Patencheru\n",
      " SOIL INIT COND : DEPTH:172cm EXTR. H2O:150.8mm  NO3: 69.1kg/ha  NH4: 60.3kg/ha\n",
      " WATER BALANCE  : RAINFED\n",
      " IRRIGATION     : NOT IRRIGATED\n",
      " NITROGEN BAL.  : SOIL-N & N-UPTAKE SIMULATION; NO N-FIXATION\n",
      " N-FERTILIZER   :        0 kg/ha IN     0 APPLICATIONS\n",
      " RESIDUE/MANURE : INITIAL :  1300 kg/ha ;       0 kg/ha IN     0 APPLICATIONS\n",
      " ENVIRONM. OPT. : DAYL=    0.00  SRAD=    0.00  TMAX=    0.00  TMIN=    0.00\n",
      "                  RAIN=    0.00  CO2 =    0.00  DEW =    0.00  WIND=    0.00\n",
      " SIMULATION OPT : WATER   :Y  NITROGEN:Y  N-FIX:N  PHOSPH :N  PESTS  :N\n",
      "                  PHOTO   :C  ET      :R  INFIL:S  HYDROL :R  SOM    :P\n",
      "                  CO2 339ppm  NSWIT   :1  EVAP :R  SOIL   :1  STEMP  :D\n",
      " MANAGEMENT OPT : PLANTING:R  IRRIG   :N  FERT :R  RESIDUE:N  HARVEST:M\n",
      "                  WEATHER :M  TILLAGE :N\n",
      "\n",
      "*SUMMARY OF SOIL AND GENETIC INPUT PARAMETERS\n",
      "\n",
      "   SOIL LOWER UPPER   SAT  EXTR  INIT   ROOT   BULK     pH    NO3    NH4    ORG\n",
      "  DEPTH LIMIT LIMIT    SW    SW    SW   DIST   DENS                          C\n",
      "   cm   cm3/cm3    cm3/cm3    cm3/cm3         g/cm3         ugN/g  ugN/g     %\n",
      "-------------------------------------------------------------------------------\n",
      "  0-  5 0.080 0.220 0.310 0.140 0.060   1.00   1.61   7.00   1.80   2.50   0.85\n",
      "  5- 15 0.085 0.220 0.310 0.135 0.060   0.95   1.61   7.00   1.80   2.50   0.70\n",
      " 15- 30 0.109 0.233 0.313 0.125 0.132   0.79   1.62   7.00   3.24   2.77   0.53\n",
      " 30- 45 0.125 0.245 0.315 0.120 0.195   0.70   1.62   7.00   4.50   3.00   0.51\n",
      " 45- 60 0.138 0.237 0.302 0.099 0.203   0.59   1.63   7.00   4.77   3.27   0.57\n",
      " 60- 90 0.153 0.233 0.295 0.080 0.207   0.39   1.64   7.00   4.20   3.10   0.49\n",
      " 90-120 0.163 0.240 0.310 0.077 0.200   0.09   1.64   7.00   1.65   1.73   0.10\n",
      "120-150 0.178 0.243 0.313 0.064 0.200   0.04   1.64   7.00   0.67   1.00   0.10\n",
      "150-172 0.193 0.250 0.320 0.057 0.200   0.03   1.64   7.00   0.60   1.00   0.10\n",
      "\n",
      "TOT-172  25.9  41.0  53.2  15.1  31.5  <--cm   -  kg/ha-->   69.1   60.3  94846\n",
      "SOIL ALBEDO    : 0.13      EVAPORATION LIMIT : 6.00         MIN. FACTOR  : 1.00\n",
      "RUNOFF CURVE # :80.00      DRAINAGE RATE     : 0.30         FERT. FACTOR : 1.00\n",
      "\n",
      " Sorghum          CULTIVAR: IB0026-CSH-1              ECOTYPE: IB0001\n",
      " P1     :410.0  P2O    :13.60  P2R    :  40.0  P5     :640.00\n",
      " G1     :  0.0  G2     : 6.00  PHINT  : 49.00  P3     : 152.5  P4    :  81.5\n",
      "\n",
      "\n",
      "*SIMULATED CROP AND SOIL STATUS AT MAIN DEVELOPMENT STAGES\n",
      "\n",
      " RUN NO.     1     DSSATTools              \n",
      "\n",
      "        CROP GROWTH     BIOMASS         LEAF   CROP N     STRESS      STRESS                                           \n",
      "   DATE  AGE STAGE        kg/ha    LAI   NUM  kg/ha  %   H2O  Nitr Phos1 Phos2  RSTG                                   \n",
      " ------  --- ----------   -----  -----  ----  ---  ---  ----  ----  ----  ----  ----                                   \n",
      " 17 JUN    0 Sowing           0   0.00   0.0    0  0.0  0.00  0.00  0.00  0.00     8\n",
      " 18 JUN    1 Germinate        0   0.00   0.0    0  0.0  0.00  0.00  0.00  0.00     9\n",
      " 22 JUN    5 Emergence        3   0.00   0.9    0  4.9  0.00  0.00  0.00  0.00     1\n",
      " 12 JUL   25 End Juveni     145   0.61   9.8    7  5.0  0.10  0.00  0.00  0.00     2\n",
      " 18 JUL   31 Panicle In     641   1.82  12.2   27  4.2  0.13  0.01  0.00  0.00     3\n",
      " 14 AUG   58 End Lf Gro    4392   5.99  21.4   71  1.6  0.09  0.06  0.00  0.00     4\n",
      " 23 AUG   67 Anthesis      6189   5.31  21.4   72  1.2  0.00  0.06  0.00  0.00     4\n",
      " 28 AUG   72 End Pan Gr    7557   5.06  21.4   72  0.9  0.00  0.05  0.00  0.00     5\n",
      "  4 OCT  109 Maturity     12614   3.94  21.4  100  0.8  0.00  0.26  0.00  0.00     7\n",
      "  4 OCT  109 Harvest      12614   3.94  21.4  100  0.8  0.00  0.00  0.00  0.00     7\n",
      "\n",
      "\n",
      "*MAIN GROWTH AND DEVELOPMENT VARIABLES\n",
      "\n",
      "@     VARIABLE                                         SIMULATED     MEASURED\n",
      "      --------                                         ---------     --------\n",
      "      Panicle Initiation day (dap)                            31          -99\n",
      "      Anthesis day (dap)                                      67          -99\n",
      "      Physiological maturity day (dap)                       109          -99\n",
      "      Yield at harvest maturity (kg [dm]/ha)                5356          -99\n",
      "      Number at maturity (no/m2)                           20922          -99\n",
      "      Unit wt at maturity (g [dm]/unit)                   0.0256          -99\n",
      "      Number at maturity (no/unit)                        1162.3          -99\n",
      "      Tops weight at maturity (kg [dm]/ha)                 12614          -99\n",
      "      By-product produced (stalk) at maturity (kg[dm]/ha    7257          -99\n",
      "      Leaf area index, maximum                              6.09          -99\n",
      "      Harvest index at maturity                            0.425          -99\n",
      "      Grain N at maturity (kg/ha)                             73          -99\n",
      "      Tops N at maturity (kg/ha)                             100          -99\n",
      "      Stem N at maturity (kg/ha)                              26          -99\n",
      "      Grain N at maturity (%)                                1.4          -99\n",
      "      Tops weight at anthesis (kg [dm]/ha)                  5998          -99\n",
      "      Tops N at anthesis (kg/ha)                              72          -99\n",
      "      Leaf number per stem at maturity                     21.39          -99\n",
      "      Emergence day (dap)                                      5          -99\n",
      "\n",
      "\n",
      "*ENVIRONMENTAL AND STRESS FACTORS\n",
      "\n",
      " |-----Development Phase------|--------------------------------------Environment--------------------------------------|-----------------Stress-----------------|\n",
      "                              |---------------Average--------------|-----Cumulative-----|--------Count of days--------|          (0=Min, 1=Max Stress)         |\n",
      "                         Time  Temp  Temp  Temp Solar Photop                Evapo    Pot TMIN TMIN TMAX TMAX TMAX RAIN|----Water----|---Nitrogen--|-Phosphorus-|\n",
      "                         Span   Max   Min  Mean   Rad  [day]    CO2   Rain  Trans     ET   <    <    >    >    >    >   Photo         Photo         Photo\n",
      "                         days     C     C     C MJ/m2     hr    ppm     mm     mm    mm   0 C  2 C 30 C 32 C 34 C  0mm  synth Growth  synth Growth  synth Growth\n",
      "----------------------------------------------------------------------------------------------------------------------------------------------------------------\n",
      " Emergence-End Juvenile    20  32.1  23.4  27.8  15.5  13.02  338.6   39.8   29.5   85.9    0    0   16   14    4    9  0.045  0.103  0.000  0.004  0.000  0.000\n",
      " End Juvenil-Panicle Ini    6  30.8  23.6  27.2  14.6  12.95  338.7    9.4   20.0   22.8    0    0    5    1    0    3  0.000  0.032  0.000  0.000  0.000  0.000\n",
      " Panicle Ini-End Lf Grow   27  28.8  22.2  25.5  14.0  12.78  338.8  156.4   81.0   90.7    0    0    8    3    0   21  0.073  0.111  0.000  0.060  0.000  0.000\n",
      " End Lf Grth-Beg Grn Fil   14  28.8  21.9  25.4  15.2  12.50  338.9  232.2   50.0   50.1    0    0    3    0    0   10  0.000  0.000  0.000  0.060  0.000  0.000\n",
      " Grain Filling Phase       36  29.9  21.7  25.8  18.4  12.09  339.0  153.2  158.6  158.8    0    0   21    3    0   12  0.000  0.000  0.077  0.263  0.000  0.000\n",
      "   \n",
      " Planting to Harvest      110  30.1  22.3  26.2  16.4  12.56  338.8  591.8  350.8  449.0    0    0   59   27    6   56  0.026  0.048  0.025  0.109  0.000  0.000\n",
      "----------------------------------------------------------------------------------------------------------------------------------------------------------------\n",
      "\n",
      "\n",
      "*Resource Productivity\n",
      " Growing season length: 110 days \n",
      "\n",
      " Precipitation during growing season       591.8 mm[rain]\n",
      "   Dry Matter Productivity                  2.13 kg[DM]/m3[rain]          =   21.3 kg[DM]/ha per mm[rain]\n",
      "   Yield Productivity                       0.91 kg[grain yield]/m3[rain] =    9.1 kg[yield]/ha per mm[rain]\n",
      "\n",
      " Evapotranspiration during growing season  350.8 mm[ET]\n",
      "   Dry Matter Productivity                  3.60 kg[DM]/m3[ET]            =   36.0 kg[DM]/ha per mm[ET]\n",
      "   Yield Productivity                       1.53 kg[grain yield]/m3[ET]   =   15.3 kg[yield]/ha per mm[ET]\n",
      "\n",
      " Transpiration during growing season       297.9 mm[EP]\n",
      "   Dry Matter Productivity                  4.23 kg[DM]/m3[EP]            =   42.3 kg[DM]/ha per mm[EP]\n",
      "   Yield Productivity                       1.80 kg[grain yield]/m3[EP]   =   18.0 kg[yield]/ha per mm[EP]\n",
      "\n",
      " N uptake during growing season              110 kg[N uptake]/ha\n",
      "   Dry Matter Productivity                 114.7 kg[DM]/kg[N uptake]\n",
      "   Yield Productivity                       48.7 kg[yield]/kg[N uptake]\n",
      "\n",
      "--------------------------------------------------------------------------------------------------------------\n",
      "\n",
      "                   Sorghum YIELD :     5356 kg/ha    [Dry weight] \n",
      "\n",
      "**************************************************************************************************************\n",
      "\n"
     ]
    }
   ],
   "source": [
    "print(dssat.output_files['OVERVIEW'])"
   ]
  },
  {
   "cell_type": "markdown",
   "id": "2cbe9ef7-0a9d-480b-9c8c-b5a3f1edf801",
   "metadata": {},
   "source": [
    "**Run another treatment**\n",
    "\n",
    "Now, the second treatment includes a single 80 kg Urea-N fertilizer application. We can run that second treatment in the same way that we run the control treatment using the same simulation environment, but this time including the Fertilizer section:"
   ]
  },
  {
   "cell_type": "code",
   "execution_count": 16,
   "id": "6e6e2d9c-8e50-4f82-a4b9-d000a9542ab6",
   "metadata": {},
   "outputs": [
    {
     "name": "stdout",
     "output_type": "stream",
     "text": [
      "\n",
      "RUN    TRT FLO MAT TOPWT HARWT  RAIN  TIRR   CET  PESW  TNUP  TNLF   TSON TSOC\n",
      "           dap dap kg/ha kg/ha    mm    mm    mm    mm kg/ha kg/ha  kg/ha t/ha\n",
      "  1 SG   1  67 109 13917  6404   592     0   350    92   155    56  13378   95\n"
     ]
    }
   ],
   "source": [
    "fertilizer = filex.Fertilizer(table=[\n",
    "    filex.FertilizerEvent(\n",
    "        fdate=datetime(1980, 7, 3), fmcd='FE005', fdep=5,\n",
    "        famn=80, facd='AP002'\n",
    "    )\n",
    "])\n",
    "results = dssat.run_treatment(\n",
    "    field=field, cultivar=cultivar, planting=planting, \n",
    "    initial_conditions=initial_conditions, fertilizer=fertilizer,\n",
    "    simulation_controls=simulation_controls\n",
    ")"
   ]
  },
  {
   "cell_type": "code",
   "execution_count": 17,
   "id": "2ded3d60-084a-48d5-aceb-a365838430b5",
   "metadata": {},
   "outputs": [],
   "source": [
    "# Save the results for this treatment\n",
    "results_plantgro['80 kg Urea-N'] = dssat.output_tables['PlantGro']"
   ]
  },
  {
   "cell_type": "markdown",
   "id": "0e70e74d-ac1a-481d-a39a-d2fe2887296c",
   "metadata": {},
   "source": [
    "**Compare treatments**\n",
    "\n",
    "Now we can compare the Grain Weight for the two treatments. You'll see that the results are identical to those obtained using the DSSAT GUI."
   ]
  },
  {
   "cell_type": "code",
   "execution_count": 18,
   "id": "ea4cab5d-028b-49b3-b0f3-765e0a11ffb8",
   "metadata": {},
   "outputs": [
    {
     "data": {
      "text/plain": [
       "<matplotlib.legend.Legend at 0x7ff51c8812a0>"
      ]
     },
     "execution_count": 18,
     "metadata": {},
     "output_type": "execute_result"
    },
    {
     "data": {
      "image/png": "[encoded data removed]",
      "text/plain": [
       "<Figure size 640x480 with 1 Axes>"
      ]
     },
     "metadata": {},
     "output_type": "display_data"
    }
   ],
   "source": [
    "ax = results_plantgro['Control'].GWAD.plot(label='Control')\n",
    "results_plantgro['80 kg Urea-N'].GWAD.plot(ax=ax, label='80 kg Urea-N', linestyle='--')\n",
    "ax.set_xlabel('Time')\n",
    "ax.set_ylabel('Grain weight (kg/ha)')\n",
    "ax.legend()"
   ]
  },
  {
   "cell_type": "markdown",
   "id": "955cbd6f-e320-4d83-a216-44cbff92d67f",
   "metadata": {},
   "source": [
    "This is the end of this tutorial."
   ]
  }
 ],
 "metadata": {
  "@webio": {
   "lastCommId": null,
   "lastKernelId": null
  },
  "kernelspec": {
   "display_name": "Python 3 (ipykernel)",
   "language": "python",
   "name": "python3"
  },
  "language_info": {
   "codemirror_mode": {
    "name": "ipython",
    "version": 3
   },
   "file_extension": ".py",
   "mimetype": "text/x-python",
   "name": "python",
   "nbconvert_exporter": "python",
   "pygments_lexer": "ipython3",
   "version": "3.10.12"
  }
 },
 "nbformat": 4,
 "nbformat_minor": 5
}
