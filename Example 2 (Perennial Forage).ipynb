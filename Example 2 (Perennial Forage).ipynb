{
 "cells": [
  {
   "cell_type": "markdown",
   "id": "e057e62e",
   "metadata": {},
   "source": [
    "# DSSATTools Perennial forage example notebook\n",
    "\n",
    "In this notebook you'll see the basic usage of DSSATools library to:\n",
    "1. Create the inputs\n",
    "2. Initialize the simulation environment\n",
    "3. Run simulations\n",
    "4. Modify input objects\n",
    "5. Create mowing schedule\n",
    "5. Read outputs.\n",
    "\n",
    "The idea of this library is to be a low-code interface to DSSAT"
   ]
  },
  {
   "cell_type": "code",
   "execution_count": 12,
   "id": "2b88ac7d",
   "metadata": {},
   "outputs": [],
   "source": [
    "from DSSATTools import (Crop, SoilProfile, Weather, Management, DSSAT, TabularSubsection)\n",
    "import DSSATTools\n",
    "import pandas as pd\n",
    "from datetime import datetime, timedelta\n",
    "import numpy as np"
   ]
  },
  {
   "cell_type": "markdown",
   "id": "56d23ccb",
   "metadata": {},
   "source": [
    "## Create a WeatherData instance"
   ]
  },
  {
   "cell_type": "code",
   "execution_count": 2,
   "id": "999437bd",
   "metadata": {},
   "outputs": [
    {
     "data": {
      "text/plain": [
       "Weather data at -74.361°, 4.343°\n",
       "  Date start: 2008-01-01\n",
       "  Date end: 2010-12-31\n",
       "Average values:\n",
       "TMAX    12.346986\n",
       "TMIN     9.894372\n",
       "RAIN     0.000000\n",
       "SRAD    14.863799\n",
       "RHUM    56.209493\n",
       "dtype: float64"
      ]
     },
     "execution_count": 2,
     "metadata": {},
     "output_type": "execute_result"
    }
   ],
   "source": [
    "# Random weather data\n",
    "DATES = pd.date_range('2008-01-01', '2010-12-31')\n",
    "N = len(DATES)\n",
    "df = pd.DataFrame(\n",
    "    {\n",
    "    'tn': np.random.gamma(10, 1, N),\n",
    "    'rad': np.random.gamma(10, 1.5, N),\n",
    "    'prec': [0.0]* N,\n",
    "    'rh': 100 * np.random.beta(1.5, 1.15, N),\n",
    "    },\n",
    "    index=DATES,\n",
    ")\n",
    "df['TMAX'] = df.tn + np.random.gamma(5., .5, N)\n",
    "# Create a WheaterStation instance\n",
    "wth = Weather(\n",
    "    df, \n",
    "    {'tn': 'TMIN', 'TMAX': 'TMAX', 'prec': 'RAIN', \n",
    "     'rad': 'SRAD', 'rh': 'RHUM'}, 4.3434237,-74.3606715, 1800\n",
    ")\n",
    "wth"
   ]
  },
  {
   "cell_type": "markdown",
   "id": "f72d3da7",
   "metadata": {},
   "source": [
    "## Create a SoilProfile object from a default profile"
   ]
  },
  {
   "cell_type": "code",
   "execution_count": 3,
   "id": "6c6c8721",
   "metadata": {},
   "outputs": [],
   "source": [
    "# Soil instance from default soil profile\n",
    "soil = SoilProfile(default_class='SIL')"
   ]
  },
  {
   "cell_type": "markdown",
   "id": "02f30878",
   "metadata": {},
   "source": [
    "## Create a Crop object from default crop file"
   ]
  },
  {
   "cell_type": "code",
   "execution_count": 6,
   "id": "afac3126",
   "metadata": {},
   "outputs": [
    {
     "data": {
      "text/plain": [
       "Alfalfa crop, Aragon  FD7      cultivar"
      ]
     },
     "execution_count": 6,
     "metadata": {},
     "output_type": "execute_result"
    }
   ],
   "source": [
    "# Crop\n",
    "crop = Crop('alfalfa')\n",
    "crop"
   ]
  },
  {
   "cell_type": "markdown",
   "id": "3ce6d4e1",
   "metadata": {},
   "source": [
    "## Create a management instance"
   ]
  },
  {
   "cell_type": "code",
   "execution_count": 7,
   "id": "6df91167",
   "metadata": {
    "scrolled": true
   },
   "outputs": [
    {
     "data": {
      "text/plain": [
       "'A'"
      ]
     },
     "execution_count": 7,
     "metadata": {},
     "output_type": "execute_result"
    }
   ],
   "source": [
    "# Management instance\n",
    "man = Management(\n",
    "    planting_date=DATES[10],\n",
    "    irrigation='A' # Automatic irrigation\n",
    ")\n",
    "# Modify mowing schedule\n",
    "mow_schedule = pd.DataFrame({\n",
    "    'DATE': [DATES[300].strftime('%y%j'), DATES[340].strftime('%y%j')], \n",
    "    'MOW': [1000, 1000], 'RSPLF': [20, 20], 'MVS': [2, 2], 'RSHT': [5, 5]\n",
    "})\n",
    "man.mow['table'] = TabularSubsection(mow_schedule)\n",
    "# Check the simulation control value for Irrigation\n",
    "man.simulation_controls['IRRIG']"
   ]
  },
  {
   "cell_type": "markdown",
   "id": "d11cb11b",
   "metadata": {},
   "source": [
    "## Setup the simulation environment and run the model"
   ]
  },
  {
   "cell_type": "code",
   "execution_count": 8,
   "id": "ae21abf0",
   "metadata": {
    "scrolled": false
   },
   "outputs": [
    {
     "name": "stdout",
     "output_type": "stream",
     "text": [
      "/tmp/dssatkoykjpix created.\n",
      "Static files copied to /tmp/dssatkoykjpix.\n",
      "RUN    TRT FLO MAT TOPWT HARWT  RAIN  TIRR   CET  PESW  TNUP  TNLF   TSON TSOC\n",
      "           dap dap kg/ha kg/ha    mm    mm    mm    mm kg/ha kg/ha  kg/ha t/ha\n",
      "  1 AL   1 -99 -99   -99  4083     0  2281  2336    19   -99   -99      0  142\n"
     ]
    }
   ],
   "source": [
    "dssat = DSSAT()\n",
    "dssat.setup()\n",
    "dssat.run(\n",
    "    soil=soil, weather=wth, crop=crop, management=man,\n",
    ")"
   ]
  },
  {
   "cell_type": "code",
   "execution_count": 9,
   "id": "db957740",
   "metadata": {},
   "outputs": [
    {
     "data": {
      "text/plain": [
       "Text(0, 0.5, 'Ton/ha')"
      ]
     },
     "execution_count": 9,
     "metadata": {},
     "output_type": "execute_result"
    },
    {
     "data": {
      "image/png": "[encoded data removed]",
      "text/plain": [
       "<Figure size 432x288 with 1 Axes>"
      ]
     },
     "metadata": {
      "needs_background": "light"
     },
     "output_type": "display_data"
    }
   ],
   "source": [
    "# Save the output\n",
    "output_1 = dssat.output['PlantGro']\n",
    "ax = output_1.CWAD.plot()\n",
    "ax.set_title('Above ground Biomass')\n",
    "ax.set_ylabel('Ton/ha')"
   ]
  },
  {
   "cell_type": "code",
   "execution_count": 10,
   "id": "708d2fc3",
   "metadata": {},
   "outputs": [
    {
     "data": {
      "text/plain": [
       "Text(0, 0.5, 'Ton/ha')"
      ]
     },
     "execution_count": 10,
     "metadata": {},
     "output_type": "execute_result"
    },
    {
     "data": {
      "image/png": "[encoded data removed]",
      "text/plain": [
       "<Figure size 432x288 with 1 Axes>"
      ]
     },
     "metadata": {
      "needs_background": "light"
     },
     "output_type": "display_data"
    }
   ],
   "source": [
    "ax = output_1.loc[output_1.HERB > 0, 'HERB'].plot(kind='bar', color='g')\n",
    "ax.set_title('Harvested forage')\n",
    "ax.set_ylabel('Ton/ha')"
   ]
  },
  {
   "cell_type": "code",
   "execution_count": 11,
   "id": "a89f708e",
   "metadata": {},
   "outputs": [
    {
     "name": "stdout",
     "output_type": "stream",
     "text": [
      "/tmp/dssatkoykjpix and its content has been removed.\n"
     ]
    }
   ],
   "source": [
    "dssat.close()"
   ]
  },
  {
   "cell_type": "code",
   "execution_count": null,
   "id": "f01b5202",
   "metadata": {},
   "outputs": [],
   "source": []
  }
 ],
 "metadata": {
  "kernelspec": {
   "display_name": "Python 3 (ipykernel)",
   "language": "python",
   "name": "python3"
  },
  "language_info": {
   "codemirror_mode": {
    "name": "ipython",
    "version": 3
   },
   "file_extension": ".py",
   "mimetype": "text/x-python",
   "name": "python",
   "nbconvert_exporter": "python",
   "pygments_lexer": "ipython3",
   "version": "3.9.12"
  }
 },
 "nbformat": 4,
 "nbformat_minor": 5
}
