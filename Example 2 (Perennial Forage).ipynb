{
 "cells": [
  {
   "cell_type": "markdown",
   "id": "e057e62e",
   "metadata": {},
   "source": [
    "# DSSATTools Perennial forage example notebook\n",
    "\n",
    "Simulating perennial forages implicates creating extra input files, and dealing with extra output files as well. As there are extra files in DSSAT for this kind of crops, DSSATTools also has different classes to represent those extra files. You must have gone through the first example notebook (Basics). \n",
    "\n",
    "As an example, we will be recreating the Experiment AGZG1501, Treatment 1."
   ]
  },
  {
   "cell_type": "code",
   "execution_count": 1,
   "id": "2b88ac7d",
   "metadata": {},
   "outputs": [
    {
     "name": "stderr",
     "output_type": "stream",
     "text": [
      "/home/diego/DSSATTools_notebooks/venv/lib/python3.10/site-packages/DSSATTools/__init__.py:105: DeprecationWarning: DSSATTools version 3.0.0 is a major upgrade and will not be backwards compatible with previous versions. If you are running code that was developed  using a previous DSSATTools version, then install DSSATTools version 2.1.6\n",
      "  warnings.warn(\n"
     ]
    }
   ],
   "source": [
    "from DSSATTools import (\n",
    "    crop, # module that contains the classes for the different crops.\n",
    "    WeatherStation, # class needed to define the Weather. \n",
    "    SoilProfile, SoilLayer, # classes that define the entire soil profile, and the soil layers within the soil profile\n",
    "    filex, # module that contains the clases for the FileX sections.\n",
    "    DSSAT # the simulation environment class.\n",
    ")\n",
    "from DSSATTools.filex import IrrigationEvent, FertilizerEvent, MowEvent # Individual events\n",
    "import pandas as pd\n",
    "from datetime import datetime\n",
    "import tempfile\n",
    "import os"
   ]
  },
  {
   "cell_type": "markdown",
   "id": "1eb350a3-b743-45d2-b899-b6115b0f7232",
   "metadata": {},
   "source": [
    "**Weather**\n",
    "\n",
    "We will create the weather from a DataFrame with the DSSAT Weather files for this experiment."
   ]
  },
  {
   "cell_type": "code",
   "execution_count": 2,
   "id": "e57451eb-3cb2-44d1-a2d3-03d6c9d9f1e6",
   "metadata": {},
   "outputs": [
    {
     "data": {
      "text/plain": [
       "WeatherStation(insi='TARD', lat=33.3, long=-84.3, elev=300.0, tav=14.3, amp=18.2, refht=nan, wndht=nan, cco2=nan, table=\n",
       "   DATE  SRAD  TMAX  TMIN  RAIN  DEWP  WIND   PAR  EVAP  RHUM \n",
       "2015001   8.8  10.7  -7.1   0.0   -99  53.6   -99   0.5  75.3\n",
       "2015002   8.2  11.1  -6.7   0.0   -99  40.6   -99   0.4  81.4\n",
       "2015003   8.6  15.5  -4.0   0.0   -99  93.3   -99   1.0  64.7\n",
       "2015004   8.9  16.0  -0.6   0.0   -99 189.2   -99   1.2  76.4\n",
       "2015005   4.7   7.3  -2.9   0.1   -99  52.7   -99   0.3  99.3\n",
       "2015006   2.5   6.5   0.0   0.0   -99  98.5   -99   0.3 100.0\n",
       "...\n",
       "...)"
      ]
     },
     "execution_count": 2,
     "metadata": {},
     "output_type": "execute_result"
    }
   ],
   "source": [
    "# Create DataFrame from DSSAT Weather files\n",
    "df = []\n",
    "for year in range(15, 18):\n",
    "    df.append(pd.read_fwf(\n",
    "        f'https://github.com/DSSAT/dssat-csm-data/blob/develop/Weather/TARD{year}01.WTH?raw=true',\n",
    "        skiprows=4, colspecs=[(6*i, 6*i+5) for i in range(10)]\n",
    "    ))\n",
    "df = pd.concat(df, ignore_index=True)\n",
    "df.columns = [\n",
    "    'date', 'srad', 'tmax', 'tmin', 'rain', 'dewp',\n",
    "    'wind', 'par', 'evap', 'rhum'\n",
    "]\n",
    "df[\"date\"] = pd.to_datetime(df.date, format='%y%j')\n",
    "df.head()\n",
    "\n",
    "# Create weather station using the DataFrame\n",
    "weather_station = WeatherStation(\n",
    "    insi='TARD', lat=33.3, long=-84.3, elev=300, tav=14.3, amp=18.2, \n",
    "    table=df\n",
    ")\n",
    "weather_station"
   ]
  },
  {
   "cell_type": "markdown",
   "id": "df82541a-fc92-4e6c-a854-1c23fad76c48",
   "metadata": {},
   "source": [
    "**Soil**\n",
    "\n",
    "The soil file will created from the DSSAT Soil file."
   ]
  },
  {
   "cell_type": "code",
   "execution_count": 3,
   "id": "fae53b17-238a-4edd-83e3-3aee30888445",
   "metadata": {},
   "outputs": [
    {
     "data": {
      "text/plain": [
       "SoilProfile(name='AGSP209115', soil_data_source='EUROFINS', soil_clasification='SIC', soil_depth=120.0, soil_series_name='ALFALFA, HYDRANT 209b', site='LA VIOLADA', country='SPAIN', lat=41.0, long=0.0, scs_family='PETROCALCIC CALCIXEREPT', scom='G', salb=0.13, slu1=6.0, sldr=0.6, slro=73.0, slnf=1.0, slpf=1.0, smhb='IB001', smpx='IB001', smke='IB001', table=\n",
       "  SLB SLMH   SLLL  SDUL  SSAT  SRGF  SSKS  SBDM  SLOC  SLCL  SLSI  SLCF  SLNI  SLHW  SLHB  SCEC  SADC  SLPX  SLPT  SLPO CACO3  SLAL  SLFE  SLMN  SLBS  SLPA  SLPB  SLKE  SLMG  SLNA  SLSU  SLEC  SLCA \n",
       "   30 -99   0.117 0.433 0.497 1.000  0.09  1.50  1.80  42.9  51.0   -99   -99   8.0   -99  16.0   -99   -99   -99   -99   -99   -99   -99   -99   -99   -99   -99   -99   -99   -99   -99   -99   -99\n",
       "   60 -99   0.220 0.449 0.553 0.407  0.68  1.50  0.50   6.4  70.0   -99   -99   8.0   -99  13.0   -99   -99   -99   -99   -99   -99   -99   -99   -99   -99   -99   -99   -99   -99   -99   -99   -99\n",
       "   90 -99   0.219 0.470 0.507 0.223  0.68  1.50  0.80  24.4  60.0   -99   -99   8.0   -99  11.0   -99   -99   -99   -99   -99   -99   -99   -99   -99   -99   -99   -99   -99   -99   -99   -99   -99\n",
       "  120 -99   0.223 0.464 0.546 0.122  0.68  1.40  0.40   5.5  67.0   -99   -99   8.0   -99  14.0   -99   -99   -99   -99   -99   -99   -99   -99   -99   -99   -99   -99   -99   -99   -99   -99   -99\n",
       ")"
      ]
     },
     "execution_count": 3,
     "metadata": {},
     "output_type": "execute_result"
    }
   ],
   "source": [
    "# Download and save the DSSAT Soil file \n",
    "import urllib.request\n",
    "response = urllib.request.urlopen('https://github.com/DSSAT/dssat-csm-data/blob/develop/Soil/AG.SOL?raw=true')\n",
    "soil_file_str = ''.join([l.decode('utf-8') for l in response])\n",
    "with open('AG.SOL', 'w') as f:\n",
    "    f.write(soil_file_str)\n",
    "soil = SoilProfile.from_file('AGSP209115', 'AG.SOL')\n",
    "soil"
   ]
  },
  {
   "cell_type": "markdown",
   "id": "4fd44e18-2b63-4653-a5bc-79edc38fa4a7",
   "metadata": {},
   "source": [
    "**Cultivar**"
   ]
  },
  {
   "cell_type": "code",
   "execution_count": 4,
   "id": "8adf8f90-e5cf-4585-bfc2-737807496d70",
   "metadata": {},
   "outputs": [
    {
     "data": {
      "text/plain": [
       "CropPars(vrname='Aragon  FD7', expno='', eco#=CropPars(econame='Aragon FD7', mg='00', tm='01', thvar=1.0, pl-em=0.0, em-v1=0.0, v1-ju=0.0, ju-r0=9999.0, pm06=0.0, pm09=0.75, lngsh=10.0, r7-r8=9999.0, fl-vs=9999.0, trifl=0.25, rwdth=1.0, rhght=1.0, r1ppo=0.0, optbi=0.0, slobi=0.0, rdrmt=0.421, rdrmg=1.0, rdrmm=0.85, rchdp=1.0), csdl=12.5, ppsen=0.2, em-fl=99.0, fl-sh=10.0, fl-sd=18.0, sd-pm=33.0, fl-lf=25.0, lfmax=1.4, slavr=240.0, sizlf=2.0, xfrt=0.01, wtpsd=0.02, sfdur=15.0, sdpdv=2.05, podur=20.0, thrsh=78.0, sdpro=0.115, sdlip=0.035)"
      ]
     },
     "execution_count": 4,
     "metadata": {},
     "output_type": "execute_result"
    }
   ],
   "source": [
    "cultivar = crop.Alfalfa('AL0001')\n",
    "cultivar"
   ]
  },
  {
   "cell_type": "markdown",
   "id": "dac142c4-a2ac-4cf2-89ba-ef70c5505714",
   "metadata": {},
   "source": [
    "**FileX (Management and Options)**\n",
    "\n",
    "In this case we will create all the FileX sections using the class for each section."
   ]
  },
  {
   "cell_type": "code",
   "execution_count": 5,
   "id": "b4799324-e9eb-4180-9193-09b0f00d8db0",
   "metadata": {},
   "outputs": [],
   "source": [
    "field = filex.Field(\n",
    "    id_field='AGZA1501', wsta=weather_station, id_soil=soil, \n",
    "    flname='IRRIGATED, 63 kg N/ha (2015-2017)', xcrd=42.0, ycrd=0.0, elev=222.0\n",
    ")\n",
    "# Planting section\n",
    "planting = filex.Planting(\n",
    "    pdate=datetime(2015, 9, 20), ppop=400.0, ppoe=400.0, plme='S', plds='R', \n",
    "    plrs=10.0, plrd=0.0, pldp=2.0, plwt=2000.0, page=150.0, penv=32.0, \n",
    "    plph=1.0, sprl=0.0, plname='209'\n",
    ")\n",
    "# Fertilizer section\n",
    "fertilizer = filex.Fertilizer(\n",
    "    table=[    \n",
    "        FertilizerEvent(\n",
    "            fdate=datetime(2016, 4, 28), fmcd='FE001', facd='AP001', fdep=1.0, \n",
    "            famn=63.0, famp=162.0, fername='209a-b'\n",
    "        )\n",
    "    ]\n",
    ")\n",
    "# Harvest section\n",
    "harvest = filex.Harvest(hdate=datetime(2017, 4, 30), hstg='GS000', hcom='C', hsize='A')\n",
    "# Simulation controls\n",
    "simulation_controls = filex.SimulationControls(\n",
    "    general=filex.SCGeneral(nyers=1.0, nreps=1.0, start='P', sdate=datetime(2015, 1, 1)),\n",
    "    options=filex.SCOptions(\n",
    "        water='Y', nitro='Y', symbi='Y', phosp='N', potas='N', \n",
    "        dises='N', chem='N', till='Y', co2='M'\n",
    "    ),\n",
    "    methods=filex.SCMethods(\n",
    "        wther='M', incon='M', light='E', evapo='F', infil='S', photo='L', \n",
    "        hydro='R', nswit='0', mesom='P', mesev='R', mesol='2'\n",
    "    ),\n",
    "    management=filex.SCManagement(plant='R', irrig='R', ferti='R', resid='R', harvs='R'),\n",
    ")"
   ]
  },
  {
   "cell_type": "markdown",
   "id": "df41147c-b974-415a-b58f-fa2264b416a3",
   "metadata": {},
   "source": [
    "This particular experiment has several irrigation events: "
   ]
  },
  {
   "cell_type": "code",
   "execution_count": 6,
   "id": "a44f6eef-d82a-49b3-a60b-7c65f6665653",
   "metadata": {},
   "outputs": [
    {
     "data": {
      "text/plain": [
       "Irrigation(efir=1.0, idep=30.0, ithr=50.0, iept=100.0, ioff='GS000', iame='IR001', iamt=10.0, irname='209-a-b', table=\n",
       "IDATE  IROP IRVAL \n",
       "16118 IR004  17.2\n",
       "16119 IR004  10.6\n",
       "16123 IR004   3.5\n",
       "16125 IR004   5.8\n",
       "16127 IR004   5.8\n",
       "16128 IR004   5.8\n",
       "...\n",
       "...)"
      ]
     },
     "execution_count": 6,
     "metadata": {},
     "output_type": "execute_result"
    }
   ],
   "source": [
    "irrigation = filex.Irrigation(\n",
    "    efir=1.0, idep=30.0, ithr=50.0, iept=100.0, ioff='GS000', iame='IR001', \n",
    "    iamt=10.0, irname='209-a-b',\n",
    "    table = [\n",
    "        IrrigationEvent(idate=datetime(2016, 4, 27), irop='IR004', irval=17.2),\n",
    "        IrrigationEvent(idate=datetime(2016, 4, 28), irop='IR004', irval=10.6),\n",
    "        IrrigationEvent(idate=datetime(2016, 5, 2), irop='IR004', irval=3.5),\n",
    "        IrrigationEvent(idate=datetime(2016, 5, 4), irop='IR004', irval=5.8),\n",
    "        IrrigationEvent(idate=datetime(2016, 5, 6), irop='IR004', irval=5.8),\n",
    "        IrrigationEvent(idate=datetime(2016, 5, 7), irop='IR004', irval=5.8),\n",
    "        IrrigationEvent(idate=datetime(2016, 5, 14), irop='IR004', irval=5.8),\n",
    "        IrrigationEvent(idate=datetime(2016, 5, 16), irop='IR004', irval=3.9),\n",
    "        IrrigationEvent(idate=datetime(2016, 5, 18), irop='IR004', irval=3.9),\n",
    "        IrrigationEvent(idate=datetime(2016, 5, 20), irop='IR004', irval=3.9),\n",
    "        IrrigationEvent(idate=datetime(2016, 5, 21), irop='IR004', irval=3.9),\n",
    "        IrrigationEvent(idate=datetime(2016, 5, 23), irop='IR004', irval=3.9),\n",
    "        IrrigationEvent(idate=datetime(2016, 5, 25), irop='IR004', irval=11.5),\n",
    "        IrrigationEvent(idate=datetime(2016, 5, 27), irop='IR004', irval=8.6),\n",
    "        IrrigationEvent(idate=datetime(2016, 5, 28), irop='IR004', irval=5.8),\n",
    "        IrrigationEvent(idate=datetime(2016, 5, 30), irop='IR004', irval=5.8),\n",
    "        IrrigationEvent(idate=datetime(2016, 6, 1), irop='IR004', irval=11.6),\n",
    "        IrrigationEvent(idate=datetime(2016, 6, 3), irop='IR004', irval=11.7),\n",
    "        IrrigationEvent(idate=datetime(2016, 6, 4), irop='IR004', irval=4.8),\n",
    "        IrrigationEvent(idate=datetime(2016, 6, 13), irop='IR004', irval=5.2),\n",
    "        IrrigationEvent(idate=datetime(2016, 6, 15), irop='IR004', irval=6.4),\n",
    "        IrrigationEvent(idate=datetime(2016, 6, 16), irop='IR004', irval=5.2),\n",
    "        IrrigationEvent(idate=datetime(2016, 6, 17), irop='IR004', irval=6.3),\n",
    "        IrrigationEvent(idate=datetime(2016, 6, 18), irop='IR004', irval=5.2),\n",
    "        IrrigationEvent(idate=datetime(2016, 6, 19), irop='IR004', irval=5.8),\n",
    "        IrrigationEvent(idate=datetime(2016, 6, 20), irop='IR004', irval=6.4),\n",
    "        IrrigationEvent(idate=datetime(2016, 6, 21), irop='IR004', irval=5.2),\n",
    "        IrrigationEvent(idate=datetime(2016, 6, 22), irop='IR004', irval=6.4),\n",
    "        IrrigationEvent(idate=datetime(2016, 6, 23), irop='IR004', irval=5.0),\n",
    "        IrrigationEvent(idate=datetime(2016, 6, 24), irop='IR004', irval=17.5),\n",
    "        IrrigationEvent(idate=datetime(2016, 6, 25), irop='IR004', irval=6.4),\n",
    "        IrrigationEvent(idate=datetime(2016, 6, 26), irop='IR004', irval=11.6),\n",
    "        IrrigationEvent(idate=datetime(2016, 6, 28), irop='IR004', irval=5.2),\n",
    "        IrrigationEvent(idate=datetime(2016, 6, 29), irop='IR004', irval=6.4),\n",
    "        IrrigationEvent(idate=datetime(2016, 6, 30), irop='IR004', irval=5.2),\n",
    "        IrrigationEvent(idate=datetime(2016, 7, 1), irop='IR004', irval=5.7),\n",
    "        IrrigationEvent(idate=datetime(2016, 7, 2), irop='IR004', irval=6.4),\n",
    "        IrrigationEvent(idate=datetime(2016, 7, 3), irop='IR004', irval=11.4),\n",
    "        IrrigationEvent(idate=datetime(2016, 7, 5), irop='IR004', irval=5.2),\n",
    "        IrrigationEvent(idate=datetime(2016, 7, 6), irop='IR004', irval=12.8),\n",
    "        IrrigationEvent(idate=datetime(2016, 7, 14), irop='IR004', irval=14.5),\n",
    "        IrrigationEvent(idate=datetime(2016, 7, 16), irop='IR004', irval=8.0),\n",
    "        IrrigationEvent(idate=datetime(2016, 7, 17), irop='IR004', irval=6.5),\n",
    "        IrrigationEvent(idate=datetime(2016, 7, 19), irop='IR004', irval=8.0),\n",
    "        IrrigationEvent(idate=datetime(2016, 7, 20), irop='IR004', irval=6.5),\n",
    "        IrrigationEvent(idate=datetime(2016, 7, 21), irop='IR004', irval=37.9),\n",
    "        IrrigationEvent(idate=datetime(2016, 7, 22), irop='IR004', irval=14.4),\n",
    "        IrrigationEvent(idate=datetime(2016, 7, 23), irop='IR004', irval=7.9),\n",
    "        IrrigationEvent(idate=datetime(2016, 7, 24), irop='IR004', irval=6.4),\n",
    "        IrrigationEvent(idate=datetime(2016, 7, 24), irop='IR004', irval=43.6),\n",
    "        IrrigationEvent(idate=datetime(2016, 7, 27), irop='IR004', irval=6.4),\n",
    "        IrrigationEvent(idate=datetime(2016, 7, 28), irop='IR004', irval=7.9),\n",
    "        IrrigationEvent(idate=datetime(2016, 7, 29), irop='IR004', irval=6.4),\n",
    "        IrrigationEvent(idate=datetime(2016, 7, 30), irop='IR004', irval=38.3),\n",
    "        IrrigationEvent(idate=datetime(2016, 7, 31), irop='IR004', irval=14.3),\n",
    "        IrrigationEvent(idate=datetime(2016, 8, 2), irop='IR004', irval=8.0),\n",
    "        IrrigationEvent(idate=datetime(2016, 8, 3), irop='IR004', irval=6.5),\n",
    "        IrrigationEvent(idate=datetime(2016, 8, 4), irop='IR004', irval=38.6),\n",
    "        IrrigationEvent(idate=datetime(2016, 8, 5), irop='IR004', irval=7.9),\n",
    "        IrrigationEvent(idate=datetime(2016, 8, 6), irop='IR004', irval=6.5),\n",
    "        IrrigationEvent(idate=datetime(2016, 8, 7), irop='IR004', irval=14.5),\n",
    "        IrrigationEvent(idate=datetime(2016, 8, 17), irop='IR004', irval=8.0),\n",
    "        IrrigationEvent(idate=datetime(2016, 8, 18), irop='IR004', irval=6.5),\n",
    "        IrrigationEvent(idate=datetime(2016, 8, 19), irop='IR004', irval=14.4),\n",
    "        IrrigationEvent(idate=datetime(2016, 8, 20), irop='IR004', irval=7.9),\n",
    "        IrrigationEvent(idate=datetime(2016, 8, 22), irop='IR004', irval=6.5),\n",
    "        IrrigationEvent(idate=datetime(2016, 8, 23), irop='IR004', irval=14.4),\n",
    "        IrrigationEvent(idate=datetime(2016, 8, 24), irop='IR004', irval=7.9),\n",
    "        IrrigationEvent(idate=datetime(2016, 8, 25), irop='IR004', irval=6.5),\n",
    "        IrrigationEvent(idate=datetime(2016, 8, 26), irop='IR004', irval=5.8),\n",
    "        IrrigationEvent(idate=datetime(2016, 8, 27), irop='IR004', irval=5.8),\n",
    "        IrrigationEvent(idate=datetime(2016, 8, 29), irop='IR004', irval=5.8),\n",
    "        IrrigationEvent(idate=datetime(2016, 8, 30), irop='IR004', irval=5.8),\n",
    "        IrrigationEvent(idate=datetime(2016, 8, 31), irop='IR004', irval=5.8),\n",
    "        IrrigationEvent(idate=datetime(2016, 9, 1), irop='IR004', irval=5.8),\n",
    "        IrrigationEvent(idate=datetime(2016, 9, 2), irop='IR004', irval=5.7),\n",
    "        IrrigationEvent(idate=datetime(2016, 9, 3), irop='IR004', irval=5.8),\n",
    "        IrrigationEvent(idate=datetime(2016, 9, 5), irop='IR004', irval=5.8),\n",
    "        IrrigationEvent(idate=datetime(2016, 9, 6), irop='IR004', irval=5.8),\n",
    "        IrrigationEvent(idate=datetime(2016, 9, 7), irop='IR004', irval=5.8),\n",
    "        IrrigationEvent(idate=datetime(2016, 9, 8), irop='IR004', irval=5.8),\n",
    "        IrrigationEvent(idate=datetime(2016, 9, 9), irop='IR004', irval=5.8),\n",
    "        IrrigationEvent(idate=datetime(2016, 9, 10), irop='IR004', irval=5.8),\n",
    "        IrrigationEvent(idate=datetime(2016, 9, 11), irop='IR004', irval=5.8),\n",
    "        IrrigationEvent(idate=datetime(2016, 9, 13), irop='IR004', irval=5.8),\n",
    "        IrrigationEvent(idate=datetime(2016, 9, 20), irop='IR004', irval=5.8),\n",
    "        IrrigationEvent(idate=datetime(2016, 9, 27), irop='IR004', irval=5.8),\n",
    "        IrrigationEvent(idate=datetime(2016, 10, 4), irop='IR004', irval=5.8),\n",
    "        IrrigationEvent(idate=datetime(2016, 10, 11), irop='IR004', irval=5.8),\n",
    "        IrrigationEvent(idate=datetime(2016, 10, 15), irop='IR004', irval=5.8),\n",
    "        IrrigationEvent(idate=datetime(2016, 10, 20), irop='IR004', irval=5.8)\n",
    "    ]\n",
    ")\n",
    "irrigation"
   ]
  },
  {
   "cell_type": "markdown",
   "id": "e7578900-b469-411a-bc3b-c520b4c06fef",
   "metadata": {},
   "source": [
    "**Mow**\n",
    "\n",
    "The Mow section can be read from a file using the `Mow.from_file` class function. This function will return a dictionary containing the Mow classes for the different treatments in that Mow file:"
   ]
  },
  {
   "cell_type": "code",
   "execution_count": 7,
   "id": "334eee3b-d88b-4092-b640-f834d7826ce6",
   "metadata": {},
   "outputs": [
    {
     "data": {
      "text/plain": [
       "Mow(, table=\n",
       " DATE   MOW RSPLF   MVS  RSHT \n",
       "16116  1000    20     2   5.0\n",
       "16146  1000    20     2   5.0\n",
       "16188  1000    20     2   5.0\n",
       "16215  1000    20     2   5.0\n",
       "16250  1000    20     2   5.0\n",
       "16312  1000    20     2   5.0\n",
       "...\n",
       "...)"
      ]
     },
     "execution_count": 7,
     "metadata": {},
     "output_type": "execute_result"
    }
   ],
   "source": [
    "response = urllib.request.urlopen('https://github.com/DSSAT/dssat-csm-data/blob/develop/Alfalfa/AGZG1501.MOW?raw=true')\n",
    "soil_file_str = ''.join([l.decode('utf-8') for l in response])\n",
    "with open('AGZG1501.MOW', 'w') as f:\n",
    "    f.write(soil_file_str)\n",
    "\n",
    "mow_treatments = filex.Mow.from_file('AGZG1501.MOW')\n",
    "mow = mow_treatments[1]\n",
    "mow"
   ]
  },
  {
   "cell_type": "markdown",
   "id": "23e598ca-bc20-4b08-9fdc-f4e808fe6825",
   "metadata": {},
   "source": [
    "We can also create the Mow section defining one event at a time:"
   ]
  },
  {
   "cell_type": "code",
   "execution_count": 8,
   "id": "67ca2cb2-f0b9-486c-b24a-b2bfb358314b",
   "metadata": {},
   "outputs": [
    {
     "data": {
      "text/plain": [
       "Mow(, table=\n",
       " DATE   MOW RSPLF   MVS  RSHT \n",
       "16116  1000    20     2   5.0\n",
       "16146  1000    20     2   5.0\n",
       "16188  1000    20     2   5.0\n",
       "16215  1000    20     2   5.0\n",
       "16250  1000    20     2   5.0\n",
       "16312  1000    20     2   5.0\n",
       "...\n",
       "...)"
      ]
     },
     "execution_count": 8,
     "metadata": {},
     "output_type": "execute_result"
    }
   ],
   "source": [
    "mow = filex.Mow(\n",
    "    table=[\n",
    "        MowEvent(date=datetime(2016, 4, 25), mow=1000.0, rsplf=20.0, mvs=2.0, rsht=5.0),\n",
    "        MowEvent(date=datetime(2016, 5, 25), mow=1000.0, rsplf=20.0, mvs=2.0, rsht=5.0),\n",
    "        MowEvent(date=datetime(2016, 7, 6), mow=1000.0, rsplf=20.0, mvs=2.0, rsht=5.0),\n",
    "        MowEvent(date=datetime(2016, 8, 2), mow=1000.0, rsplf=20.0, mvs=2.0, rsht=5.0),\n",
    "        MowEvent(date=datetime(2016, 9, 6), mow=1000.0, rsplf=20.0, mvs=2.0, rsht=5.0),\n",
    "        MowEvent(date=datetime(2016, 11, 7), mow=1000.0, rsplf=20.0, mvs=2.0, rsht=5.0),\n",
    "        MowEvent(date=datetime(2017, 4, 12), mow=1000.0, rsplf=20.0, mvs=2.0, rsht=5.0),\n",
    "        MowEvent(date=datetime(2017, 5, 23), mow=1000.0, rsplf=20.0, mvs=2.0, rsht=5.0)\n",
    "    ]\n",
    ")\n",
    "mow"
   ]
  },
  {
   "cell_type": "markdown",
   "id": "320d6c89-633b-415d-84f2-6c1935963d4d",
   "metadata": {},
   "source": [
    "**Running a single treatment**\n",
    "\n",
    "Now we can run the model as we did in the first notebook, with one key difference: in this case we also need to pass a Mow object:"
   ]
  },
  {
   "cell_type": "code",
   "execution_count": 9,
   "id": "965f4572-dd92-40b2-bd3b-59d4407790c7",
   "metadata": {},
   "outputs": [
    {
     "name": "stdout",
     "output_type": "stream",
     "text": [
      "/tmp/dssat_test created.\n",
      "\n",
      "RUN    TRT FLO MAT TOPWT HARWT  RAIN  TIRR   CET  PESW  TNUP  TNLF   TSON TSOC\n",
      "           dap dap kg/ha kg/ha    mm    mm    mm    mm kg/ha kg/ha  kg/ha t/ha\n",
      "  1 AL   1 -99 -99   -99 29612   555   793  1538     8   -99     8  21013  157\n"
     ]
    }
   ],
   "source": [
    "TMP = tempfile.tempdir\n",
    "dssat = DSSAT(os.path.join(TMP, 'dssat_test'))\n",
    "results = dssat.run_treatment(\n",
    "    field=field, cultivar=cultivar, planting=planting,\n",
    "    irrigation=irrigation, fertilizer=fertilizer,\n",
    "    harvest=harvest, simulation_controls=simulation_controls,\n",
    "    mow=mow\n",
    ")"
   ]
  },
  {
   "cell_type": "markdown",
   "id": "915319c7-44dd-46b2-9702-a42987199e42",
   "metadata": {},
   "source": [
    "**Check output**\n",
    "\n",
    "We can now check the output in the FORAGE.OUT file:"
   ]
  },
  {
   "cell_type": "code",
   "execution_count": 10,
   "id": "3c321fb7-8a1f-44c4-978f-f75ff7a65732",
   "metadata": {},
   "outputs": [
    {
     "name": "stdout",
     "output_type": "stream",
     "text": [
      "*Forage Model Harvest Output:         AL  DSSAT Cropping System Model Ver. 4.8.2.000      -HEAD    APR 13, 2025; 13:27:59\n",
      "\n",
      "@RUN FILEX    CR TRNO FHNO YEAR DOY RCWAH RLWAH RSWAH RSRWH RRTWH RLAIH FHWAH FHNAH FHN%H FHC%H FHLGH FHL%H  MOWC RSPLC\n",
      "   1          AL    1    1 2016 116  1000   200   800  1634  3245  0.31  2151    64  2.96  5.05  6.57  64.4    0.   0.0\n",
      "   1          AL    1    2 2016 146  1000   200   800  2152  3773  0.38  3341   131  3.93  4.77  6.24  68.7    0.   0.0\n",
      "   1          AL    1    3 2016 188  1000   200   800  3102  4618  0.53  6303   178  2.82  5.04  7.11  57.2    0.   0.0\n",
      "   1          AL    1    4 2016 215  1000   200   800  3376  4516  0.54  3555   122  3.44  4.92  6.67  63.0    0.   0.0\n",
      "   1          AL    1    5 2016 250  1000   200   800  3969  4659  0.57  4099   122  2.99  5.03  6.98  58.9    0.   0.0\n",
      "   1          AL    1    6 2016 312  1000   200   800  4994  3273  0.49  4104   103  2.51  4.75  7.05  58.0    0.   0.0\n",
      "   1          AL    1    7 2017 102  1000   200   800  6242  2851  0.32  6060   161  2.66  5.31  7.31  54.5    0.   0.0\n",
      "\n"
     ]
    }
   ],
   "source": [
    "print(dssat.output_files['FORAGE'])"
   ]
  },
  {
   "cell_type": "code",
   "execution_count": 11,
   "id": "f95f9a1e-0eca-4d32-8545-9993611d6cd1",
   "metadata": {},
   "outputs": [
    {
     "data": {
      "text/html": [
       "<div>\n",
       "<style scoped>\n",
       "    .dataframe tbody tr th:only-of-type {\n",
       "        vertical-align: middle;\n",
       "    }\n",
       "\n",
       "    .dataframe tbody tr th {\n",
       "        vertical-align: top;\n",
       "    }\n",
       "\n",
       "    .dataframe thead th {\n",
       "        text-align: right;\n",
       "    }\n",
       "</style>\n",
       "<table border=\"1\" class=\"dataframe\">\n",
       "  <thead>\n",
       "    <tr style=\"text-align: right;\">\n",
       "      <th></th>\n",
       "      <th>@RUN</th>\n",
       "      <th>FILEX</th>\n",
       "      <th>CR</th>\n",
       "      <th>TRNO</th>\n",
       "      <th>FHNO</th>\n",
       "      <th>YEAR</th>\n",
       "      <th>DOY</th>\n",
       "      <th>RCWAH</th>\n",
       "      <th>RLWAH</th>\n",
       "      <th>RSWAH</th>\n",
       "      <th>...</th>\n",
       "      <th>RRTWH</th>\n",
       "      <th>RLAIH</th>\n",
       "      <th>FHWAH</th>\n",
       "      <th>FHNAH</th>\n",
       "      <th>FHN%H</th>\n",
       "      <th>FHC%H</th>\n",
       "      <th>FHLGH</th>\n",
       "      <th>FHL%H</th>\n",
       "      <th>MOWC</th>\n",
       "      <th>RSPLC</th>\n",
       "    </tr>\n",
       "  </thead>\n",
       "  <tbody>\n",
       "    <tr>\n",
       "      <th>0</th>\n",
       "      <td>1</td>\n",
       "      <td>NaN</td>\n",
       "      <td>AL</td>\n",
       "      <td>1</td>\n",
       "      <td>1</td>\n",
       "      <td>2016</td>\n",
       "      <td>116</td>\n",
       "      <td>1000</td>\n",
       "      <td>200</td>\n",
       "      <td>800</td>\n",
       "      <td>...</td>\n",
       "      <td>3245</td>\n",
       "      <td>0.31</td>\n",
       "      <td>2151</td>\n",
       "      <td>64</td>\n",
       "      <td>2.96</td>\n",
       "      <td>5.05</td>\n",
       "      <td>6.57</td>\n",
       "      <td>64.4</td>\n",
       "      <td>0.0</td>\n",
       "      <td>0.0</td>\n",
       "    </tr>\n",
       "    <tr>\n",
       "      <th>1</th>\n",
       "      <td>1</td>\n",
       "      <td>NaN</td>\n",
       "      <td>AL</td>\n",
       "      <td>1</td>\n",
       "      <td>2</td>\n",
       "      <td>2016</td>\n",
       "      <td>146</td>\n",
       "      <td>1000</td>\n",
       "      <td>200</td>\n",
       "      <td>800</td>\n",
       "      <td>...</td>\n",
       "      <td>3773</td>\n",
       "      <td>0.38</td>\n",
       "      <td>3341</td>\n",
       "      <td>131</td>\n",
       "      <td>3.93</td>\n",
       "      <td>4.77</td>\n",
       "      <td>6.24</td>\n",
       "      <td>68.7</td>\n",
       "      <td>0.0</td>\n",
       "      <td>0.0</td>\n",
       "    </tr>\n",
       "    <tr>\n",
       "      <th>2</th>\n",
       "      <td>1</td>\n",
       "      <td>NaN</td>\n",
       "      <td>AL</td>\n",
       "      <td>1</td>\n",
       "      <td>3</td>\n",
       "      <td>2016</td>\n",
       "      <td>188</td>\n",
       "      <td>1000</td>\n",
       "      <td>200</td>\n",
       "      <td>800</td>\n",
       "      <td>...</td>\n",
       "      <td>4618</td>\n",
       "      <td>0.53</td>\n",
       "      <td>6303</td>\n",
       "      <td>178</td>\n",
       "      <td>2.82</td>\n",
       "      <td>5.04</td>\n",
       "      <td>7.11</td>\n",
       "      <td>57.2</td>\n",
       "      <td>0.0</td>\n",
       "      <td>0.0</td>\n",
       "    </tr>\n",
       "    <tr>\n",
       "      <th>3</th>\n",
       "      <td>1</td>\n",
       "      <td>NaN</td>\n",
       "      <td>AL</td>\n",
       "      <td>1</td>\n",
       "      <td>4</td>\n",
       "      <td>2016</td>\n",
       "      <td>215</td>\n",
       "      <td>1000</td>\n",
       "      <td>200</td>\n",
       "      <td>800</td>\n",
       "      <td>...</td>\n",
       "      <td>4516</td>\n",
       "      <td>0.54</td>\n",
       "      <td>3555</td>\n",
       "      <td>122</td>\n",
       "      <td>3.44</td>\n",
       "      <td>4.92</td>\n",
       "      <td>6.67</td>\n",
       "      <td>63.0</td>\n",
       "      <td>0.0</td>\n",
       "      <td>0.0</td>\n",
       "    </tr>\n",
       "    <tr>\n",
       "      <th>4</th>\n",
       "      <td>1</td>\n",
       "      <td>NaN</td>\n",
       "      <td>AL</td>\n",
       "      <td>1</td>\n",
       "      <td>5</td>\n",
       "      <td>2016</td>\n",
       "      <td>250</td>\n",
       "      <td>1000</td>\n",
       "      <td>200</td>\n",
       "      <td>800</td>\n",
       "      <td>...</td>\n",
       "      <td>4659</td>\n",
       "      <td>0.57</td>\n",
       "      <td>4099</td>\n",
       "      <td>122</td>\n",
       "      <td>2.99</td>\n",
       "      <td>5.03</td>\n",
       "      <td>6.98</td>\n",
       "      <td>58.9</td>\n",
       "      <td>0.0</td>\n",
       "      <td>0.0</td>\n",
       "    </tr>\n",
       "    <tr>\n",
       "      <th>5</th>\n",
       "      <td>1</td>\n",
       "      <td>NaN</td>\n",
       "      <td>AL</td>\n",
       "      <td>1</td>\n",
       "      <td>6</td>\n",
       "      <td>2016</td>\n",
       "      <td>312</td>\n",
       "      <td>1000</td>\n",
       "      <td>200</td>\n",
       "      <td>800</td>\n",
       "      <td>...</td>\n",
       "      <td>3273</td>\n",
       "      <td>0.49</td>\n",
       "      <td>4104</td>\n",
       "      <td>103</td>\n",
       "      <td>2.51</td>\n",
       "      <td>4.75</td>\n",
       "      <td>7.05</td>\n",
       "      <td>58.0</td>\n",
       "      <td>0.0</td>\n",
       "      <td>0.0</td>\n",
       "    </tr>\n",
       "    <tr>\n",
       "      <th>6</th>\n",
       "      <td>1</td>\n",
       "      <td>NaN</td>\n",
       "      <td>AL</td>\n",
       "      <td>1</td>\n",
       "      <td>7</td>\n",
       "      <td>2017</td>\n",
       "      <td>102</td>\n",
       "      <td>1000</td>\n",
       "      <td>200</td>\n",
       "      <td>800</td>\n",
       "      <td>...</td>\n",
       "      <td>2851</td>\n",
       "      <td>0.32</td>\n",
       "      <td>6060</td>\n",
       "      <td>161</td>\n",
       "      <td>2.66</td>\n",
       "      <td>5.31</td>\n",
       "      <td>7.31</td>\n",
       "      <td>54.5</td>\n",
       "      <td>0.0</td>\n",
       "      <td>0.0</td>\n",
       "    </tr>\n",
       "  </tbody>\n",
       "</table>\n",
       "<p>7 rows × 21 columns</p>\n",
       "</div>"
      ],
      "text/plain": [
       "   @RUN  FILEX  CR  TRNO  FHNO  YEAR  DOY  RCWAH  RLWAH  RSWAH  ...  RRTWH  \\\n",
       "0     1    NaN  AL     1     1  2016  116   1000    200    800  ...   3245   \n",
       "1     1    NaN  AL     1     2  2016  146   1000    200    800  ...   3773   \n",
       "2     1    NaN  AL     1     3  2016  188   1000    200    800  ...   4618   \n",
       "3     1    NaN  AL     1     4  2016  215   1000    200    800  ...   4516   \n",
       "4     1    NaN  AL     1     5  2016  250   1000    200    800  ...   4659   \n",
       "5     1    NaN  AL     1     6  2016  312   1000    200    800  ...   3273   \n",
       "6     1    NaN  AL     1     7  2017  102   1000    200    800  ...   2851   \n",
       "\n",
       "   RLAIH  FHWAH  FHNAH  FHN%H  FHC%H  FHLGH  FHL%H  MOWC  RSPLC  \n",
       "0   0.31   2151     64   2.96   5.05   6.57   64.4   0.0    0.0  \n",
       "1   0.38   3341    131   3.93   4.77   6.24   68.7   0.0    0.0  \n",
       "2   0.53   6303    178   2.82   5.04   7.11   57.2   0.0    0.0  \n",
       "3   0.54   3555    122   3.44   4.92   6.67   63.0   0.0    0.0  \n",
       "4   0.57   4099    122   2.99   5.03   6.98   58.9   0.0    0.0  \n",
       "5   0.49   4104    103   2.51   4.75   7.05   58.0   0.0    0.0  \n",
       "6   0.32   6060    161   2.66   5.31   7.31   54.5   0.0    0.0  \n",
       "\n",
       "[7 rows x 21 columns]"
      ]
     },
     "execution_count": 11,
     "metadata": {},
     "output_type": "execute_result"
    }
   ],
   "source": [
    "# Make a DataFrame with that file\n",
    "from io import StringIO\n",
    "forage = pd.read_fwf(\n",
    "    StringIO(dssat.output_files['FORAGE']),\n",
    "    skiprows=1, widths=[4, 6, 6, 5, 5, 5, 4] + [6]*14\n",
    ")\n",
    "forage"
   ]
  },
  {
   "cell_type": "code",
   "execution_count": 12,
   "id": "d6656c9f-fdd6-4362-b62b-8c09f555e612",
   "metadata": {},
   "outputs": [
    {
     "data": {
      "text/plain": [
       "Text(0, 0.5, 'Forage yield (kg/ha)')"
      ]
     },
     "execution_count": 12,
     "metadata": {},
     "output_type": "execute_result"
    },
    {
     "data": {
      "image/png": "[encoded data removed]",
      "text/plain": [
       "<Figure size 640x480 with 1 Axes>"
      ]
     },
     "metadata": {},
     "output_type": "display_data"
    }
   ],
   "source": [
    "# Plot the different mows\n",
    "ax = forage.plot.bar(x='FHNO', y='FHWAH')\n",
    "ax.set_xlabel(\"Mow #\")\n",
    "ax.set_ylabel(\"Forage yield (kg/ha)\")"
   ]
  }
 ],
 "metadata": {
  "kernelspec": {
   "display_name": "Python 3 (ipykernel)",
   "language": "python",
   "name": "python3"
  },
  "language_info": {
   "codemirror_mode": {
    "name": "ipython",
    "version": 3
   },
   "file_extension": ".py",
   "mimetype": "text/x-python",
   "name": "python",
   "nbconvert_exporter": "python",
   "pygments_lexer": "ipython3",
   "version": "3.10.12"
  }
 },
 "nbformat": 4,
 "nbformat_minor": 5
}
