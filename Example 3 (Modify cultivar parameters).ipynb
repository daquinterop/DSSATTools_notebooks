{
 "cells": [
  {
   "cell_type": "markdown",
   "id": "d7e0b063-902c-4538-9db4-e0eeb1557e1f",
   "metadata": {},
   "source": [
    "# DSSATTools modify cultivar parameters example notebook\n",
    "\n",
    "The previous notebooks show how to create and modify Weather, Soil, and Experimental (management) options using an already defined Cultivar from the DSSAT cultivar files.\n",
    "\n",
    "Now, this library was originaly created to automate the simulations when calibrating the cultivar parameters, then modifying such parameters is a key feature. That is what this notebook is about. We will use the Maize BRPI0202 experiment, treatment 1, to show how cultivar parameters are modified."
   ]
  },
  {
   "cell_type": "code",
   "execution_count": 1,
   "id": "104a5f21-db04-418c-84da-63ff0bc6ef63",
   "metadata": {},
   "outputs": [
    {
     "name": "stderr",
     "output_type": "stream",
     "text": [
      "/home/diego/DSSATTools_notebooks/venv/lib/python3.10/site-packages/DSSATTools/__init__.py:105: DeprecationWarning: DSSATTools version 3.0.0 is a major upgrade and will not be backwards compatible with previous versions. If you are running code that was developed  using a previous DSSATTools version, then install DSSATTools version 2.1.6\n",
      "  warnings.warn(\n"
     ]
    }
   ],
   "source": [
    "from DSSATTools import (\n",
    "    crop, # module that contains the classes for the different crops.\n",
    "    WeatherStation, # class needed to define the Weather. \n",
    "    SoilProfile, SoilLayer, # classes that define the entire soil profile, and the soil layers within the soil profile\n",
    "    filex, # module that contains the clases for the FileX sections.\n",
    "    DSSAT # the simulation environment class.\n",
    ")\n",
    "import pandas as pd\n",
    "from datetime import datetime\n",
    "import tempfile\n",
    "import os"
   ]
  },
  {
   "cell_type": "markdown",
   "id": "f2b8defd-84c1-4429-b11e-00da7b6f4842",
   "metadata": {},
   "source": [
    "In the previous notebooks we manually defined most of the needed objects. In this case we will create them all by loading them directly from the DSSAT files if possible.\n",
    "\n",
    "**Weather**"
   ]
  },
  {
   "cell_type": "code",
   "execution_count": 18,
   "id": "18d66252-b666-4cc5-b473-790f25aef4dc",
   "metadata": {},
   "outputs": [
    {
     "data": {
      "text/plain": [
       "WeatherStation(insi='BRPI', lat=-22.43, long=-47.25, elev=580.0, tav=21.6, amp=7.2, refht=nan, wndht=2.0, cco2=nan, table=\n",
       "   DATE  SRAD  TMAX  TMIN  RAIN  DEWP  WIND   PAR  EVAP  RHUM \n",
       "2002001  11.3  28.2  19.6  21.6   -99   -99   -99   -99   -99\n",
       "2002002  23.1  29.9  18.7   0.2   -99   -99   -99   -99   -99\n",
       "2002003  27.0  31.6  19.5   0.0   -99   -99   -99   -99   -99\n",
       "2002004  24.5  31.7  19.4   0.0   -99   -99   -99   -99   -99\n",
       "2002005  22.5  31.7  19.6   0.0   -99   -99   -99   -99   -99\n",
       "2002006  22.9  31.8  19.7  11.9   -99   -99   -99   -99   -99\n",
       "...\n",
       "...)"
      ]
     },
     "execution_count": 18,
     "metadata": {},
     "output_type": "execute_result"
    }
   ],
   "source": [
    "# Download Weather file\n",
    "import urllib.request\n",
    "response = urllib.request.urlopen('https://github.com/DSSAT/dssat-csm-data/blob/v4.8.2.0/Weather/BRPI0201.WTH?raw=true')\n",
    "file_str = ''.join([l.decode('utf-8') for l in response])\n",
    "with open('BRPI0201.WTH', 'w') as f:\n",
    "    f.write(file_str)\n",
    "# Create weather station from file\n",
    "weather_station = WeatherStation.from_files([\"BRPI0201.WTH\",])\n",
    "weather_station"
   ]
  },
  {
   "cell_type": "markdown",
   "id": "1b4709fe-cc51-4a23-bc44-c9825499cee6",
   "metadata": {},
   "source": [
    "**Soil**"
   ]
  },
  {
   "cell_type": "code",
   "execution_count": 19,
   "id": "17f7f437-02b8-4084-9f3b-4ccf5a22a59a",
   "metadata": {},
   "outputs": [
    {
     "data": {
      "text/plain": [
       "SoilProfile(name='BRPI020001', soil_data_source='ESALQ', soil_clasification='C', soil_depth=120.0, soil_series_name='TERRA ROXA (RAINFED)', site='PIRACICABA', country='BRAZIL', lat=-22.43, long=-47.25, scs_family='Typic Eutrudox', scom='R', salb=0.14, slu1=6.0, sldr=0.3, slro=83.0, slnf=1.0, slpf=0.9, smhb='IB00', smpx='IB00', smke='IB00', table=\n",
       "  SLB SLMH   SLLL  SDUL  SSAT  SRGF  SSKS  SBDM  SLOC  SLCL  SLSI  SLCF  SLNI  SLHW  SLHB  SCEC  SADC  SLPX  SLPT  SLPO CACO3  SLAL  SLFE  SLMN  SLBS  SLPA  SLPB  SLKE  SLMG  SLNA  SLSU  SLEC  SLCA \n",
       "   20 A     0.170 0.280 0.450 1.000  0.10  0.90  1.40  61.0  17.0   0.0 0.100   5.0   -99  10.0   -99   -99   -99   -99   -99   -99   -99   -99   -99   -99   -99   -99   -99   -99   -99   -99   -99\n",
       "   40 AA    0.180 0.290 0.450 1.000  0.10  0.90  1.10  61.0  19.0   0.0 0.100   5.0   -99   9.0   -99   -99   -99   -99   -99   -99   -99   -99   -99   -99   -99   -99   -99   -99   -99   -99   -99\n",
       "  120 AB    0.180 0.280 0.460 0.600  0.10  1.10  1.40  61.0  17.0   0.0 0.100   5.0   -99   8.0   -99   -99   -99   -99   -99   -99   -99   -99   -99   -99   -99   -99   -99   -99   -99   -99   -99\n",
       ")"
      ]
     },
     "execution_count": 19,
     "metadata": {},
     "output_type": "execute_result"
    }
   ],
   "source": [
    "# Download file\n",
    "response = urllib.request.urlopen('https://github.com/DSSAT/dssat-csm-data/blob/v4.8.2.0/Soil/BR.SOL?raw=true')\n",
    "file_str = ''.join([l.decode('utf-8') for l in response])\n",
    "with open('BR.SOL', 'w') as f:\n",
    "    f.write(file_str)\n",
    "# Create soil profile\n",
    "soil = SoilProfile.from_file(\"BRPI020001\", \"BR.SOL\")\n",
    "soil"
   ]
  },
  {
   "cell_type": "markdown",
   "id": "6be76cc0-e822-446c-b5e3-77d0cecb5b6e",
   "metadata": {},
   "source": [
    "**FileX (Management and options)**"
   ]
  },
  {
   "cell_type": "code",
   "execution_count": 20,
   "id": "297e8443-96c1-4564-b2d1-f382db25811d",
   "metadata": {},
   "outputs": [
    {
     "data": {
      "text/plain": [
       "{'Cultivar': Cultivar(cr='MZ', ingeno='IB0171', cname='AG9010'),\n",
       " 'Field': Field(id_field='BRPI0001', wsta='BRPI0201', flsa=nan, flob=0.0, fldt='DR000', fldd=0.0, flds=0.0, flst='00000', sltx='', sldp=120.0, id_soil='BRPI020001', flname='RAINFED EXPERIMENT', xcrd=0.0, ycrd=0.0, elev=0.0, area=0.0, slen=0.0, flwr=0.0, slas=0.0, flhst='', fhdur=nan),\n",
       " 'InitialConditions': InitialConditions(pcr='MZ', icdat=DateType(2002, 3, 1), icrt=nan, icnd=nan, icrn=1.0, icre=1.0, icwd=nan, icres=5100.0, icren=1.5, icrep=nan, icrip=100.0, icrid=15.0, icname='rainfed', table=\n",
       "  ICBL  SH2O  SNH4  SNO3 \n",
       "    20 0.250   0.4   3.9\n",
       "    40 0.250   0.4   3.9\n",
       "   120 0.260   0.4   3.9\n",
       " ),\n",
       " 'Planting': Planting(pdate=DateType(2002, 3, 13), edate=DateType(2002, 3, 19), ppop=7.0, ppoe=5.0, plme='S', plds='R', plrs=80.0, plrd=45.0, pldp=5.0, plwt=nan, page=nan, penv=nan, plph=nan, sprl=0.0, plname=''),\n",
       " 'Fertilizer': Fertilizer(, table=\n",
       " FDATE  FMCD  FACD  FDEP  FAMN  FAMP  FAMK  FAMC  FAMO  FOCD FERNAME          \n",
       " 02072 FE027 AP001     5  20.0   -99   -99   -99   -99   -99 -99             \n",
       " 02093 FE005 AP003     0  50.0   0.0   0.0   0.0   0.0   -99 -99             \n",
       " ),\n",
       " 'SimulationControls': SimulationControls(general=SCGeneral(nyers=1.0, nreps=1.0, start='S', sdate=DateType(2002, 3, 1), rseed=2150.0, sname='2002 Maize Experiment Ir', smodel=''), options=SCOptions(water='Y', nitro='Y', symbi='N', phosp='N', potas='N', dises='N', chem='N', till='Y', co2='M'), methods=SCMethods(wther='M', incon='M', light='E', evapo='R', infil='S', photo='R', hydro='R', nswit='1', mesom='G', mesev='S', mesol='2'), management=SCManagement(plant='R', irrig='R', ferti='R', resid='N', harvs='M'), outputs=SCOutputs(fname='N', ovvew='Y', sumry='Y', fropt=1.0, grout='Y', caout='Y', waout='Y', niout='Y', miout='N', diout='N', vbose='Y', chout='N', opout='N', fmopt='A'), planting=AMPlanting(pfrst=DateType(2002, 3, 13), plast=DateType(2002, 3, 13), ph2ol=40.0, ph2ou=100.0, ph2od=30.0, pstmx=40.0, pstmn=10.0), irrigation=AMIrrigation(imdep=40.0, ithrl=50.0, ithru=100.0, iroff='GS000', imeth='IR004', iramt=10.0, ireff=0.9), nitrogen=AMNitrogen(nmdep=30.0, nmthr=50.0, namnt=25.0, ncode='FE001', naoff='GS000'), residues=AMResidues(ripcn=100.0, rtime=1.0, ridep=20.0), harvest=AMHarvest(hfrst=0.0, hlast=DateType(2002, 11, 16), hpcnp=100.0, hpcnr=0.0, hmfrq=nan, hmgdd=nan, hmcut=nan, hmmow=nan, hrspl=nan, hmvs=nan))}"
      ]
     },
     "execution_count": 20,
     "metadata": {},
     "output_type": "execute_result"
    }
   ],
   "source": [
    "# Download file\n",
    "response = urllib.request.urlopen('https://github.com/DSSAT/dssat-csm-data/blob/v4.8.2.0/Maize/BRPI0202.MZX?raw=true')\n",
    "file_str = ''.join([l.decode('utf-8') for l in response])\n",
    "with open('BRPI0202.MZX', 'w') as f:\n",
    "    f.write(file_str)\n",
    "    \n",
    "all_treatments = filex.read_filex('BRPI0202.MZX')\n",
    "treatment = all_treatments[1]\n",
    "treatment"
   ]
  },
  {
   "cell_type": "markdown",
   "id": "4912899c-e535-40e2-9484-190d7b3ac86c",
   "metadata": {},
   "source": [
    "We want now to create each invidual section from this dictionary. You can see that in `treatment` field has the weather station and soil profile defined as their codes or ids. Then we have to redefine those parameters to the weather station and soil profile objects:"
   ]
  },
  {
   "cell_type": "code",
   "execution_count": 21,
   "id": "e88ba549-8f7d-4075-a18d-e80bb75f34fd",
   "metadata": {},
   "outputs": [],
   "source": [
    "field = treatment['Field']\n",
    "# Redefine the weather station and soil profile fields\n",
    "field['wsta'] = weather_station\n",
    "field['id_soil'] = soil"
   ]
  },
  {
   "cell_type": "code",
   "execution_count": 22,
   "id": "505977db-c251-4bee-8006-544676a833c8",
   "metadata": {},
   "outputs": [],
   "source": [
    "# Get each section from the treatment dict\n",
    "planting = treatment['Planting']\n",
    "initial_conditions = treatment['InitialConditions']\n",
    "fertilizer = treatment['Fertilizer']\n",
    "simulation_controls = treatment['SimulationControls']"
   ]
  },
  {
   "cell_type": "markdown",
   "id": "b2de87b6-05e1-4a77-acae-aa74e77fc716",
   "metadata": {},
   "source": [
    "**Cultivar**\n",
    "\n",
    "Now, the cultivar from the FileX is defined as a FileX section, and not as a cultivar object, then we have to create that object based on the contents of the Cultivar section in the FileX: "
   ]
  },
  {
   "cell_type": "code",
   "execution_count": 23,
   "id": "73cf6bde-1a87-47d1-a6b6-ab95bc203ef3",
   "metadata": {},
   "outputs": [
    {
     "data": {
      "text/plain": [
       "Cultivar(cr='MZ', ingeno='IB0171', cname='AG9010')"
      ]
     },
     "execution_count": 23,
     "metadata": {},
     "output_type": "execute_result"
    }
   ],
   "source": [
    "treatment['Cultivar']"
   ]
  },
  {
   "cell_type": "code",
   "execution_count": 24,
   "id": "28f0cfa5-7190-49b7-ba8f-af81165b671a",
   "metadata": {},
   "outputs": [
    {
     "data": {
      "text/plain": [
       "CropPars(vrname='AG9010', expno='.', eco#=CropPars(econame='GENERIC MIDWEST1', tbase=8.0, topt=34.0, ropt=34.0, p20=12.5, djti=4.0, gdde=6.0, dsgft=170.0, rue=4.2, kcan=0.85, tsen=nan, cday=nan), p1=196.0, p2=0.5, p5=758.0, g2=830.0, g3=5.1, phint=40.0)"
      ]
     },
     "execution_count": 24,
     "metadata": {},
     "output_type": "execute_result"
    }
   ],
   "source": [
    "cultivar = crop.Maize('IB0171')\n",
    "cultivar"
   ]
  },
  {
   "cell_type": "markdown",
   "id": "1249b2a3-3661-4b59-b25a-8232e5bcf1e8",
   "metadata": {},
   "source": [
    "**Run the control scenario**\n",
    "\n",
    "The control scenario will be the scenario with the original cultivar parameters. Then we will tweak one of the phenology parameters to run alternative scenarios."
   ]
  },
  {
   "cell_type": "code",
   "execution_count": 25,
   "id": "8fce4473-daf2-43e1-82bb-0aac82dfd90d",
   "metadata": {},
   "outputs": [
    {
     "name": "stdout",
     "output_type": "stream",
     "text": [
      "/tmp/dssat_test created.\n",
      "\n",
      "RUN    TRT FLO MAT TOPWT HARWT  RAIN  TIRR   CET  PESW  TNUP  TNLF   TSON TSOC\n",
      "           dap dap kg/ha kg/ha    mm    mm    mm    mm kg/ha kg/ha  kg/ha t/ha\n",
      "  1 MZ   1  53 118  8882  3681   391     0   355     0   111    42  12351  169\n"
     ]
    }
   ],
   "source": [
    "TMP = tempfile.tempdir\n",
    "dssat = DSSAT(os.path.join(TMP, 'dssat_test'))\n",
    "results = {} # A dicitonary to save the results\n",
    "results[\"Control\"] = dssat.run_treatment(\n",
    "    field=field, cultivar=cultivar, planting=planting, initial_conditions=initial_conditions,\n",
    "    fertilizer=fertilizer, simulation_controls=simulation_controls,\n",
    ")"
   ]
  },
  {
   "cell_type": "markdown",
   "id": "4bd62c52-c220-4eb8-a8b2-8572f36e5d80",
   "metadata": {},
   "source": [
    "**Run for different values of p1 parameter**\n",
    "\n",
    "The cultivar parameters can be modified by assigning the parameter directly:"
   ]
  },
  {
   "cell_type": "code",
   "execution_count": 27,
   "id": "87099c46-2dc6-4cb6-bf8a-72927106ba99",
   "metadata": {},
   "outputs": [],
   "source": [
    "cultivar['p1'] = 196"
   ]
  },
  {
   "cell_type": "markdown",
   "id": "6851da03-c027-4519-b8c4-5652c98d66f0",
   "metadata": {},
   "source": [
    "Ecotype parameters are modified in a similar way:"
   ]
  },
  {
   "cell_type": "code",
   "execution_count": 28,
   "id": "322f1064-2ba3-462b-a0c6-8119e72d5703",
   "metadata": {},
   "outputs": [],
   "source": [
    "cultivar['eco#']['tbase'] = 8.0"
   ]
  },
  {
   "cell_type": "markdown",
   "id": "25f59858-d6cb-4a2c-95f8-dad65b9f19c7",
   "metadata": {},
   "source": [
    "Note that we did not change the values of those parameters as we assigned the same original values. Now we will change the p1 parameter, run the simulations, and save the results."
   ]
  },
  {
   "cell_type": "code",
   "execution_count": 29,
   "id": "be315c78-195e-48a6-bd17-d59b3bc6a74a",
   "metadata": {},
   "outputs": [
    {
     "name": "stdout",
     "output_type": "stream",
     "text": [
      "\n",
      "RUN    TRT FLO MAT TOPWT HARWT  RAIN  TIRR   CET  PESW  TNUP  TNLF   TSON TSOC\n",
      "           dap dap kg/ha kg/ha    mm    mm    mm    mm kg/ha kg/ha  kg/ha t/ha\n",
      "  1 MZ   1  48 110  8663  3669   391     0   354     1   104    48  12352  169\n",
      "\n",
      "RUN    TRT FLO MAT TOPWT HARWT  RAIN  TIRR   CET  PESW  TNUP  TNLF   TSON TSOC\n",
      "           dap dap kg/ha kg/ha    mm    mm    mm    mm kg/ha kg/ha  kg/ha t/ha\n",
      "  1 MZ   1  51 113  8901  3730   391     0   355     0   109    44  12352  169\n",
      "\n",
      "RUN    TRT FLO MAT TOPWT HARWT  RAIN  TIRR   CET  PESW  TNUP  TNLF   TSON TSOC\n",
      "           dap dap kg/ha kg/ha    mm    mm    mm    mm kg/ha kg/ha  kg/ha t/ha\n",
      "  1 MZ   1  51 113  8902  3730   391     0   355     0   109    44  12352  169\n",
      "\n",
      "RUN    TRT FLO MAT TOPWT HARWT  RAIN  TIRR   CET  PESW  TNUP  TNLF   TSON TSOC\n",
      "           dap dap kg/ha kg/ha    mm    mm    mm    mm kg/ha kg/ha  kg/ha t/ha\n",
      "  1 MZ   1  53 118  8880  3681   391     0   355     0   111    42  12351  169\n",
      "\n",
      "RUN    TRT FLO MAT TOPWT HARWT  RAIN  TIRR   CET  PESW  TNUP  TNLF   TSON TSOC\n",
      "           dap dap kg/ha kg/ha    mm    mm    mm    mm kg/ha kg/ha  kg/ha t/ha\n",
      "  1 MZ   1  53 118  8865  3676   391     0   355     0   111    43  12351  169\n",
      "\n",
      "RUN    TRT FLO MAT TOPWT HARWT  RAIN  TIRR   CET  PESW  TNUP  TNLF   TSON TSOC\n",
      "           dap dap kg/ha kg/ha    mm    mm    mm    mm kg/ha kg/ha  kg/ha t/ha\n",
      "  1 MZ   1  55 123  8640  3002   395     0   359     0   118    37  12350  169\n",
      "\n",
      "RUN    TRT FLO MAT TOPWT HARWT  RAIN  TIRR   CET  PESW  TNUP  TNLF   TSON TSOC\n",
      "           dap dap kg/ha kg/ha    mm    mm    mm    mm kg/ha kg/ha  kg/ha t/ha\n",
      "  1 MZ   1  55 123  8635  2997   395     0   359     0   118    37  12350  169\n"
     ]
    }
   ],
   "source": [
    "p1_values = (150, 160, 170, 180, 190, 200, 210)\n",
    "for p1 in p1_values:\n",
    "    cultivar['p1'] = p1\n",
    "    results[f\"p1={p1}\"] = dssat.run_treatment(\n",
    "        field=field, cultivar=cultivar, planting=planting, initial_conditions=initial_conditions,\n",
    "        fertilizer=fertilizer, simulation_controls=simulation_controls,\n",
    "    )"
   ]
  },
  {
   "cell_type": "code",
   "execution_count": 32,
   "id": "dcef60b7-0295-4826-b54c-dc11abb0eb68",
   "metadata": {},
   "outputs": [
    {
     "data": {
      "text/html": [
       "<div>\n",
       "<style scoped>\n",
       "    .dataframe tbody tr th:only-of-type {\n",
       "        vertical-align: middle;\n",
       "    }\n",
       "\n",
       "    .dataframe tbody tr th {\n",
       "        vertical-align: top;\n",
       "    }\n",
       "\n",
       "    .dataframe thead th {\n",
       "        text-align: right;\n",
       "    }\n",
       "</style>\n",
       "<table border=\"1\" class=\"dataframe\">\n",
       "  <thead>\n",
       "    <tr style=\"text-align: right;\">\n",
       "      <th></th>\n",
       "      <th>flo</th>\n",
       "      <th>mat</th>\n",
       "      <th>topwt</th>\n",
       "      <th>harwt</th>\n",
       "      <th>rain</th>\n",
       "      <th>tirr</th>\n",
       "      <th>cet</th>\n",
       "      <th>pesw</th>\n",
       "      <th>tnup</th>\n",
       "      <th>tnlf</th>\n",
       "      <th>tson</th>\n",
       "      <th>tsoc</th>\n",
       "    </tr>\n",
       "  </thead>\n",
       "  <tbody>\n",
       "    <tr>\n",
       "      <th>Control</th>\n",
       "      <td>53</td>\n",
       "      <td>118</td>\n",
       "      <td>8882</td>\n",
       "      <td>3681</td>\n",
       "      <td>391</td>\n",
       "      <td>0</td>\n",
       "      <td>355</td>\n",
       "      <td>0</td>\n",
       "      <td>111</td>\n",
       "      <td>42</td>\n",
       "      <td>12351</td>\n",
       "      <td>169</td>\n",
       "    </tr>\n",
       "    <tr>\n",
       "      <th>p1=150</th>\n",
       "      <td>48</td>\n",
       "      <td>110</td>\n",
       "      <td>8663</td>\n",
       "      <td>3669</td>\n",
       "      <td>391</td>\n",
       "      <td>0</td>\n",
       "      <td>354</td>\n",
       "      <td>1</td>\n",
       "      <td>104</td>\n",
       "      <td>48</td>\n",
       "      <td>12352</td>\n",
       "      <td>169</td>\n",
       "    </tr>\n",
       "    <tr>\n",
       "      <th>p1=160</th>\n",
       "      <td>51</td>\n",
       "      <td>113</td>\n",
       "      <td>8901</td>\n",
       "      <td>3730</td>\n",
       "      <td>391</td>\n",
       "      <td>0</td>\n",
       "      <td>355</td>\n",
       "      <td>0</td>\n",
       "      <td>109</td>\n",
       "      <td>44</td>\n",
       "      <td>12352</td>\n",
       "      <td>169</td>\n",
       "    </tr>\n",
       "    <tr>\n",
       "      <th>p1=170</th>\n",
       "      <td>51</td>\n",
       "      <td>113</td>\n",
       "      <td>8902</td>\n",
       "      <td>3730</td>\n",
       "      <td>391</td>\n",
       "      <td>0</td>\n",
       "      <td>355</td>\n",
       "      <td>0</td>\n",
       "      <td>109</td>\n",
       "      <td>44</td>\n",
       "      <td>12352</td>\n",
       "      <td>169</td>\n",
       "    </tr>\n",
       "    <tr>\n",
       "      <th>p1=180</th>\n",
       "      <td>53</td>\n",
       "      <td>118</td>\n",
       "      <td>8880</td>\n",
       "      <td>3681</td>\n",
       "      <td>391</td>\n",
       "      <td>0</td>\n",
       "      <td>355</td>\n",
       "      <td>0</td>\n",
       "      <td>111</td>\n",
       "      <td>42</td>\n",
       "      <td>12351</td>\n",
       "      <td>169</td>\n",
       "    </tr>\n",
       "    <tr>\n",
       "      <th>p1=190</th>\n",
       "      <td>53</td>\n",
       "      <td>118</td>\n",
       "      <td>8865</td>\n",
       "      <td>3676</td>\n",
       "      <td>391</td>\n",
       "      <td>0</td>\n",
       "      <td>355</td>\n",
       "      <td>0</td>\n",
       "      <td>111</td>\n",
       "      <td>43</td>\n",
       "      <td>12351</td>\n",
       "      <td>169</td>\n",
       "    </tr>\n",
       "    <tr>\n",
       "      <th>p1=200</th>\n",
       "      <td>55</td>\n",
       "      <td>123</td>\n",
       "      <td>8640</td>\n",
       "      <td>3002</td>\n",
       "      <td>395</td>\n",
       "      <td>0</td>\n",
       "      <td>359</td>\n",
       "      <td>0</td>\n",
       "      <td>118</td>\n",
       "      <td>37</td>\n",
       "      <td>12350</td>\n",
       "      <td>169</td>\n",
       "    </tr>\n",
       "    <tr>\n",
       "      <th>p1=210</th>\n",
       "      <td>55</td>\n",
       "      <td>123</td>\n",
       "      <td>8635</td>\n",
       "      <td>2997</td>\n",
       "      <td>395</td>\n",
       "      <td>0</td>\n",
       "      <td>359</td>\n",
       "      <td>0</td>\n",
       "      <td>118</td>\n",
       "      <td>37</td>\n",
       "      <td>12350</td>\n",
       "      <td>169</td>\n",
       "    </tr>\n",
       "  </tbody>\n",
       "</table>\n",
       "</div>"
      ],
      "text/plain": [
       "         flo  mat  topwt  harwt  rain  tirr  cet  pesw  tnup  tnlf   tson  \\\n",
       "Control   53  118   8882   3681   391     0  355     0   111    42  12351   \n",
       "p1=150    48  110   8663   3669   391     0  354     1   104    48  12352   \n",
       "p1=160    51  113   8901   3730   391     0  355     0   109    44  12352   \n",
       "p1=170    51  113   8902   3730   391     0  355     0   109    44  12352   \n",
       "p1=180    53  118   8880   3681   391     0  355     0   111    42  12351   \n",
       "p1=190    53  118   8865   3676   391     0  355     0   111    43  12351   \n",
       "p1=200    55  123   8640   3002   395     0  359     0   118    37  12350   \n",
       "p1=210    55  123   8635   2997   395     0  359     0   118    37  12350   \n",
       "\n",
       "         tsoc  \n",
       "Control   169  \n",
       "p1=150    169  \n",
       "p1=160    169  \n",
       "p1=170    169  \n",
       "p1=180    169  \n",
       "p1=190    169  \n",
       "p1=200    169  \n",
       "p1=210    169  "
      ]
     },
     "execution_count": 32,
     "metadata": {},
     "output_type": "execute_result"
    }
   ],
   "source": [
    "results_df = pd.DataFrame(results).T\n",
    "results_df.index.str.split('=')"
   ]
  },
  {
   "cell_type": "markdown",
   "id": "46a904cd-d779-4a93-993d-54017399d92e",
   "metadata": {},
   "source": [
    "**Compare results**\n",
    "\n",
    "Now we can compare the difference in yield, and days to maturity for the different values of p1:"
   ]
  },
  {
   "cell_type": "code",
   "execution_count": 40,
   "id": "fb154414-a40b-4604-8b4f-176194fa6197",
   "metadata": {},
   "outputs": [
    {
     "data": {
      "text/plain": [
       "Text(0, 0.5, 'Grain weight at harvest (kg/ha)')"
      ]
     },
     "execution_count": 40,
     "metadata": {},
     "output_type": "execute_result"
    },
    {
     "data": {
      "image/png": "[encoded data removed]",
      "text/plain": [
       "<Figure size 640x480 with 1 Axes>"
      ]
     },
     "metadata": {},
     "output_type": "display_data"
    }
   ],
   "source": [
    "results_df.loc[:, 'p1'] = [196] + list(p1_values) \n",
    "results_df = results_df.sort_values(by='p1')\n",
    "ax = results_df.plot(x='p1', y='harwt')\n",
    "ax.set_ylabel(\"Grain weight at harvest (kg/ha)\")"
   ]
  },
  {
   "cell_type": "code",
   "execution_count": 41,
   "id": "8e7b97fb-18b7-412f-bec4-eb13ed0c4b57",
   "metadata": {},
   "outputs": [
    {
     "data": {
      "text/plain": [
       "Text(0, 0.5, 'Days to maturity')"
      ]
     },
     "execution_count": 41,
     "metadata": {},
     "output_type": "execute_result"
    },
    {
     "data": {
      "image/png": "[encoded data removed]",
      "text/plain": [
       "<Figure size 640x480 with 1 Axes>"
      ]
     },
     "metadata": {},
     "output_type": "display_data"
    }
   ],
   "source": [
    "ax = results_df.plot(x='p1', y='mat')\n",
    "ax.set_ylabel(\"Days to maturity\")"
   ]
  },
  {
   "cell_type": "markdown",
   "id": "36d845fa-fdba-4fd9-815f-035a3462ad09",
   "metadata": {},
   "source": [
    "So we modified the p1 parameter, and plot what is the effect of modifying that parameter on the final harvest and time to harvest."
   ]
  }
 ],
 "metadata": {
  "kernelspec": {
   "display_name": "Python 3 (ipykernel)",
   "language": "python",
   "name": "python3"
  },
  "language_info": {
   "codemirror_mode": {
    "name": "ipython",
    "version": 3
   },
   "file_extension": ".py",
   "mimetype": "text/x-python",
   "name": "python",
   "nbconvert_exporter": "python",
   "pygments_lexer": "ipython3",
   "version": "3.10.12"
  }
 },
 "nbformat": 4,
 "nbformat_minor": 5
}
