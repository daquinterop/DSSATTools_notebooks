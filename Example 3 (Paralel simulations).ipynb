{
 "cells": [
  {
   "cell_type": "markdown",
   "id": "e057e62e",
   "metadata": {},
   "source": [
    "# DSSATTools Example 3: paralel simulations using threading\n",
    "\n",
    "In this notebook you'll see the basic usage of DSSATools library to:\n",
    "1. Create the inputs\n",
    "2. Initialize the simulation environment\n",
    "3. Run simulations in paralel\n",
    "4. Modify input objects\n",
    "5. Read outputs.\n",
    "\n",
    "We'll use threading to run simulations in paralel. If you prefer to use Multiprocessing, i.e. different cores, the process is different since multiprocessing does not allows the modification of an instance."
   ]
  },
  {
   "cell_type": "code",
   "execution_count": 1,
   "id": "2b88ac7d",
   "metadata": {},
   "outputs": [],
   "source": [
    "from DSSATTools import (Crop, SoilProfile, Weather, Management, DSSAT, TabularSubsection)\n",
    "import pandas as pd\n",
    "from datetime import datetime, timedelta\n",
    "import numpy as np\n",
    "import threading\n",
    "import os\n",
    "from matplotlib import pyplot as plt\n",
    "from copy import deepcopy"
   ]
  },
  {
   "cell_type": "markdown",
   "id": "56d23ccb",
   "metadata": {},
   "source": [
    "## Create a WeatherData instance"
   ]
  },
  {
   "cell_type": "code",
   "execution_count": 2,
   "id": "999437bd",
   "metadata": {},
   "outputs": [
    {
     "data": {
      "text/plain": [
       "Weather data at -74.361°, 4.343°\n",
       "  Date start: 2008-01-01\n",
       "  Date end: 2010-12-31\n",
       "Average values:\n",
       "TMAX    12.544305\n",
       "TMIN    10.033416\n",
       "RAIN     0.000000\n",
       "SRAD    14.795555\n",
       "RHUM    56.299164\n",
       "dtype: float64"
      ]
     },
     "execution_count": 2,
     "metadata": {},
     "output_type": "execute_result"
    }
   ],
   "source": [
    "# Random weather data\n",
    "DATES = pd.date_range('2008-01-01', '2010-12-31')\n",
    "N = len(DATES)\n",
    "df = pd.DataFrame(\n",
    "    {\n",
    "    'tn': np.random.gamma(10, 1, N),\n",
    "    'rad': np.random.gamma(10, 1.5, N),\n",
    "    'prec': [0.0]* N,\n",
    "    'rh': 100 * np.random.beta(1.5, 1.15, N),\n",
    "    },\n",
    "    index=DATES,\n",
    ")\n",
    "df['TMAX'] = df.tn + np.random.gamma(5., .5, N)\n",
    "# Create a WheaterStation instance\n",
    "wth = Weather(\n",
    "    df, \n",
    "    {'tn': 'TMIN', 'TMAX': 'TMAX', 'prec': 'RAIN', \n",
    "     'rad': 'SRAD', 'rh': 'RHUM'}, 4.3434237,-74.3606715, 1800\n",
    ")\n",
    "wth"
   ]
  },
  {
   "cell_type": "markdown",
   "id": "f72d3da7",
   "metadata": {},
   "source": [
    "## Create a SoilProfile object from a default profile"
   ]
  },
  {
   "cell_type": "code",
   "execution_count": 3,
   "id": "6c6c8721",
   "metadata": {},
   "outputs": [],
   "source": [
    "# Soil instance from default soil profile\n",
    "soil = SoilProfile(default_class='SICL')"
   ]
  },
  {
   "cell_type": "markdown",
   "id": "02f30878",
   "metadata": {},
   "source": [
    "## Create crop objects for different cultivars"
   ]
  },
  {
   "cell_type": "code",
   "execution_count": 4,
   "id": "afac3126",
   "metadata": {},
   "outputs": [
    {
     "data": {
      "text/plain": [
       "{'990001': Sorghum crop, N.AMERICAN       cultivar,\n",
       " '990002': Sorghum crop, INDIAN           cultivar,\n",
       " '990003': Sorghum crop, AUSTRALIAN       cultivar,\n",
       " '990004': Sorghum crop, W.AFRICAN        cultivar}"
      ]
     },
     "execution_count": 4,
     "metadata": {},
     "output_type": "execute_result"
    }
   ],
   "source": [
    "# Crop\n",
    "cultivar_names = [\"990001\", \"990002\", \"990003\", \"990004\"]\n",
    "crops = {cultivar: Crop(\"sorghum\", cultivar) for cultivar in cultivar_names}\n",
    "crops"
   ]
  },
  {
   "cell_type": "markdown",
   "id": "3ce6d4e1",
   "metadata": {},
   "source": [
    "## Initialize one DSSAT instance per thread"
   ]
  },
  {
   "cell_type": "code",
   "execution_count": 5,
   "id": "ae21abf0",
   "metadata": {
    "scrolled": false
   },
   "outputs": [
    {
     "name": "stdout",
     "output_type": "stream",
     "text": [
      "/tmp/dssatkbiumqbz created.\n",
      "Static files copied to /tmp/dssatkbiumqbz.\n",
      "/tmp/dssatzzvcygor created.\n",
      "Static files copied to /tmp/dssatzzvcygor.\n",
      "/tmp/dssatlbbqegoq created.\n",
      "Static files copied to /tmp/dssatlbbqegoq.\n",
      "/tmp/dssatetitmezo created.\n",
      "Static files copied to /tmp/dssatetitmezo.\n"
     ]
    }
   ],
   "source": [
    "dssat_envs = []\n",
    "threads = len(crops)\n",
    "for n in range(threads):\n",
    "    dssat_envs.append(DSSAT())\n",
    "    dssat_envs[-1].setup()"
   ]
  },
  {
   "cell_type": "markdown",
   "id": "d11cb11b",
   "metadata": {},
   "source": [
    "## Run with different management"
   ]
  },
  {
   "cell_type": "code",
   "execution_count": 6,
   "id": "47ffda67",
   "metadata": {},
   "outputs": [],
   "source": [
    "# Create a wrap funciton to run the model\n",
    "def run_dssat(thread, cultivar, man):\n",
    "    dssat_envs[thread].run(\n",
    "        crop=crops[cultivar], weather=wth, management=man, soil=soil\n",
    "    )"
   ]
  },
  {
   "cell_type": "code",
   "execution_count": 7,
   "id": "b797b2ea",
   "metadata": {},
   "outputs": [
    {
     "name": "stdout",
     "output_type": "stream",
     "text": [
      "RUN    TRT FLO MAT TOPWT HARWT  RAIN  TIRR   CET  PESW  TNUP  TNLF   TSON TSOC\n",
      "           dap dap kg/ha kg/ha    mm    mm    mm    mm kg/ha kg/ha  kg/ha t/ha\n",
      "  1 SG   1 380 410 15382  2873     0   794   827   105     0   -99      0  122\n",
      "RUN    TRT FLO MAT TOPWT HARWT  RAIN  TIRR   CET  PESW  TNUP  TNLF   TSON TSOC\n",
      "           dap dap kg/ha kg/ha    mm    mm    mm    mm kg/ha kg/ha  kg/ha t/ha\n",
      "  1 SG   1 349 367 13682  1746     0   715   735   117     0   -99      0  123\n",
      "RUN    TRT FLO MAT TOPWT HARWT  RAIN  TIRR   CET  PESW  TNUP  TNLF   TSON TSOC\n",
      "           dap dap kg/ha kg/ha    mm    mm    mm    mm kg/ha kg/ha  kg/ha t/ha\n",
      "  1 SG   1 345 363 13631  2144     0   689   725   102     0   -99      0  123\n",
      "RUN    TRT FLO MAT TOPWT HARWT  RAIN  TIRR   CET  PESW  TNUP  TNLF   TSON TSOC\n",
      "           dap dap kg/ha kg/ha    mm    mm    mm    mm kg/ha kg/ha  kg/ha t/ha\n",
      "  1 SG   1 351 371 13764  2045     0   713   742   109     0   -99      0  123\n"
     ]
    }
   ],
   "source": [
    "# processes list\n",
    "processes = []\n",
    "# A dict to map each core run to its cultivar\n",
    "cultivar_maping = {thread: '' for thread in range(threads)}\n",
    "output = {} # To save the outputs\n",
    "man = Management(\n",
    "    planting_date=DATES[10],\n",
    "    irrigation='A' # Automatic Irrigation\n",
    ")\n",
    "man.simulation_controls['HARVS'] = 'M'\n",
    "current_thread = 0\n",
    "for cultivar in cultivar_names:\n",
    "    management = deepcopy(man) # It has to be deepcopied as each instance is associated with different simulations\n",
    "    processes.append(\n",
    "        threading.Thread(target=run_dssat, args=(current_thread, cultivar, management))\n",
    "    )\n",
    "    cultivar_maping[current_thread] = cultivar\n",
    "    processes[-1].start()\n",
    "    current_thread += 1\n",
    "    # Wait until all of the processes are finished\n",
    "    if (current_thread == threads) or (cultivar == cultivar_names[-1]):\n",
    "        for p in processes: p.join()\n",
    "        for thread, cul in cultivar_maping.items():\n",
    "            output[cul] = dssat_envs[thread].output['PlantGro']\n",
    "        current_thread = 0\n",
    "        processes = []"
   ]
  },
  {
   "cell_type": "code",
   "execution_count": 8,
   "id": "e54a386b",
   "metadata": {},
   "outputs": [
    {
     "name": "stdout",
     "output_type": "stream",
     "text": [
      "/tmp/dssatkbiumqbz and its content has been removed.\n",
      "/tmp/dssatzzvcygor and its content has been removed.\n",
      "/tmp/dssatlbbqegoq and its content has been removed.\n",
      "/tmp/dssatetitmezo and its content has been removed.\n"
     ]
    }
   ],
   "source": [
    "# Close all of the DSSAT instances\n",
    "for dssat in dssat_envs: dssat.close()"
   ]
  },
  {
   "cell_type": "markdown",
   "id": "aa079188",
   "metadata": {},
   "source": [
    "## Check the results for the yield"
   ]
  },
  {
   "cell_type": "code",
   "execution_count": 9,
   "id": "ecf35b21",
   "metadata": {},
   "outputs": [
    {
     "data": {
      "text/plain": [
       "Text(0, 0.5, 'Yield (Kg/ha)')"
      ]
     },
     "execution_count": 9,
     "metadata": {},
     "output_type": "execute_result"
    },
    {
     "data": {
      "image/png": "[encoded data removed]",
      "text/plain": [
       "<Figure size 1080x360 with 1 Axes>"
      ]
     },
     "metadata": {
      "needs_background": "light"
     },
     "output_type": "display_data"
    }
   ],
   "source": [
    "fig, ax = plt.subplots(figsize=(15, 5))\n",
    "for cultivar, df in output.items():\n",
    "    df.CWAD.plot(ax=ax, label=cultivar)\n",
    "ax.legend(title='Cultivar')\n",
    "ax.set_ylabel('Yield (Kg/ha)')"
   ]
  }
 ],
 "metadata": {
  "@webio": {
   "lastCommId": null,
   "lastKernelId": null
  },
  "kernelspec": {
   "display_name": "Python 3 (ipykernel)",
   "language": "python",
   "name": "python3"
  },
  "language_info": {
   "codemirror_mode": {
    "name": "ipython",
    "version": 3
   },
   "file_extension": ".py",
   "mimetype": "text/x-python",
   "name": "python",
   "nbconvert_exporter": "python",
   "pygments_lexer": "ipython3",
   "version": "3.9.12"
  }
 },
 "nbformat": 4,
 "nbformat_minor": 5
}
