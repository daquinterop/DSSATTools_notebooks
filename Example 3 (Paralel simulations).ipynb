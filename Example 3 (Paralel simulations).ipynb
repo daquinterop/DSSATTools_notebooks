{
 "cells": [
  {
   "cell_type": "markdown",
   "id": "e057e62e",
   "metadata": {},
   "source": [
    "# DSSATTools Example 3: paralel simulations using threading\n",
    "\n",
    "In this notebook you'll see the basic usage of DSSATools library to:\n",
    "1. Create the inputs\n",
    "2. Initialize the simulation environment\n",
    "3. Run simulations in paralel\n",
    "4. Modify input objects\n",
    "5. Read outputs.\n",
    "\n",
    "We'll use threading to run simulations in paralel. If you prefer to use Multiprocessing, i.e. different cores, the process is different since multiprocessing does not allows the modification of an instance."
   ]
  },
  {
   "cell_type": "code",
   "execution_count": 1,
   "id": "2b88ac7d",
   "metadata": {},
   "outputs": [],
   "source": [
    "from DSSATTools import (\n",
    "    Crop, SoilProfile, WeatherData, WeatherStation,\n",
    "    Management, DSSAT\n",
    ")\n",
    "import pandas as pd\n",
    "from datetime import datetime, timedelta\n",
    "import numpy as np\n",
    "import threading\n",
    "import os\n",
    "from matplotlib import pyplot as plt"
   ]
  },
  {
   "cell_type": "markdown",
   "id": "56d23ccb",
   "metadata": {},
   "source": [
    "## Create a WeatherData instance"
   ]
  },
  {
   "cell_type": "code",
   "execution_count": 2,
   "id": "999437bd",
   "metadata": {},
   "outputs": [
    {
     "data": {
      "text/html": [
       "<div>\n",
       "<style scoped>\n",
       "    .dataframe tbody tr th:only-of-type {\n",
       "        vertical-align: middle;\n",
       "    }\n",
       "\n",
       "    .dataframe tbody tr th {\n",
       "        vertical-align: top;\n",
       "    }\n",
       "\n",
       "    .dataframe thead th {\n",
       "        text-align: right;\n",
       "    }\n",
       "</style>\n",
       "<table border=\"1\" class=\"dataframe\">\n",
       "  <thead>\n",
       "    <tr style=\"text-align: right;\">\n",
       "      <th></th>\n",
       "      <th>tn</th>\n",
       "      <th>rad</th>\n",
       "      <th>prec</th>\n",
       "      <th>rh</th>\n",
       "      <th>TMAX</th>\n",
       "    </tr>\n",
       "  </thead>\n",
       "  <tbody>\n",
       "    <tr>\n",
       "      <th>2000-01-01</th>\n",
       "      <td>24.037274</td>\n",
       "      <td>14.345314</td>\n",
       "      <td>0.0</td>\n",
       "      <td>81.462765</td>\n",
       "      <td>30.201274</td>\n",
       "    </tr>\n",
       "    <tr>\n",
       "      <th>2000-01-02</th>\n",
       "      <td>13.725123</td>\n",
       "      <td>7.799614</td>\n",
       "      <td>0.0</td>\n",
       "      <td>57.244678</td>\n",
       "      <td>36.844552</td>\n",
       "    </tr>\n",
       "    <tr>\n",
       "      <th>2000-01-03</th>\n",
       "      <td>14.724634</td>\n",
       "      <td>17.333881</td>\n",
       "      <td>0.0</td>\n",
       "      <td>60.592308</td>\n",
       "      <td>14.794443</td>\n",
       "    </tr>\n",
       "    <tr>\n",
       "      <th>2000-01-04</th>\n",
       "      <td>11.517067</td>\n",
       "      <td>17.743812</td>\n",
       "      <td>0.0</td>\n",
       "      <td>98.433912</td>\n",
       "      <td>39.658834</td>\n",
       "    </tr>\n",
       "    <tr>\n",
       "      <th>2000-01-05</th>\n",
       "      <td>17.514266</td>\n",
       "      <td>11.593904</td>\n",
       "      <td>0.0</td>\n",
       "      <td>71.166822</td>\n",
       "      <td>18.430770</td>\n",
       "    </tr>\n",
       "  </tbody>\n",
       "</table>\n",
       "</div>"
      ],
      "text/plain": [
       "                   tn        rad  prec         rh       TMAX\n",
       "2000-01-01  24.037274  14.345314   0.0  81.462765  30.201274\n",
       "2000-01-02  13.725123   7.799614   0.0  57.244678  36.844552\n",
       "2000-01-03  14.724634  17.333881   0.0  60.592308  14.794443\n",
       "2000-01-04  11.517067  17.743812   0.0  98.433912  39.658834\n",
       "2000-01-05  17.514266  11.593904   0.0  71.166822  18.430770"
      ]
     },
     "execution_count": 2,
     "metadata": {},
     "output_type": "execute_result"
    }
   ],
   "source": [
    "# Random weather data\n",
    "DATES = pd.date_range('2000-01-01', '2001-12-31')\n",
    "N = len(DATES)\n",
    "df = pd.DataFrame(\n",
    "    {\n",
    "    'tn': np.random.gamma(15, 1, N),\n",
    "    'rad': np.random.gamma(10, 1.5, N),\n",
    "    'prec': [0.0]* N,\n",
    "    'rh': 100 * np.random.beta(1.5, 1.15, N),\n",
    "    },\n",
    "    index=DATES,\n",
    ")\n",
    "df['TMAX'] = df.tn + abs(np.random.normal(5, 10, N))\n",
    "df.head()"
   ]
  },
  {
   "cell_type": "code",
   "execution_count": 3,
   "id": "ff3eb00a",
   "metadata": {},
   "outputs": [],
   "source": [
    "# Create a WeatherData instance\n",
    "WTH_DATA = WeatherData(\n",
    "    df,\n",
    "    variables={\n",
    "        'tn': 'TMIN', 'TMAX': 'TMAX',\n",
    "        'prec': 'RAIN', 'rad': 'SRAD',\n",
    "        'rh': 'RHUM'\n",
    "    }\n",
    ")\n",
    "# Create a WheaterStation instance\n",
    "wth = WeatherStation(\n",
    "    WTH_DATA, \n",
    "    {'ELEV': 33, 'LAT': 0, 'LON': 0, 'INSI': 'test'}\n",
    ")"
   ]
  },
  {
   "cell_type": "markdown",
   "id": "f72d3da7",
   "metadata": {},
   "source": [
    "## Create a SoilProfile object from a default profile"
   ]
  },
  {
   "cell_type": "code",
   "execution_count": 4,
   "id": "6c6c8721",
   "metadata": {},
   "outputs": [],
   "source": [
    "# Soil instance from default soil profile\n",
    "soil = SoilProfile(default_class='SICL')"
   ]
  },
  {
   "cell_type": "markdown",
   "id": "02f30878",
   "metadata": {},
   "source": [
    "## Create a Crop object from default crop file"
   ]
  },
  {
   "cell_type": "code",
   "execution_count": 5,
   "id": "afac3126",
   "metadata": {},
   "outputs": [
    {
     "name": "stdout",
     "output_type": "stream",
     "text": [
      "\n"
     ]
    },
    {
     "data": {
      "text/plain": [
       "{'VAR-NAME........': 'RIO',\n",
       " 'EXPNO': '.',\n",
       " 'ECO#': 'IB0001',\n",
       " 'P1': 430.0,\n",
       " 'P2': 102.0,\n",
       " 'P2O': 11.6,\n",
       " 'P2R': 24.0,\n",
       " 'PANTH': 617.5,\n",
       " 'P3': 152.5,\n",
       " 'P4': 81.5,\n",
       " 'P5': 540.0,\n",
       " 'PHINT': 49.0,\n",
       " 'G1': 0.0,\n",
       " 'G2': 6.0,\n",
       " 'PBASE': None,\n",
       " 'PSAT': None}"
      ]
     },
     "execution_count": 5,
     "metadata": {},
     "output_type": "execute_result"
    }
   ],
   "source": [
    "# Crop\n",
    "crop = Crop('sorghum')\n",
    "# Check how the cultivar looks like\n",
    "crop.cultivar['IB0001']"
   ]
  },
  {
   "cell_type": "markdown",
   "id": "3ce6d4e1",
   "metadata": {},
   "source": [
    "## Initialize one DSSAT instance per thread"
   ]
  },
  {
   "cell_type": "code",
   "execution_count": 6,
   "id": "ae21abf0",
   "metadata": {
    "scrolled": false
   },
   "outputs": [
    {
     "name": "stdout",
     "output_type": "stream",
     "text": [
      "/tmp/sdeadznw created.\n",
      "Static files copied to /tmp/sdeadznw.\n",
      "/tmp/zkfheexi created.\n",
      "Static files copied to /tmp/zkfheexi.\n",
      "/tmp/lxzjhpew created.\n",
      "Static files copied to /tmp/lxzjhpew.\n",
      "/tmp/enfxamlw created.\n",
      "Static files copied to /tmp/enfxamlw.\n",
      "/tmp/cvewnggv created.\n",
      "Static files copied to /tmp/cvewnggv.\n",
      "/tmp/tfopncaw created.\n",
      "Static files copied to /tmp/tfopncaw.\n",
      "/tmp/hcvvbjwb created.\n",
      "Static files copied to /tmp/hcvvbjwb.\n",
      "/tmp/wxvjaqdd created.\n",
      "Static files copied to /tmp/wxvjaqdd.\n"
     ]
    }
   ],
   "source": [
    "dssat_envs = []\n",
    "threads = 8\n",
    "for n in range(threads):\n",
    "    dssat_envs.append(DSSAT())\n",
    "    dssat_envs[-1].setup()"
   ]
  },
  {
   "cell_type": "markdown",
   "id": "d11cb11b",
   "metadata": {},
   "source": [
    "## Run with different management"
   ]
  },
  {
   "cell_type": "code",
   "execution_count": 7,
   "id": "e1dce9a9",
   "metadata": {},
   "outputs": [],
   "source": [
    "# We'll run one simulation per cultivar, so we need a cultivars' list\n",
    "cultivars = list(crop.cultivar.keys())[6:20]"
   ]
  },
  {
   "cell_type": "code",
   "execution_count": 8,
   "id": "47ffda67",
   "metadata": {},
   "outputs": [],
   "source": [
    "# Create a wrap funciton to run the model\n",
    "def run_dssat(thread, man):\n",
    "    dssat_envs[thread].run(\n",
    "        crop=crop, weather=wth, management=man, soil=soil\n",
    "    )"
   ]
  },
  {
   "cell_type": "code",
   "execution_count": 9,
   "id": "b797b2ea",
   "metadata": {},
   "outputs": [
    {
     "name": "stdout",
     "output_type": "stream",
     "text": [
      "RUN    TRT FLO MAT TOPWT HARWT  RAIN  TIRR   CET  PESW  TNUP  TNLF   TSON TSOC\n",
      "           dap dap kg/ha kg/ha    mm    mm    mm    mm kg/ha kg/ha  kg/ha t/ha\n",
      "  1 SG   1 114 167 19092  7717     0   454   460   131     0   -99      0  123\n",
      "RUN    TRT FLO MAT TOPWT HARWT  RAIN  TIRR   CET  PESW  TNUP  TNLF   TSON TSOC\n",
      "           dap dap kg/ha kg/ha    mm    mm    mm    mm kg/ha kg/ha  kg/ha t/ha\n",
      "  1 SG   1 143 196 24587  9323     0   536   557   117     0   -99      0  122\n",
      "RUN    TRT FLO MAT TOPWT HARWT  RAIN  TIRR   CET  PESW  TNUP  TNLF   TSON TSOC\n",
      "           dap dap kg/ha kg/ha    mm    mm    mm    mm kg/ha kg/ha  kg/ha t/ha\n",
      "  1 SG   1 103 159 18216  7866     0   430   436   132     0   -99      0  123\n",
      "RUN    TRT FLO MAT TOPWT HARWT  RAIN  TIRR   CET  PESW  TNUP  TNLF   TSON TSOC\n",
      "           dap dap kg/ha kg/ha    mm    mm    mm    mm kg/ha kg/ha  kg/ha t/ha\n",
      "  1 SG   1 143 194 22801  8653     0   510   541   106     0   -99      0  122\n",
      "RUN    TRT FLO MAT TOPWT HARWT  RAIN  TIRR   CET  PESW  TNUP  TNLF   TSON TSOC\n",
      "           dap dap kg/ha kg/ha    mm    mm    mm    mm kg/ha kg/ha  kg/ha t/ha\n",
      "  1 SG   1 138 190 24390  9392     0   516   543   111     0   -99      0  122\n",
      "RUN    TRT FLO MAT TOPWT HARWT  RAIN  TIRR   CET  PESW  TNUP  TNLF   TSON TSOC\n",
      "           dap dap kg/ha kg/ha    mm    mm    mm    mm kg/ha kg/ha  kg/ha t/ha\n",
      "  1 SG   1 128 180 22612  8986     0   486   512   112     0   -99      0  123\n",
      "RUN    TRT FLO MAT TOPWT HARWT  RAIN  TIRR   CET  PESW  TNUP  TNLF   TSON TSOC\n",
      "           dap dap kg/ha kg/ha    mm    mm    mm    mm kg/ha kg/ha  kg/ha t/ha\n",
      "  1 SG   1 112 165 19653  8071     0   429   458   109     0   -99      0  123\n",
      "RUN    TRT FLO MAT TOPWT HARWT  RAIN  TIRR   CET  PESW  TNUP  TNLF   TSON TSOC\n",
      "           dap dap kg/ha kg/ha    mm    mm    mm    mm kg/ha kg/ha  kg/ha t/ha\n",
      "  1 SG   1  98 156 18273  8112     0   404   430   111     0   -99      0  123\n",
      "RUN    TRT FLO MAT TOPWT HARWT  RAIN  TIRR   CET  PESW  TNUP  TNLF   TSON TSOC\n",
      "           dap dap kg/ha kg/ha    mm    mm    mm    mm kg/ha kg/ha  kg/ha t/ha\n",
      "  1 SG   1 100 157 18297  7872     0   429   433   133     0   -99      0  123\n",
      "RUN    TRT FLO MAT TOPWT HARWT  RAIN  TIRR   CET  PESW  TNUP  TNLF   TSON TSOC\n",
      "           dap dap kg/ha kg/ha    mm    mm    mm    mm kg/ha kg/ha  kg/ha t/ha\n",
      "  1 SG   1 111 165 19425  7950     0   428   457   108     0   -99      0  123\n",
      "RUN    TRT FLO MAT TOPWT HARWT  RAIN  TIRR   CET  PESW  TNUP  TNLF   TSON TSOC\n",
      "           dap dap kg/ha kg/ha    mm    mm    mm    mm kg/ha kg/ha  kg/ha t/ha\n",
      "  1 SG   1 112 165 19320  7912     0   426   456   108     0   -99      0  123\n",
      "RUN    TRT FLO MAT TOPWT HARWT  RAIN  TIRR   CET  PESW  TNUP  TNLF   TSON TSOC\n",
      "           dap dap kg/ha kg/ha    mm    mm    mm    mm kg/ha kg/ha  kg/ha t/ha\n",
      "  1 SG   1 112 166 19720  8052     0   455   462   131     0   -99      0  123\n",
      "RUN    TRT FLO MAT TOPWT HARWT  RAIN  TIRR   CET  PESW  TNUP  TNLF   TSON TSOC\n",
      "           dap dap kg/ha kg/ha    mm    mm    mm    mm kg/ha kg/ha  kg/ha t/ha\n",
      "  1 SG   1 106 161 18527  7849     0   430   443   124     0   -99      0  123\n",
      "RUN    TRT FLO MAT TOPWT HARWT  RAIN  TIRR   CET  PESW  TNUP  TNLF   TSON TSOC\n",
      "           dap dap kg/ha kg/ha    mm    mm    mm    mm kg/ha kg/ha  kg/ha t/ha\n",
      "  1 SG   1 104 159 18236  7884     0   430   436   132     0   -99      0  123\n"
     ]
    }
   ],
   "source": [
    "current_thread = 0\n",
    "# processes list\n",
    "processes = []\n",
    "# A dict to map each core run to its cultivar\n",
    "cultivar_maping = {thread: '' for thread in range(threads)}\n",
    "output = {} # To save the outputs\n",
    "for cultivar in cultivars:\n",
    "    man = Management(\n",
    "        cultivar=cultivar,\n",
    "        planting_date=DATES[10],\n",
    "        irrigation='A' # Automatic Irrigation\n",
    "    )\n",
    "    cultivar_maping[current_thread] = cultivar\n",
    "    # Modify harvest to harvest when maturity is reached\n",
    "    man.simulation_controls['HARVS'] = 'M'\n",
    "    processes.append(\n",
    "        threading.Thread(target=run_dssat, args=(current_thread, man))\n",
    "    )\n",
    "    processes[-1].start()\n",
    "    current_thread += 1\n",
    "    # Wait until all of the processes are finished\n",
    "    if (current_thread == threads) or (cultivar == cultivars[-1]):\n",
    "        for p in processes: p.join()\n",
    "        for thread, cul in cultivar_maping.items():\n",
    "            output[cul] = dssat_envs[thread].output['PlantGro']\n",
    "        current_thread = 0\n",
    "        processes = []"
   ]
  },
  {
   "cell_type": "code",
   "execution_count": 10,
   "id": "e54a386b",
   "metadata": {},
   "outputs": [
    {
     "name": "stdout",
     "output_type": "stream",
     "text": [
      "/tmp/sdeadznw and its content has been removed.\n",
      "/tmp/zkfheexi and its content has been removed.\n",
      "/tmp/lxzjhpew and its content has been removed.\n",
      "/tmp/enfxamlw and its content has been removed.\n",
      "/tmp/cvewnggv and its content has been removed.\n",
      "/tmp/tfopncaw and its content has been removed.\n",
      "/tmp/hcvvbjwb and its content has been removed.\n",
      "/tmp/wxvjaqdd and its content has been removed.\n"
     ]
    }
   ],
   "source": [
    "# Close all of the DSSAT instances\n",
    "for dssat in dssat_envs: dssat.close()"
   ]
  },
  {
   "cell_type": "markdown",
   "id": "aa079188",
   "metadata": {},
   "source": [
    "## Check the results for the yield"
   ]
  },
  {
   "cell_type": "code",
   "execution_count": 12,
   "id": "ecf35b21",
   "metadata": {},
   "outputs": [
    {
     "data": {
      "text/plain": [
       "Text(0, 0.5, 'Yield (Kg/ha)')"
      ]
     },
     "execution_count": 12,
     "metadata": {},
     "output_type": "execute_result"
    },
    {
     "data": {
      "image/png": "[encoded data removed]",
      "text/plain": [
       "<Figure size 1080x360 with 1 Axes>"
      ]
     },
     "metadata": {
      "needs_background": "light"
     },
     "output_type": "display_data"
    }
   ],
   "source": [
    "fig, ax = plt.subplots(figsize=(15, 5))\n",
    "for cultivar, df in output.items():\n",
    "    df.CWAD.plot(ax=ax, label=cultivar)\n",
    "ax.legend(title='Cultivar')\n",
    "ax.set_ylabel('Yield (Kg/ha)')"
   ]
  }
 ],
 "metadata": {
  "kernelspec": {
   "display_name": "Python 3 (ipykernel)",
   "language": "python",
   "name": "python3"
  },
  "language_info": {
   "codemirror_mode": {
    "name": "ipython",
    "version": 3
   },
   "file_extension": ".py",
   "mimetype": "text/x-python",
   "name": "python",
   "nbconvert_exporter": "python",
   "pygments_lexer": "ipython3",
   "version": "3.9.7"
  }
 },
 "nbformat": 4,
 "nbformat_minor": 5
}
