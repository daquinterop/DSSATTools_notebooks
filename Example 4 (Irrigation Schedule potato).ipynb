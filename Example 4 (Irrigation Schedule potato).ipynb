{
 "cells": [
  {
   "cell_type": "markdown",
   "id": "e057e62e",
   "metadata": {},
   "source": [
    "# DSSATTools Example notebook\n",
    "\n",
    "In this notebook you'll see the basic usage of DSSATools library to:\n",
    "1. Create the inputs\n",
    "2. Initialize the simulation environment\n",
    "3. Run simulations\n",
    "4. Modify input objects\n",
    "5. Read outputs.\n",
    "\n",
    "The idea of this library is to be a low-code interface to DSSAT"
   ]
  },
  {
   "cell_type": "code",
   "execution_count": 1,
   "id": "2b88ac7d",
   "metadata": {},
   "outputs": [],
   "source": [
    "from DSSATTools import (Crop, SoilProfile, Weather, Management, DSSAT, TabularSubsection)\n",
    "import pandas as pd\n",
    "from datetime import datetime, timedelta\n",
    "import numpy as np"
   ]
  },
  {
   "cell_type": "code",
   "execution_count": 2,
   "id": "999437bd",
   "metadata": {},
   "outputs": [
    {
     "data": {
      "text/plain": [
       "Weather data at -74.361°, 4.343°\n",
       "  Date start: 2008-01-01\n",
       "  Date end: 2010-12-31\n",
       "Average values:\n",
       "TMAX    12.641100\n",
       "TMIN    10.125392\n",
       "RAIN     0.000000\n",
       "SRAD    15.072809\n",
       "RHUM    57.643069\n",
       "dtype: float64"
      ]
     },
     "execution_count": 2,
     "metadata": {},
     "output_type": "execute_result"
    }
   ],
   "source": [
    "# Random weather data\n",
    "DATES = pd.date_range('2008-01-01', '2010-12-31')\n",
    "N = len(DATES)\n",
    "df = pd.DataFrame(\n",
    "    {\n",
    "    'tn': np.random.gamma(10, 1, N),\n",
    "    'rad': np.random.gamma(10, 1.5, N),\n",
    "    'prec': [0.0]* N,\n",
    "    'rh': 100 * np.random.beta(1.5, 1.15, N),\n",
    "    },\n",
    "    index=DATES,\n",
    ")\n",
    "df['TMAX'] = df.tn + np.random.gamma(5., .5, N)\n",
    "# Create a WheaterStation instance\n",
    "wth = Weather(\n",
    "    df, \n",
    "    {'tn': 'TMIN', 'TMAX': 'TMAX', 'prec': 'RAIN', \n",
    "     'rad': 'SRAD', 'rh': 'RHUM'}, 4.3434237,-74.3606715, 1800\n",
    ")\n",
    "wth"
   ]
  },
  {
   "cell_type": "markdown",
   "id": "56d23ccb",
   "metadata": {},
   "source": [
    "## Creating Weather, Soil and Crop instances"
   ]
  },
  {
   "cell_type": "code",
   "execution_count": 3,
   "id": "ff3eb00a",
   "metadata": {},
   "outputs": [
    {
     "name": "stderr",
     "output_type": "stream",
     "text": [
      "/home/diego/Py_DSSATTools/DSSATTools/crop.py:224: UserWarning: No cultivar was indicated, default cultivar IB0003 will be used\n",
      "  warnings.warn(\n"
     ]
    }
   ],
   "source": [
    "# Soil instance from default soil profile\n",
    "soil = SoilProfile(default_class='SIC')\n",
    "\n",
    "# Crop\n",
    "crop = Crop('Potato')"
   ]
  },
  {
   "cell_type": "markdown",
   "id": "5ef9926d",
   "metadata": {},
   "source": [
    "## Defining irrigation schedule"
   ]
  },
  {
   "cell_type": "code",
   "execution_count": 9,
   "id": "afac3126",
   "metadata": {},
   "outputs": [
    {
     "data": {
      "text/html": [
       "<div>\n",
       "<style scoped>\n",
       "    .dataframe tbody tr th:only-of-type {\n",
       "        vertical-align: middle;\n",
       "    }\n",
       "\n",
       "    .dataframe tbody tr th {\n",
       "        vertical-align: top;\n",
       "    }\n",
       "\n",
       "    .dataframe thead th {\n",
       "        text-align: right;\n",
       "    }\n",
       "</style>\n",
       "<table border=\"1\" class=\"dataframe\">\n",
       "  <thead>\n",
       "    <tr style=\"text-align: right;\">\n",
       "      <th></th>\n",
       "      <th>IDATE</th>\n",
       "      <th>IROP</th>\n",
       "      <th>IRVAL</th>\n",
       "    </tr>\n",
       "  </thead>\n",
       "  <tbody>\n",
       "    <tr>\n",
       "      <th>0</th>\n",
       "      <td>08015</td>\n",
       "      <td>IR001</td>\n",
       "      <td>80</td>\n",
       "    </tr>\n",
       "    <tr>\n",
       "      <th>1</th>\n",
       "      <td>08030</td>\n",
       "      <td>IR001</td>\n",
       "      <td>60</td>\n",
       "    </tr>\n",
       "    <tr>\n",
       "      <th>2</th>\n",
       "      <td>08046</td>\n",
       "      <td>IR001</td>\n",
       "      <td>40</td>\n",
       "    </tr>\n",
       "    <tr>\n",
       "      <th>3</th>\n",
       "      <td>08061</td>\n",
       "      <td>IR001</td>\n",
       "      <td>20</td>\n",
       "    </tr>\n",
       "  </tbody>\n",
       "</table>\n",
       "</div>"
      ],
      "text/plain": [
       "   IDATE   IROP  IRVAL\n",
       "0  08015  IR001     80\n",
       "1  08030  IR001     60\n",
       "2  08046  IR001     40\n",
       "3  08061  IR001     20"
      ]
     },
     "execution_count": 9,
     "metadata": {},
     "output_type": "execute_result"
    }
   ],
   "source": [
    "schedule = pd.DataFrame([\n",
    "    (datetime(2008,1,15), 80),\n",
    "    (datetime(2008,1,30), 60),\n",
    "    (datetime(2008,2,15), 40),\n",
    "    (datetime(2008,3,1),  20)\n",
    "], columns = ['date', 'IRVAL'])\n",
    "schedule['IDATE'] = schedule.date.dt.strftime('%y%j')\n",
    "schedule['IROP'] = 'IR001' # Code to define the irrigation operation\n",
    "schedule = schedule[['IDATE', 'IROP', 'IRVAL']]\n",
    "schedule"
   ]
  },
  {
   "cell_type": "markdown",
   "id": "3ce6d4e1",
   "metadata": {},
   "source": [
    "## Create a management instance"
   ]
  },
  {
   "cell_type": "code",
   "execution_count": 10,
   "id": "6df91167",
   "metadata": {
    "scrolled": true
   },
   "outputs": [],
   "source": [
    "# Management instance\n",
    "man = Management(\n",
    "    planting_date=DATES[10],\n",
    ")\n",
    "# Modify harvest to Maturity\n",
    "man.simulation_controls['HARVS'] = 'M'\n",
    "# Set the irrigation schedule\n",
    "man.irrigation['table'] = TabularSubsection(schedule)\n",
    "# Set irrigation control as reported schedule\n",
    "man.simulation_controls['IRRIG'] = 'R'\n",
    "\n",
    "# The definition of this parameters is mandatory for roots\n",
    "man.planting_details['PLWT'] = 1500\n",
    "man.planting_details['SPRL'] = 2"
   ]
  },
  {
   "cell_type": "code",
   "execution_count": 11,
   "id": "53603ee8",
   "metadata": {},
   "outputs": [
    {
     "name": "stdout",
     "output_type": "stream",
     "text": [
      "/tmp/dssatduyhkmfw created.\n",
      "Static files copied to /tmp/dssatduyhkmfw.\n",
      "RUN    TRT FLO MAT TOPWT HARWT  RAIN  TIRR   CET  PESW  TNUP  TNLF   TSON TSOC\n",
      "           dap dap kg/ha kg/ha    mm    mm    mm    mm kg/ha kg/ha  kg/ha t/ha\n",
      "  1 PT   1  29 -99 10206  9193     0   200   315     0     0   -99      0  206\n"
     ]
    }
   ],
   "source": [
    "dssat = DSSAT()\n",
    "dssat.setup()\n",
    "dssat.run(\n",
    "    soil=soil, weather=wth, crop=crop, management=man,\n",
    ")\n",
    "# Run and check the final Yield"
   ]
  },
  {
   "cell_type": "code",
   "execution_count": 12,
   "id": "7bc04a43",
   "metadata": {},
   "outputs": [
    {
     "name": "stdout",
     "output_type": "stream",
     "text": [
      "RUN    TRT FLO MAT TOPWT HARWT  RAIN  TIRR   CET  PESW  TNUP  TNLF   TSON TSOC\n",
      "           dap dap kg/ha kg/ha    mm    mm    mm    mm kg/ha kg/ha  kg/ha t/ha\n",
      "  1 PT   1  29 -99  3136  2461     0    80   202     0     0   -99      0  206\n"
     ]
    }
   ],
   "source": [
    "# Modify the irrigation amounts and check output\n",
    "schedule['IRVAL'] = [20, 20, 20, 20]\n",
    "man.irrigation['table'] = TabularSubsection(schedule)\n",
    "dssat.run(\n",
    "    soil=soil, weather=wth, crop=crop, management=man,\n",
    ")"
   ]
  },
  {
   "cell_type": "code",
   "execution_count": 13,
   "id": "ae21abf0",
   "metadata": {
    "scrolled": false
   },
   "outputs": [
    {
     "name": "stdout",
     "output_type": "stream",
     "text": [
      "/tmp/dssatduyhkmfw and its content has been removed.\n"
     ]
    }
   ],
   "source": [
    "# Terminate the DSSAT instance\n",
    "dssat.close()"
   ]
  }
 ],
 "metadata": {
  "kernelspec": {
   "display_name": "Python 3 (ipykernel)",
   "language": "python",
   "name": "python3"
  },
  "language_info": {
   "codemirror_mode": {
    "name": "ipython",
    "version": 3
   },
   "file_extension": ".py",
   "mimetype": "text/x-python",
   "name": "python",
   "nbconvert_exporter": "python",
   "pygments_lexer": "ipython3",
   "version": "3.9.12"
  }
 },
 "nbformat": 4,
 "nbformat_minor": 5
}
