{
 "cells": [
  {
   "cell_type": "markdown",
   "id": "e057e62e",
   "metadata": {},
   "source": [
    "# DSSATTools Example notebook\n",
    "\n",
    "In this notebook you'll see the basic usage of DSSATools library to:\n",
    "1. Create the inputs\n",
    "2. Initialize the simulation environment\n",
    "3. Run simulations\n",
    "4. Modify input objects\n",
    "5. Read outputs.\n",
    "\n",
    "The idea of this library is to be a low-code interface to DSSAT"
   ]
  },
  {
   "cell_type": "code",
   "execution_count": 1,
   "id": "2b88ac7d",
   "metadata": {},
   "outputs": [],
   "source": [
    "from DSSATTools import (\n",
    "    Crop, SoilProfile, WeatherData, WeatherStation,\n",
    "    Management, DSSAT, TabularSubsection\n",
    ")\n",
    "import pandas as pd\n",
    "from datetime import datetime, timedelta\n",
    "import numpy as np"
   ]
  },
  {
   "cell_type": "code",
   "execution_count": 7,
   "id": "999437bd",
   "metadata": {},
   "outputs": [],
   "source": [
    "# Random weather data\n",
    "DATES = pd.date_range('2000-01-01', '2002-12-31')\n",
    "N = len(DATES)\n",
    "df = pd.DataFrame(\n",
    "    {\n",
    "    'tn': np.random.gamma(10, 1, N),\n",
    "    'rad': np.random.gamma(10, 1.5, N),\n",
    "    'prec': [0.0]* N,\n",
    "    'rh': 100 * np.random.beta(1.5, 1.15, N),\n",
    "    },\n",
    "    index=DATES,\n",
    ")\n",
    "df['TMAX'] = df.tn + np.random.gamma(5., .5, N)"
   ]
  },
  {
   "cell_type": "markdown",
   "id": "56d23ccb",
   "metadata": {},
   "source": [
    "## Creating Weather, Soil and Crop instances"
   ]
  },
  {
   "cell_type": "code",
   "execution_count": 8,
   "id": "ff3eb00a",
   "metadata": {},
   "outputs": [
    {
     "name": "stdout",
     "output_type": "stream",
     "text": [
      "\n"
     ]
    }
   ],
   "source": [
    "# Create a WeatherData instance\n",
    "WTH_DATA = WeatherData(\n",
    "    df,\n",
    "    variables={\n",
    "        'tn': 'TMIN', 'TMAX': 'TMAX',\n",
    "        'prec': 'RAIN', 'rad': 'SRAD',\n",
    "        'rh': 'RHUM'\n",
    "    }\n",
    ")\n",
    "# Create a WheaterStation instance\n",
    "wth = WeatherStation(\n",
    "    WTH_DATA, \n",
    "    {'ELEV': 33, 'LAT': 0, 'LON': 0, 'INSI': 'dpoes'}\n",
    ")\n",
    "\n",
    "# Soil instance from default soil profile\n",
    "soil = SoilProfile(default_class='SIC')\n",
    "\n",
    "# Crop\n",
    "crop = Crop('Potato')"
   ]
  },
  {
   "cell_type": "markdown",
   "id": "5ef9926d",
   "metadata": {},
   "source": [
    "## Defining irrigation schedule"
   ]
  },
  {
   "cell_type": "code",
   "execution_count": 30,
   "id": "afac3126",
   "metadata": {},
   "outputs": [
    {
     "data": {
      "text/html": [
       "<div>\n",
       "<style scoped>\n",
       "    .dataframe tbody tr th:only-of-type {\n",
       "        vertical-align: middle;\n",
       "    }\n",
       "\n",
       "    .dataframe tbody tr th {\n",
       "        vertical-align: top;\n",
       "    }\n",
       "\n",
       "    .dataframe thead th {\n",
       "        text-align: right;\n",
       "    }\n",
       "</style>\n",
       "<table border=\"1\" class=\"dataframe\">\n",
       "  <thead>\n",
       "    <tr style=\"text-align: right;\">\n",
       "      <th></th>\n",
       "      <th>IDATE</th>\n",
       "      <th>IROP</th>\n",
       "      <th>IRVAL</th>\n",
       "    </tr>\n",
       "  </thead>\n",
       "  <tbody>\n",
       "    <tr>\n",
       "      <th>0</th>\n",
       "      <td>00015</td>\n",
       "      <td>IR001</td>\n",
       "      <td>80</td>\n",
       "    </tr>\n",
       "    <tr>\n",
       "      <th>1</th>\n",
       "      <td>00030</td>\n",
       "      <td>IR001</td>\n",
       "      <td>60</td>\n",
       "    </tr>\n",
       "    <tr>\n",
       "      <th>2</th>\n",
       "      <td>00046</td>\n",
       "      <td>IR001</td>\n",
       "      <td>40</td>\n",
       "    </tr>\n",
       "    <tr>\n",
       "      <th>3</th>\n",
       "      <td>00061</td>\n",
       "      <td>IR001</td>\n",
       "      <td>20</td>\n",
       "    </tr>\n",
       "  </tbody>\n",
       "</table>\n",
       "</div>"
      ],
      "text/plain": [
       "   IDATE   IROP  IRVAL\n",
       "0  00015  IR001     80\n",
       "1  00030  IR001     60\n",
       "2  00046  IR001     40\n",
       "3  00061  IR001     20"
      ]
     },
     "execution_count": 30,
     "metadata": {},
     "output_type": "execute_result"
    }
   ],
   "source": [
    "schedule = pd.DataFrame([\n",
    "    (datetime(2000,1,15), 80),\n",
    "    (datetime(2000,1,30), 60),\n",
    "    (datetime(2000,2,15), 40),\n",
    "    (datetime(2000,3,1),  20)\n",
    "], columns = ['date', 'IRVAL'])\n",
    "schedule['IDATE'] = schedule.date.dt.strftime('%y%j')\n",
    "schedule['IROP'] = 'IR001' # Code to define the irrigation operation\n",
    "schedule = schedule[['IDATE', 'IROP', 'IRVAL']]\n",
    "schedule"
   ]
  },
  {
   "cell_type": "markdown",
   "id": "3ce6d4e1",
   "metadata": {},
   "source": [
    "## Create a management instance"
   ]
  },
  {
   "cell_type": "code",
   "execution_count": 31,
   "id": "6df91167",
   "metadata": {
    "scrolled": true
   },
   "outputs": [],
   "source": [
    "# Management instance\n",
    "man = Management(\n",
    "    cultivar='IB0001',\n",
    "    planting_date=DATES[10],\n",
    ")\n",
    "# Modify harvest to Maturity\n",
    "man.simulation_controls['HARVS'] = 'M'\n",
    "# Set the irrigation schedule\n",
    "man.irrigation['table'] = TabularSubsection(schedule)\n",
    "# Set irrigation control as reported schedule\n",
    "man.simulation_controls['IRRIG'] = 'R'\n",
    "\n",
    "# The definition of this parameters is mandatory for roots\n",
    "man.planting_details['table']['PLWT'] = 1500\n",
    "man.planting_details['table']['SPRL'] = 2"
   ]
  },
  {
   "cell_type": "code",
   "execution_count": 32,
   "id": "53603ee8",
   "metadata": {},
   "outputs": [
    {
     "name": "stdout",
     "output_type": "stream",
     "text": [
      "/tmp/dssatbijrzino created.\n",
      "Static files copied to /tmp/dssatbijrzino.\n",
      "RUN    TRT FLO MAT TOPWT HARWT  RAIN  TIRR   CET  PESW  TNUP  TNLF   TSON TSOC\n",
      "           dap dap kg/ha kg/ha    mm    mm    mm    mm kg/ha kg/ha  kg/ha t/ha\n",
      "  1 PT   1  29 -99 10974  9268     0   200   328     0     0   -99      0  206\n"
     ]
    }
   ],
   "source": [
    "dssat = DSSAT()\n",
    "dssat.setup()\n",
    "dssat.run(\n",
    "    soil=soil, weather=wth, crop=crop, management=man,\n",
    ")\n",
    "# Run and check the final Yield"
   ]
  },
  {
   "cell_type": "code",
   "execution_count": 33,
   "id": "7bc04a43",
   "metadata": {},
   "outputs": [
    {
     "name": "stdout",
     "output_type": "stream",
     "text": [
      "RUN    TRT FLO MAT TOPWT HARWT  RAIN  TIRR   CET  PESW  TNUP  TNLF   TSON TSOC\n",
      "           dap dap kg/ha kg/ha    mm    mm    mm    mm kg/ha kg/ha  kg/ha t/ha\n",
      "  1 PT   1  28 -99  3049  2295     0    80   205     0     0   -99      0  206\n"
     ]
    }
   ],
   "source": [
    "# Modify the irrigation amounts and check output\n",
    "schedule['IRVAL'] = [20, 20, 20, 20]\n",
    "man.irrigation['table'] = TabularSubsection(schedule)\n",
    "dssat.run(\n",
    "    soil=soil, weather=wth, crop=crop, management=man,\n",
    ")"
   ]
  },
  {
   "cell_type": "code",
   "execution_count": 34,
   "id": "ae21abf0",
   "metadata": {
    "scrolled": false
   },
   "outputs": [
    {
     "name": "stdout",
     "output_type": "stream",
     "text": [
      "/tmp/dssatbijrzino and its content has been removed.\n"
     ]
    }
   ],
   "source": [
    "# Terminate the DSSAT instance\n",
    "dssat.close()"
   ]
  }
 ],
 "metadata": {
  "kernelspec": {
   "display_name": "Python 3 (ipykernel)",
   "language": "python",
   "name": "python3"
  },
  "language_info": {
   "codemirror_mode": {
    "name": "ipython",
    "version": 3
   },
   "file_extension": ".py",
   "mimetype": "text/x-python",
   "name": "python",
   "nbconvert_exporter": "python",
   "pygments_lexer": "ipython3",
   "version": "3.9.7"
  }
 },
 "nbformat": 4,
 "nbformat_minor": 5
}
